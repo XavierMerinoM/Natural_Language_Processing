{
 "cells": [
  {
   "cell_type": "markdown",
   "id": "8ca99307-2966-4b33-b6f5-85e3da84468d",
   "metadata": {
    "id": "8ca99307-2966-4b33-b6f5-85e3da84468d"
   },
   "source": [
    "## Project Main Details"
   ]
  },
  {
   "cell_type": "markdown",
   "id": "7176b3de-2b3a-45fc-894f-fdfafd2a7e90",
   "metadata": {
    "id": "7176b3de-2b3a-45fc-894f-fdfafd2a7e90"
   },
   "source": [
    "**Title**: Topic Modeling of IELTS Task 2 essays\\\n",
    "**Topic**: Natural Language Processing"
   ]
  },
  {
   "cell_type": "markdown",
   "id": "056927d6-8120-40a1-aa38-ee5c20cb8e6d",
   "metadata": {
    "id": "056927d6-8120-40a1-aa38-ee5c20cb8e6d"
   },
   "source": [
    "## Introduction"
   ]
  },
  {
   "cell_type": "markdown",
   "id": "5836ca80-fbd1-43dc-a20c-f84eb432382e",
   "metadata": {
    "id": "5836ca80-fbd1-43dc-a20c-f84eb432382e"
   },
   "source": [
    "One of the key variables of international students is the assessment of their level of English. One of the most widely known and accepted tests worldwide is the IELTS, which assesses four aspects: listening, speaking, reading, and writing. The most challenging section is the writing, specifically the second task. This task is to write an essay on a given topic (both Academic and General Training). The challenge comes because of the time pressure, task complexity, and scoring criteria. This project presents a topic modelling of the second task from the IELTS essay. The aim of this project is to cluster the essays to identify their topics and suggest to future test takers topics to practice."
   ]
  },
  {
   "cell_type": "markdown",
   "id": "06c7a1ab-b956-4142-9f19-933bb14447a0",
   "metadata": {},
   "source": [
    "# 1. Data Preprocessing with SpaCy"
   ]
  },
  {
   "cell_type": "markdown",
   "id": "8369a877-b1fb-4f09-ab4a-cef2f58e8e74",
   "metadata": {},
   "source": [
    "**Collect relevant datasets.**"
   ]
  },
  {
   "cell_type": "markdown",
   "id": "17a78f2f-b46b-46e2-b72d-2c40c5b9782c",
   "metadata": {},
   "source": [
    "The present dataset comes from the Kaggle ['IELTS Writing Scored Essays Dataset'](https://www.kaggle.com/datasets/mazlumi/ielts-writing-scored-essays-dataset/data). The first step is to load the dataset."
   ]
  },
  {
   "cell_type": "code",
   "execution_count": 1,
   "id": "10591829-a81d-4240-9746-7bc2dfbf7202",
   "metadata": {},
   "outputs": [],
   "source": [
    "import spacy\n",
    "import pandas as pd\n",
    "import numpy as np\n",
    "from itertools import product\n",
    "\n",
    "import gensim\n",
    "from gensim import corpora\n",
    "from gensim.models.ldamodel import LdaModel\n",
    "from gensim.models.coherencemodel import CoherenceModel\n",
    "\n",
    "import matplotlib.pyplot as plt\n",
    "\n",
    "from sklearn.metrics import silhouette_score, davies_bouldin_score, calinski_harabasz_score\n",
    "from sklearn.preprocessing import MinMaxScaler\n",
    "from sklearn.cluster import KMeans\n",
    "from sklearn.decomposition import PCA\n",
    "from sklearn.manifold import TSNE\n",
    "\n",
    "from transformers import BertTokenizer, BertModel\n",
    "import torch"
   ]
  },
  {
   "cell_type": "code",
   "execution_count": 2,
   "id": "ec14089b-c896-425e-8b60-a0bed885ac94",
   "metadata": {},
   "outputs": [],
   "source": [
    "# Loading the dataset\n",
    "df = pd.read_csv('ielts_writing_dataset.csv', header=0)"
   ]
  },
  {
   "cell_type": "markdown",
   "id": "6a6ee99d-9c39-4f7b-b75f-e08f39158d8c",
   "metadata": {},
   "source": [
    "The next cell presents a resume of the information about the dataset. For this project, the column Essay is going to be used. In addition, the task type is going to be filtered to get only the second task."
   ]
  },
  {
   "cell_type": "code",
   "execution_count": 21,
   "id": "02b32760-8f16-4e43-8c8d-82b3bed06f47",
   "metadata": {},
   "outputs": [
    {
     "name": "stdout",
     "output_type": "stream",
     "text": [
      "<class 'pandas.core.frame.DataFrame'>\n",
      "RangeIndex: 1435 entries, 0 to 1434\n",
      "Data columns (total 9 columns):\n",
      " #   Column              Non-Null Count  Dtype  \n",
      "---  ------              --------------  -----  \n",
      " 0   Task_Type           1435 non-null   int64  \n",
      " 1   Question            1435 non-null   object \n",
      " 2   Essay               1435 non-null   object \n",
      " 3   Examiner_Commen     62 non-null     object \n",
      " 4   Task_Response       0 non-null      float64\n",
      " 5   Coherence_Cohesion  0 non-null      float64\n",
      " 6   Lexical_Resource    0 non-null      float64\n",
      " 7   Range_Accuracy      0 non-null      float64\n",
      " 8   Overall             1435 non-null   float64\n",
      "dtypes: float64(5), int64(1), object(3)\n",
      "memory usage: 101.0+ KB\n"
     ]
    }
   ],
   "source": [
    "df.info()"
   ]
  },
  {
   "cell_type": "code",
   "execution_count": 3,
   "id": "c611edfb-2671-4f8e-9af8-095bc08c3860",
   "metadata": {},
   "outputs": [
    {
     "data": {
      "text/plain": [
       "1       Poverty represents a worldwide crisis. It is t...\n",
       "3       Human beings are facing many challenges nowada...\n",
       "5       Whether countries should only invest facilitie...\n",
       "7       Sports is an essential part to most of us , so...\n",
       "9       International sports events require the most w...\n",
       "                              ...                        \n",
       "1430    Serious crimes need capital punishment so that...\n",
       "1431    It is certainly said that learning is an ongoi...\n",
       "1432    popular hobbies rather than their individual a...\n",
       "1433    Yes, I do feel that universities should have a...\n",
       "1434    The modern medicine is very important for livi...\n",
       "Name: Essay, Length: 793, dtype: object"
      ]
     },
     "execution_count": 3,
     "metadata": {},
     "output_type": "execute_result"
    }
   ],
   "source": [
    "df_filtered = df[df['Task_Type'] == 2]['Essay']\n",
    "df_filtered"
   ]
  },
  {
   "cell_type": "markdown",
   "id": "b3fe6d73-1617-4607-9f8e-6ec75c1480c7",
   "metadata": {
    "id": "70284125-2007-447f-883f-5fd4b47d1745"
   },
   "source": [
    "After getting the final dataset, some general preprocessing tasks are executed. After this, the dataset is ready to preprocess NLP preprocessing tasks."
   ]
  },
  {
   "cell_type": "code",
   "execution_count": 4,
   "id": "3bf00788-8a2d-4f58-8577-101dcac60922",
   "metadata": {
    "id": "3bf00788-8a2d-4f58-8577-101dcac60922"
   },
   "outputs": [],
   "source": [
    "# Removing duplicates\n",
    "df_filtered_nd = df_filtered.drop_duplicates()\n",
    "\n",
    "# Handling missing values\n",
    "df_pr = df_filtered_nd.dropna()"
   ]
  },
  {
   "cell_type": "markdown",
   "id": "19ddce77-0863-4727-acae-93d5288f2d2d",
   "metadata": {},
   "source": [
    "**Preprocess the text data.**"
   ]
  },
  {
   "cell_type": "markdown",
   "id": "6ef50ff2-bbd2-4f21-b99c-82eacb58a1f6",
   "metadata": {},
   "source": [
    "The first step is to load the model"
   ]
  },
  {
   "cell_type": "code",
   "execution_count": 5,
   "id": "eaa001f5-2d30-4d9a-9dcd-e21411236143",
   "metadata": {},
   "outputs": [],
   "source": [
    "nlp = spacy.load(\"en_core_web_lg\")"
   ]
  },
  {
   "cell_type": "markdown",
   "id": "313169d6-af58-4f37-b9e7-4a0f13caac83",
   "metadata": {},
   "source": [
    "Then, it is necessary to define the function to preprocess the text with NLP methods"
   ]
  },
  {
   "cell_type": "code",
   "execution_count": 6,
   "id": "31b93276-890b-4725-8935-6e5043eb9348",
   "metadata": {},
   "outputs": [],
   "source": [
    "# Function to preprocess the text data\n",
    "def clean_data(data):\n",
    "    texts = []\n",
    "\n",
    "    for row in data:\n",
    "        # lower case the text\n",
    "        lowered_row = nlp(row.lower())\n",
    "        \n",
    "        # remove punctuations, extra whitespace, stop words, and numbers\n",
    "        tokens_processed = [token.text for token in nlp(lowered_row) if (not token.is_punct) and \\\n",
    "                                                                        (not token.is_space) and \\\n",
    "                                                                        (not token.is_stop) and \\\n",
    "                                                                        (not token.is_digit)]\n",
    "\n",
    "        # remove special characters\n",
    "        cleaned_tokens = [token.text for token in nlp(' '.join(tokens_processed)) if token.is_alpha]\n",
    "        \n",
    "        # return lemma \n",
    "        lemma_row = [token.lemma_ for token in nlp(' '.join(cleaned_tokens))]\n",
    "\n",
    "        # append cleaned resume to the full data\n",
    "        texts.append(lemma_row)\n",
    "    \n",
    "    return texts"
   ]
  },
  {
   "cell_type": "markdown",
   "id": "3d5830c6-fa37-42dd-97bd-83d0d1790890",
   "metadata": {},
   "source": [
    "It is time to preprocess with the previous defined function"
   ]
  },
  {
   "cell_type": "code",
   "execution_count": 7,
   "id": "17feb4ee-60f5-4e55-9561-2d799c37fd94",
   "metadata": {},
   "outputs": [],
   "source": [
    "cleaned_data = clean_data(df_pr)"
   ]
  },
  {
   "cell_type": "markdown",
   "id": "841b35c8-60d2-4097-a918-f32fcf8aa60c",
   "metadata": {},
   "source": [
    "## 2. Model Selection and Group Formation"
   ]
  },
  {
   "cell_type": "markdown",
   "id": "bf99e707-2cbb-4613-8fff-c88c4c09ab47",
   "metadata": {
    "jp-MarkdownHeadingCollapsed": true
   },
   "source": [
    "### Model 1 - LDA - Model definition"
   ]
  },
  {
   "cell_type": "markdown",
   "id": "2f266797-13f2-44ca-a0b7-526e32996de1",
   "metadata": {},
   "source": [
    "LDA is the chosen model because of their assumptions: documents are mixtures of topics and that topics are mixtures of words. It is a good approach of topic modelling. It relies in three principles:\n",
    "1. **Document-Topic Distribution:** The probability distribution that a specific document belongs to a multiple topics.\n",
    "2. **Topic-Word Distribution:** The probability distribution of topics defined by a set of words. \n",
    "3. **Generative Process:** LDA uses a generative process to create documents. This involves:\n",
    "    - Choosing a distribution of topics for each document.\n",
    "    - For each word in the document, selecting a topic based on the topic distribution.\n",
    "    - Generating the word from the selected topic's word distribution.\n",
    "\n",
    "The first step is to generate a dictionary and corpus with the dataset. They are necessary to create the model. Bag of words is the word embedding method used by the library to generate the corpus."
   ]
  },
  {
   "cell_type": "code",
   "execution_count": 22,
   "id": "9fc9d582-edb5-4ad0-8952-75e2e8c03892",
   "metadata": {},
   "outputs": [],
   "source": [
    "# Create a dictionary and corpus for LDA\n",
    "dictionary = corpora.Dictionary(cleaned_data)\n",
    "# create the corpus for LDA\n",
    "corpus = [dictionary.doc2bow(essay) for essay in cleaned_data]"
   ]
  },
  {
   "cell_type": "markdown",
   "id": "8226eb4c-8709-405e-ba32-eb72eae68b0f",
   "metadata": {},
   "source": [
    "Now the dataset is splitted into training and test corpus"
   ]
  },
  {
   "cell_type": "code",
   "execution_count": 9,
   "id": "3c318cee-007b-46d8-9b06-69a287eeb511",
   "metadata": {},
   "outputs": [],
   "source": [
    "train_crp = corpus[:int(len(corpus) * 0.8)]\n",
    "test_crp = corpus[int(len(corpus) * 0.8):]"
   ]
  },
  {
   "cell_type": "markdown",
   "id": "4d157cb5-a25b-4daf-b18a-d8d54eb8b1ba",
   "metadata": {},
   "source": [
    "### Model 2 - BERT + K-Means++"
   ]
  },
  {
   "cell_type": "markdown",
   "id": "519c3551-13a3-4eef-acaf-b2f6c204349e",
   "metadata": {},
   "source": [
    "BERT was selected because of its bidirectional approach, which is suitable for language modelling and, in this case, better clustering. In addition, BERT captures the context more effectively, making the distribution of clusters more effective.\\\n",
    "K-Means was selected for clustering because of its simplicity but effectiveness processing. It clusters data in groups based on their similarity. It is a good approach for topic modelling tasks. The K-Means++ improved method is going to be implemented because of its refined cluster center selection based on the data. \\\n",
    "The first step is to generate the embeddings. Due to the nature of BERT, no preprocessing steps are involved. Thus, the raw dataset is going to be used to create the embeddings."
   ]
  },
  {
   "cell_type": "code",
   "execution_count": 9,
   "id": "0fe72219-f260-4e6b-b312-e968b075280f",
   "metadata": {},
   "outputs": [],
   "source": [
    "# Function to preprocess the text data for BERT\n",
    "def generate_embeds_bert(data):\n",
    "    # Load pre-trained model tokenizer (vocabulary)\n",
    "    tokenizer = BertTokenizer.from_pretrained('bert-base-uncased')\n",
    "    # Load pre-trained model\n",
    "    model = BertModel.from_pretrained('bert-base-uncased')\n",
    "\n",
    "    # Join data in a single line to process\n",
    "    text = \" \".join(data)\n",
    "    # Encode text with truncation and padding\n",
    "    encoded_input = tokenizer.encode_plus(text, add_special_tokens=True, max_length=512,\n",
    "                                          truncation=True, padding='max_length', return_tensors='pt')\n",
    "\n",
    "    # Get the hidden states from the model\n",
    "    with torch.no_grad():\n",
    "        outputs = model(**encoded_input)\n",
    "\n",
    "    return outputs.last_hidden_state"
   ]
  },
  {
   "cell_type": "code",
   "execution_count": 10,
   "id": "a70094bb-648b-4834-991f-f2d093dd7042",
   "metadata": {},
   "outputs": [],
   "source": [
    "# Generate the embeddings with the raw dataset\n",
    "bert_embeds = generate_embeds_bert(df_pr)"
   ]
  },
  {
   "cell_type": "markdown",
   "id": "479e3f7c-9d40-4fbb-9ad6-4549f818efb6",
   "metadata": {},
   "source": [
    "## 3. Model Training and Hyperparameter Tuning"
   ]
  },
  {
   "cell_type": "markdown",
   "id": "02f3c82b-f403-4e0e-92f6-5e770292f6df",
   "metadata": {
    "jp-MarkdownHeadingCollapsed": true
   },
   "source": [
    "### Model 1 - LDA - Training"
   ]
  },
  {
   "cell_type": "markdown",
   "id": "e1b7a8d8-ee77-422a-829a-13122fef6f18",
   "metadata": {},
   "source": [
    "First, it is necessary to know the number of topics from the dataset. To get an approximate, the number of unique questions are counted."
   ]
  },
  {
   "cell_type": "code",
   "execution_count": 14,
   "id": "ae46444b-00e1-419b-96d4-74a9652da7f7",
   "metadata": {},
   "outputs": [
    {
     "name": "stdout",
     "output_type": "stream",
     "text": [
      "Number of topics (column consideration): 275\n"
     ]
    }
   ],
   "source": [
    "num_topics = len(list(df[df['Task_Type'] == 2]['Question'].unique()))\n",
    "print(f\"Number of topics (column consideration): {num_topics}\")"
   ]
  },
  {
   "cell_type": "markdown",
   "id": "a8b23548-5a26-4833-a567-001d7d072e4f",
   "metadata": {},
   "source": [
    "The number of topics is too high. It will be considered the 10% (27-28) from this result. The building process of LDA model involves the training phase. In the following code, a function to train the model is created."
   ]
  },
  {
   "cell_type": "code",
   "execution_count": 23,
   "id": "464b8b23-9c6a-404e-a267-7c83bf416f32",
   "metadata": {},
   "outputs": [],
   "source": [
    "def train_lda_model(train_crp, dictionary, num_topics, alpha_list, eta_list,\n",
    "                   passes = 10, chunksize = 10):\n",
    "    # defining outputs\n",
    "    model_list = []\n",
    "    model_hpr_prm = {'num_topics': [], 'alpha_list' : [], 'eta_list' : []}\n",
    "\n",
    "    # Grid search of hyperparameters  \n",
    "    for num_topics in range(num_topics[0], num_topics[1], num_topics[2]):\n",
    "        for alpha in alpha_list:\n",
    "            for eta in eta_list:\n",
    "                # Model training\n",
    "                model = LdaModel(corpus=train_crp, id2word=dictionary, \n",
    "                                 passes=passes, chunksize = chunksize,\n",
    "                                 num_topics=num_topics, alpha=alpha, eta=eta)\n",
    "                model_list.append(model)\n",
    "\n",
    "                # Append hyperparameters to the list to track\n",
    "                model_hpr_prm['num_topics'].append(num_topics)\n",
    "                model_hpr_prm['alpha_list'].append(alpha)\n",
    "                model_hpr_prm['eta_list'].append(eta)\n",
    "\n",
    "    #return model_list, coherence_values, perplexity_values, model_settings\n",
    "    return model_list, model_hpr_prm"
   ]
  },
  {
   "cell_type": "markdown",
   "id": "ee6f4026-3253-402e-a091-c9853e80ed69",
   "metadata": {},
   "source": [
    "For fine-tuning, three hyperparameters are considered:\n",
    "- **Number of topics:** Fundamental parameter in topic modelling. It takes the 10% of the value-based in the columns in a range of plus-minus 5 with a step of 4. \n",
    "- **Alpha:** A-priori belief on document-topic distribution. For this process, default prior strategies are selected.\n",
    "- **Eta:** A-priori belief on topic-word distribution. For this process, default prior strategies are used.\n",
    "\n",
    "In addition, other parameters are considered in the process:\n",
    "- **passes:** Number of passes through the corpus during training. For this process, it is 10.\n",
    "- **chunksize:** Number of documents to be used in each training chunk. For this process, it is 10."
   ]
  },
  {
   "cell_type": "code",
   "execution_count": 12,
   "id": "3b524df6-8ff5-4fea-9a37-8752df074cfc",
   "metadata": {},
   "outputs": [],
   "source": [
    "# Hyperparameter definition\n",
    "num_topics_smpl = int(num_topics * 0.1)\n",
    "num_topics_list = [num_topics_smpl - 5, num_topics_smpl + 5, 4]\n",
    "alpha_list_lda = ['symmetric','asymmetric','auto']\n",
    "eta_list_lda = ['symmetric','auto']\n",
    "\n",
    "# Training LDA model\n",
    "model_list_lda, model_hpr_prm_lds = train_lda_model(train_crp=train_crp,\n",
    "                                                    dictionary=dictionary,\n",
    "                                                    num_topics=num_topics_list, \n",
    "                                                    alpha_list=alpha_list_lda, \n",
    "                                                    eta_list=eta_list_lda)"
   ]
  },
  {
   "cell_type": "markdown",
   "id": "5c1ebd08-27b8-4c4a-9ef8-8f70ccaa7d37",
   "metadata": {},
   "source": [
    "### Model 2 - BERT + K-Means++ - Training"
   ]
  },
  {
   "cell_type": "markdown",
   "id": "acfbaf32-6a50-4091-978c-6c568ce44a28",
   "metadata": {},
   "source": [
    "For number of topics, the same consideration of LDA is considered."
   ]
  },
  {
   "cell_type": "code",
   "execution_count": 11,
   "id": "d98e16ab-c880-4dd7-9b89-d3409281548c",
   "metadata": {},
   "outputs": [
    {
     "name": "stdout",
     "output_type": "stream",
     "text": [
      "Number of topics (column consideration): 275\n"
     ]
    }
   ],
   "source": [
    "num_topics = len(list(df[df['Task_Type'] == 2]['Question'].unique()))\n",
    "print(f\"Number of topics (column consideration): {num_topics}\")"
   ]
  },
  {
   "cell_type": "markdown",
   "id": "9ca8259b-6b73-4e91-b286-de170567022d",
   "metadata": {},
   "source": [
    "The first step is split the embeddings into training and test. "
   ]
  },
  {
   "cell_type": "code",
   "execution_count": 12,
   "id": "262607ff-f7ae-4d5b-a36c-2ce336fbdb40",
   "metadata": {},
   "outputs": [],
   "source": [
    "train_bert = bert_embeds[0,:int(len(bert_embeds[0]) * 0.8),:]\n",
    "test_bert = bert_embeds[0,int(len(bert_embeds[0]) * 0.8):,:]"
   ]
  },
  {
   "cell_type": "markdown",
   "id": "25732609-62b1-47e5-a52c-dbff8987207a",
   "metadata": {},
   "source": [
    "The following function implements the training process for k-means++. KMeans definition has the init parameter, here only 'kmeans++' value is needed."
   ]
  },
  {
   "cell_type": "code",
   "execution_count": 13,
   "id": "e359e2b2-b944-4b51-b4a8-cf16acf54986",
   "metadata": {},
   "outputs": [],
   "source": [
    "def train_kmeans_pp(data, num_topics, num_init = ['auto'], num_iter=[300], tolerance=0.0001):\n",
    "    # defining outputs\n",
    "    model_list = []\n",
    "    inertias_list = []\n",
    "    model_hpr_prm = {'n_clusters': [], 'n_init' : [], 'max_iter' : []}\n",
    "\n",
    "    # Dimensionality reduction using t-SNE\n",
    "    tsne = TSNE(n_components=2, random_state=42)  # reduce to 2 components\n",
    "    data_tsne = tsne.fit_transform(data.numpy())\n",
    "    \n",
    "    # Grid search of hyperparameters  \n",
    "    for num_top in range(num_topics[0], num_topics[1], num_topics[2]):\n",
    "        for num in num_init:\n",
    "            for n_iter in num_iter:\n",
    "                # Model training\n",
    "                model = KMeans(n_clusters=num_top, n_init=num, max_iter=n_iter,\n",
    "                              init='k-means++', tol=tolerance)\n",
    "                model.fit(data_tsne)\n",
    "                inertias_list.append(model.inertia_)\n",
    "                model_list.append(model)\n",
    "\n",
    "                # Append hyperparameters to the list to track\n",
    "                model_hpr_prm['n_clusters'].append(num_top)\n",
    "                model_hpr_prm['n_init'].append(num)\n",
    "                model_hpr_prm['max_iter'].append(n_iter)\n",
    "\n",
    "    return model_list, inertias_list, model_hpr_prm"
   ]
  },
  {
   "cell_type": "markdown",
   "id": "4923f013-f1d7-4b35-8723-37b589796323",
   "metadata": {},
   "source": [
    "For fine-tuning, there is one crucial parameter to tune first:\n",
    "- **Number of topics (clusters):** Fundamental parameter in topic modelling. To select the best, the Elbow Method is used. The process is going to search for a number of clusters between 2 and the number of clusters calculated in mode 1 in steps of 2. The inertia of models is obtained for each iteration and then plotted.\n",
    "\n",
    "In addition, other parameters are considered in the process:\n",
    "- **Method for initialization (init):** For this process, k-means++ is used.\n",
    "- **Tolerance:** Relative tolerance with regards to inertia to declare convergence. For this process, it is 0.0001."
   ]
  },
  {
   "cell_type": "code",
   "execution_count": 14,
   "id": "2b496cc7-5647-45a9-8963-68f77b5b6a33",
   "metadata": {
    "scrolled": true
   },
   "outputs": [
    {
     "name": "stderr",
     "output_type": "stream",
     "text": [
      "C:\\ProgramData\\anaconda3\\envs\\NLP1_Project2\\Lib\\site-packages\\sklearn\\cluster\\_kmeans.py:1419: UserWarning: KMeans is known to have a memory leak on Windows with MKL, when there are less chunks than available threads. You can avoid it by setting the environment variable OMP_NUM_THREADS=2.\n",
      "  warnings.warn(\n",
      "C:\\ProgramData\\anaconda3\\envs\\NLP1_Project2\\Lib\\site-packages\\sklearn\\cluster\\_kmeans.py:1419: UserWarning: KMeans is known to have a memory leak on Windows with MKL, when there are less chunks than available threads. You can avoid it by setting the environment variable OMP_NUM_THREADS=2.\n",
      "  warnings.warn(\n",
      "C:\\ProgramData\\anaconda3\\envs\\NLP1_Project2\\Lib\\site-packages\\sklearn\\cluster\\_kmeans.py:1419: UserWarning: KMeans is known to have a memory leak on Windows with MKL, when there are less chunks than available threads. You can avoid it by setting the environment variable OMP_NUM_THREADS=2.\n",
      "  warnings.warn(\n",
      "C:\\ProgramData\\anaconda3\\envs\\NLP1_Project2\\Lib\\site-packages\\sklearn\\cluster\\_kmeans.py:1419: UserWarning: KMeans is known to have a memory leak on Windows with MKL, when there are less chunks than available threads. You can avoid it by setting the environment variable OMP_NUM_THREADS=2.\n",
      "  warnings.warn(\n",
      "C:\\ProgramData\\anaconda3\\envs\\NLP1_Project2\\Lib\\site-packages\\sklearn\\cluster\\_kmeans.py:1419: UserWarning: KMeans is known to have a memory leak on Windows with MKL, when there are less chunks than available threads. You can avoid it by setting the environment variable OMP_NUM_THREADS=2.\n",
      "  warnings.warn(\n",
      "C:\\ProgramData\\anaconda3\\envs\\NLP1_Project2\\Lib\\site-packages\\sklearn\\cluster\\_kmeans.py:1419: UserWarning: KMeans is known to have a memory leak on Windows with MKL, when there are less chunks than available threads. You can avoid it by setting the environment variable OMP_NUM_THREADS=2.\n",
      "  warnings.warn(\n",
      "C:\\ProgramData\\anaconda3\\envs\\NLP1_Project2\\Lib\\site-packages\\sklearn\\cluster\\_kmeans.py:1419: UserWarning: KMeans is known to have a memory leak on Windows with MKL, when there are less chunks than available threads. You can avoid it by setting the environment variable OMP_NUM_THREADS=2.\n",
      "  warnings.warn(\n",
      "C:\\ProgramData\\anaconda3\\envs\\NLP1_Project2\\Lib\\site-packages\\sklearn\\cluster\\_kmeans.py:1419: UserWarning: KMeans is known to have a memory leak on Windows with MKL, when there are less chunks than available threads. You can avoid it by setting the environment variable OMP_NUM_THREADS=2.\n",
      "  warnings.warn(\n",
      "C:\\ProgramData\\anaconda3\\envs\\NLP1_Project2\\Lib\\site-packages\\sklearn\\cluster\\_kmeans.py:1419: UserWarning: KMeans is known to have a memory leak on Windows with MKL, when there are less chunks than available threads. You can avoid it by setting the environment variable OMP_NUM_THREADS=2.\n",
      "  warnings.warn(\n",
      "C:\\ProgramData\\anaconda3\\envs\\NLP1_Project2\\Lib\\site-packages\\sklearn\\cluster\\_kmeans.py:1419: UserWarning: KMeans is known to have a memory leak on Windows with MKL, when there are less chunks than available threads. You can avoid it by setting the environment variable OMP_NUM_THREADS=2.\n",
      "  warnings.warn(\n",
      "C:\\ProgramData\\anaconda3\\envs\\NLP1_Project2\\Lib\\site-packages\\sklearn\\cluster\\_kmeans.py:1419: UserWarning: KMeans is known to have a memory leak on Windows with MKL, when there are less chunks than available threads. You can avoid it by setting the environment variable OMP_NUM_THREADS=2.\n",
      "  warnings.warn(\n",
      "C:\\ProgramData\\anaconda3\\envs\\NLP1_Project2\\Lib\\site-packages\\sklearn\\cluster\\_kmeans.py:1419: UserWarning: KMeans is known to have a memory leak on Windows with MKL, when there are less chunks than available threads. You can avoid it by setting the environment variable OMP_NUM_THREADS=2.\n",
      "  warnings.warn(\n",
      "C:\\ProgramData\\anaconda3\\envs\\NLP1_Project2\\Lib\\site-packages\\sklearn\\cluster\\_kmeans.py:1419: UserWarning: KMeans is known to have a memory leak on Windows with MKL, when there are less chunks than available threads. You can avoid it by setting the environment variable OMP_NUM_THREADS=2.\n",
      "  warnings.warn(\n"
     ]
    }
   ],
   "source": [
    "# Hyperparameter definition\n",
    "num_topics_smpl_kms = int(num_topics * 0.1)\n",
    "num_topics_list_kms = [2, num_topics_smpl_kms, 2]\n",
    "\n",
    "# Trainig of k-means models\n",
    "model_list_kms, inertias_list_kms, model_hpr_prm_kms = train_kmeans_pp(data = train_bert, \n",
    "                                                                       num_topics = num_topics_list_kms)"
   ]
  },
  {
   "cell_type": "code",
   "execution_count": 15,
   "id": "7b0a97d2-b37d-46db-b4f7-913fb88fab6c",
   "metadata": {},
   "outputs": [],
   "source": [
    "# Function to generate the Elbow plot\n",
    "def plot_elbow(list_k, inertias_list):\n",
    "    # Plot sse against k\n",
    "    plt.figure(figsize=(6, 6))\n",
    "    plt.plot(list_k, inertias_list, '-o')\n",
    "    plt.xlabel(r'Number of clusters *k*')\n",
    "    plt.ylabel('Sum of squared distance')"
   ]
  },
  {
   "cell_type": "code",
   "execution_count": 16,
   "id": "39666c51-457d-4412-83e0-b26f33b84b92",
   "metadata": {},
   "outputs": [
    {
     "data": {
      "image/png": "[encoded data removed]",
      "text/plain": [
       "<Figure size 600x600 with 1 Axes>"
      ]
     },
     "metadata": {},
     "output_type": "display_data"
    }
   ],
   "source": [
    "# Plotting the results\n",
    "ranges_plot = list(range(num_topics_list_kms[0], num_topics_list_kms[1], num_topics_list_kms[2]))\n",
    "\n",
    "plot_elbow(ranges_plot, inertias_list_kms)"
   ]
  },
  {
   "cell_type": "markdown",
   "id": "fc5dc61d-c862-4160-a4d2-aab1eab85fe9",
   "metadata": {},
   "source": [
    "The elbow bends between 4 and 6. In this case, five clusters are the number selected."
   ]
  },
  {
   "cell_type": "markdown",
   "id": "92e07e04-8dc2-49b7-a941-20360fe16931",
   "metadata": {},
   "source": [
    "## 4. Performance Evaluation"
   ]
  },
  {
   "cell_type": "markdown",
   "id": "77a2418b-b9cf-4db0-85ba-6f4496fa031e",
   "metadata": {},
   "source": [
    "**Evaluate the model**"
   ]
  },
  {
   "cell_type": "markdown",
   "id": "1591e2bb-ffb6-4785-a25f-64c0c8535fec",
   "metadata": {},
   "source": [
    "To evaluate model 1, the metrics are taken considering that the model doesn't directly assign clusters to documents:\n",
    "- **Perplexity:** The lower the score, the better the generalization. However, this metric can favour models with more topics. Therefore, it will be less important in the overall analysis.\n",
    "- **Coherence:** The score range is between 0 and 1. Higher scores generally indicate more coherent and interpretable topics. It will have more importance in the analysis.\n",
    "\n",
    "For model 2, which assigns clusters, different metrics are considered:\n",
    "- **Silhouette score:** Score ranges are between -1 to +1, with higher values indicating better-defined clusters. \n",
    "- **Davies-Bouldin Index:** Evaluate the quality of clustering algorithms. Consider both intra-cluster similarity (compactness) and inter-cluster difference (separation). Lower values indicate better clustering quality.\n",
    "- **Calinski-Harabasz Index:** It balances the compactness and separation of clusters. In other words, it indicates how well the data points are grouped into distinct clusters. Higher values indicate better balance.\n",
    "\n",
    "To get the best model, an overall value is calculated from the three metrics for both models. This overall value is calculated using a weighted average with normalized values. The max value from these calculations is the best model."
   ]
  },
  {
   "cell_type": "code",
   "execution_count": 17,
   "id": "2ecd9cbd-d1b1-4dcb-8d62-50d29c892e42",
   "metadata": {},
   "outputs": [],
   "source": [
    "# Function to evaluate the model\n",
    "def evaluate_model(models, dictionary, corpus, texts):\n",
    "    # defining metrics for model 1\n",
    "    coherence_values = []\n",
    "    perplexity_values = []\n",
    "    # defining metrics for model 2\n",
    "    silhouette_values = []\n",
    "    db_values = []\n",
    "    ch_values = []\n",
    "\n",
    "    # Dictionary is sent only for LDA\n",
    "    if dictionary is None:\n",
    "        for idx in range(len(models)):\n",
    "            # Calculating silhouette_values\n",
    "            labels = models[idx].fit_predict(corpus)\n",
    "            silhouette = silhouette_score(corpus, labels)\n",
    "            silhouette_values.append(silhouette)\n",
    "            # Calculating Davies-Bouldin Index\n",
    "            db_score = davies_bouldin_score(corpus, labels)\n",
    "            db_values.append(db_score)\n",
    "            # Calculating Calinski-Harabasz Index\n",
    "            ch_score = calinski_harabasz_score(corpus, labels)\n",
    "            ch_values.append(ch_score)\n",
    "    else:\n",
    "        # Looping the models\n",
    "        for idx in range(len(models)):\n",
    "            # Calculating coherence\n",
    "            coherence = CoherenceModel(model=models[idx], texts=texts, dictionary=dictionary, coherence='c_v')\n",
    "            coherence_values.append(coherence.get_coherence())\n",
    "            # Calculating perplexity\n",
    "            log_perplexity = models[idx].log_perplexity(corpus)\n",
    "            perplexity = np.exp(log_perplexity)\n",
    "            perplexity_values.append(perplexity)\n",
    "\n",
    "    return coherence_values, perplexity_values, silhouette_values, db_values, ch_values"
   ]
  },
  {
   "cell_type": "code",
   "execution_count": 18,
   "id": "e0d5094a-1f4e-4332-b601-570d3b381a91",
   "metadata": {},
   "outputs": [],
   "source": [
    "# Function to get the best model\n",
    "def get_best_model(coherence_values = [], perplexity_values = [], silhouette_values = [],\n",
    "                   db_values = [], ch_values = []):\n",
    "    # Initializations\n",
    "    model_scores = []\n",
    "    scaler = MinMaxScaler()\n",
    "    \n",
    "    # silhouette_values are defined only for K-means\n",
    "    if len(silhouette_values) > 0:\n",
    "        # Weights\n",
    "        weights = {'Silhouette Score': 0.4, 'Davies-Bouldin Index': 0.3, 'Calinski-Harabasz Index': 0.3}\n",
    "        \n",
    "        # Scores for models\n",
    "        model_scores = [{'Silhouette Score': silhouette_values[i], \n",
    "                         'Davies-Bouldin Index': db_values[i],\n",
    "                         'Calinski-Harabasz Index': ch_values[i]}\n",
    "                         for  i in range(len(silhouette_values))]\n",
    "\n",
    "        # Normalize scores\n",
    "        normalized_scores = scaler.fit_transform([[model['Silhouette Score'], \n",
    "                                                   model['Davies-Bouldin Index'], \n",
    "                                                   model['Calinski-Harabasz Index']] \n",
    "                                                  for model in model_scores])\n",
    "    else:\n",
    "        # Weights\n",
    "        weights = {'perplexity': 0.4, 'topic_coherence': 0.6}\n",
    "\n",
    "        # Scores for models\n",
    "        model_scores = [{'perplexity': perplexity_values_lda[i], \n",
    "                         'topic_coherence': coherence_values_lda[i]}\n",
    "                         for  i in range(len(coherence_values_lda))]\n",
    "    \n",
    "        # Normalize scores\n",
    "        normalized_scores = scaler.fit_transform([[model['perplexity'], \n",
    "                                                   model['topic_coherence']] \n",
    "                                                  for model in model_scores])\n",
    "    \n",
    "    # Calculate weighted normalized scores\n",
    "    overall_scores = [\n",
    "        sum(weights[metric] * score for metric, score in zip(weights.keys(), normalized_score))\n",
    "        for normalized_score in normalized_scores\n",
    "    ]\n",
    "\n",
    "    idx_best_model = overall_scores.index(max(overall_scores))\n",
    "    \n",
    "    return overall_scores, idx_best_model"
   ]
  },
  {
   "cell_type": "markdown",
   "id": "120e07cf-3b4f-4fd4-ae14-ce53c8c59c12",
   "metadata": {
    "jp-MarkdownHeadingCollapsed": true
   },
   "source": [
    "### Model 1 - LDA - Evaluation"
   ]
  },
  {
   "cell_type": "markdown",
   "id": "870b85c5-8095-4c86-abd1-57791698b6a3",
   "metadata": {},
   "source": [
    "The evaluation of the model is performed in two steps: first, we are going to get the model evaluation values, in this case coherence and perplexity, then, get the best score of the model with the index of the best model."
   ]
  },
  {
   "cell_type": "code",
   "execution_count": 15,
   "id": "5329ee82-d221-4256-a189-ffea0115397a",
   "metadata": {},
   "outputs": [],
   "source": [
    "# Evaluate the model\n",
    "coherence_values_lda, perplexity_values_lda, _, _, _ = evaluate_model(models = model_list_lda,\n",
    "                                                            dictionary=dictionary, \n",
    "                                                            corpus=test_crp, \n",
    "                                                            texts=cleaned_data)\n",
    "# Get the best model\n",
    "scores_lda, idx_best_model_lda = get_best_model(coherence_values = coherence_values_lda, \n",
    "                                                perplexity_values = perplexity_values_lda)"
   ]
  },
  {
   "cell_type": "code",
   "execution_count": 48,
   "id": "56452ae8-9525-448b-8098-7bacbf9b841a",
   "metadata": {},
   "outputs": [],
   "source": [
    "def show_model_data(model_list, score_list, coherence_list, perplexity_list, \n",
    "                    model_hpr_prm, idx_best_model):\n",
    "    best_model_lda  = model_list[idx_best_model]\n",
    "    best_scr_lda = score_list[idx_best_model]\n",
    "    best_coh_lda = coherence_list[idx_best_model]\n",
    "    best_prp_lda = perplexity_list[idx_best_model]\n",
    "    \n",
    "    print(\"Metrics of the best model\\n\")\n",
    "    print(f\"Weighted score: {best_scr_lda:4f}\")\n",
    "    print(f\"Coherence: {best_coh_lda:4f}\")\n",
    "    print(f\"Perplexity: {best_prp_lda:4f}\")\n",
    "    print()\n",
    "    print(\"Hyperparameters: \")\n",
    "    for hyp_param in model_hpr_prm:\n",
    "        print(f\"{hyp_param}: {model_hpr_prm[hyp_param][idx_best_model]}\")\n",
    "    print(\"Real values: \")\n",
    "    print(f'Alpha: {best_model_lda.alpha[idx_best_model]:4f}')\n",
    "    print(f'Eta: {best_model_lda.eta[idx_best_model]:4f}')"
   ]
  },
  {
   "cell_type": "code",
   "execution_count": 49,
   "id": "b030a772-df89-446f-abf6-b28a15fa052f",
   "metadata": {},
   "outputs": [
    {
     "name": "stdout",
     "output_type": "stream",
     "text": [
      "Metrics of the best model\n",
      "\n",
      "Weighted score: 0.922671\n",
      "Coherence: 0.296677\n",
      "Perplexity: 0.000000\n",
      "\n",
      "Hyperparameters: \n",
      "num_topics: 22\n",
      "alpha_list: asymmetric\n",
      "eta_list: auto\n",
      "Real values: \n",
      "Alpha: 0.071044\n",
      "Eta: 0.046660\n"
     ]
    }
   ],
   "source": [
    "show_model_data(model_list_lda, scores_lda, coherence_values_lda, perplexity_values_lda, \n",
    "                model_hpr_prm_lds, idx_best_model_lda)"
   ]
  },
  {
   "cell_type": "markdown",
   "id": "7b0a62be-e5e1-450e-9a07-ab41cbbf9ca7",
   "metadata": {},
   "source": [
    "The metric for coherence is not good but the perplexity is perfect. Let's check the topics to analyze them."
   ]
  },
  {
   "cell_type": "code",
   "execution_count": 38,
   "id": "b6b38471-15f2-4dd6-b107-176d3a5ea377",
   "metadata": {},
   "outputs": [],
   "source": [
    "def print_topics(model):\n",
    "    for idx, topic in model.print_topics(-1):\n",
    "        print(f\"Topic #{idx}: {topic}\\n\")"
   ]
  },
  {
   "cell_type": "code",
   "execution_count": 40,
   "id": "6e01e850-a8d3-4a66-bef7-9d1c9363cdb5",
   "metadata": {
    "scrolled": true
   },
   "outputs": [
    {
     "name": "stdout",
     "output_type": "stream",
     "text": [
      "Topic #0: 0.000*\"change\" + 0.000*\"city\" + 0.000*\"past\" + 0.000*\"time\" + 0.000*\"woman\" + 0.000*\"circumictance\" + 0.000*\"experinced\" + 0.000*\"reasonnable\" + 0.000*\"velvet\" + 0.000*\"ar\"\n",
      "\n",
      "Topic #1: 0.000*\"demenssion\" + 0.000*\"detect\" + 0.000*\"littie\" + 0.000*\"reasonnable\" + 0.000*\"velvet\" + 0.000*\"ar\" + 0.000*\"circumictance\" + 0.000*\"glove\" + 0.000*\"experincee\" + 0.000*\"factore\"\n",
      "\n",
      "Topic #2: 0.103*\"respect\" + 0.049*\"address\" + 0.049*\"currently\" + 0.031*\"easier\" + 0.027*\"variety\" + 0.023*\"innovation\" + 0.012*\"inevitably\" + 0.012*\"possibly\" + 0.008*\"classic\" + 0.007*\"undeniable\"\n",
      "\n",
      "Topic #3: 0.065*\"country\" + 0.031*\"problem\" + 0.024*\"government\" + 0.023*\"environment\" + 0.023*\"cause\" + 0.022*\"use\" + 0.021*\"people\" + 0.021*\"money\" + 0.020*\"art\" + 0.019*\"company\"\n",
      "\n",
      "Topic #4: 0.000*\"demenssion\" + 0.000*\"detect\" + 0.000*\"littie\" + 0.000*\"reasonnable\" + 0.000*\"velvet\" + 0.000*\"ar\" + 0.000*\"circumictance\" + 0.000*\"glove\" + 0.000*\"experincee\" + 0.000*\"factore\"\n",
      "\n",
      "Topic #5: 0.000*\"demenssion\" + 0.000*\"detect\" + 0.000*\"littie\" + 0.000*\"reasonnable\" + 0.000*\"velvet\" + 0.000*\"ar\" + 0.000*\"circumictance\" + 0.000*\"glove\" + 0.000*\"experincee\" + 0.000*\"factore\"\n",
      "\n",
      "Topic #6: 0.000*\"demenssion\" + 0.000*\"detect\" + 0.000*\"littie\" + 0.000*\"reasonnable\" + 0.000*\"velvet\" + 0.000*\"ar\" + 0.000*\"circumictance\" + 0.000*\"glove\" + 0.000*\"experincee\" + 0.000*\"factore\"\n",
      "\n",
      "Topic #7: 0.000*\"demenssion\" + 0.000*\"detect\" + 0.000*\"littie\" + 0.000*\"reasonnable\" + 0.000*\"velvet\" + 0.000*\"ar\" + 0.000*\"circumictance\" + 0.000*\"glove\" + 0.000*\"experincee\" + 0.000*\"factore\"\n",
      "\n",
      "Topic #8: 0.109*\"subject\" + 0.098*\"student\" + 0.097*\"technology\" + 0.067*\"university\" + 0.057*\"study\" + 0.051*\"course\" + 0.033*\"nation\" + 0.031*\"teacher\" + 0.026*\"knowledge\" + 0.024*\"number\"\n",
      "\n",
      "Topic #9: 0.000*\"demenssion\" + 0.000*\"detect\" + 0.000*\"littie\" + 0.000*\"reasonnable\" + 0.000*\"velvet\" + 0.000*\"ar\" + 0.000*\"circumictance\" + 0.000*\"glove\" + 0.000*\"experincee\" + 0.000*\"factore\"\n",
      "\n",
      "Topic #10: 0.000*\"demenssion\" + 0.000*\"detect\" + 0.000*\"littie\" + 0.000*\"reasonnable\" + 0.000*\"velvet\" + 0.000*\"ar\" + 0.000*\"circumictance\" + 0.000*\"glove\" + 0.000*\"experincee\" + 0.000*\"factore\"\n",
      "\n",
      "Topic #11: 0.263*\"sport\" + 0.034*\"motivate\" + 0.029*\"athlete\" + 0.017*\"motivation\" + 0.011*\"event\" + 0.000*\"extreme\" + 0.000*\"dangerous\" + 0.000*\"injury\" + 0.000*\"boxing\" + 0.000*\"player\"\n",
      "\n",
      "Topic #12: 0.000*\"demenssion\" + 0.000*\"detect\" + 0.000*\"littie\" + 0.000*\"reasonnable\" + 0.000*\"velvet\" + 0.000*\"ar\" + 0.000*\"circumictance\" + 0.000*\"glove\" + 0.000*\"experincee\" + 0.000*\"factore\"\n",
      "\n",
      "Topic #13: 0.073*\"people\" + 0.023*\"life\" + 0.021*\"believe\" + 0.021*\"work\" + 0.020*\"help\" + 0.018*\"live\" + 0.017*\"way\" + 0.014*\"history\" + 0.014*\"family\" + 0.014*\"think\"\n",
      "\n",
      "Topic #14: 0.040*\"manner\" + 0.000*\"organization\" + 0.000*\"music\" + 0.000*\"head\" + 0.000*\"personality\" + 0.000*\"doubt\" + 0.000*\"rebuild\" + 0.000*\"motive\" + 0.000*\"nowday\" + 0.000*\"author\"\n",
      "\n",
      "Topic #15: 0.011*\"fit\" + 0.000*\"city\" + 0.000*\"gold\" + 0.000*\"coast\" + 0.000*\"designer\" + 0.000*\"combination\" + 0.000*\"generation\" + 0.000*\"boxing\" + 0.000*\"internet\" + 0.000*\"parent\"\n",
      "\n",
      "Topic #16: 0.287*\"child\" + 0.061*\"education\" + 0.056*\"solution\" + 0.053*\"school\" + 0.036*\"system\" + 0.032*\"buy\" + 0.029*\"poverty\" + 0.025*\"resource\" + 0.025*\"food\" + 0.024*\"house\"\n",
      "\n",
      "Topic #17: 0.050*\"interest\" + 0.046*\"tool\" + 0.021*\"learning\" + 0.009*\"socialize\" + 0.000*\"music\" + 0.000*\"time\" + 0.000*\"online\" + 0.000*\"agriculture\" + 0.000*\"finantial\" + 0.000*\"information\"\n",
      "\n",
      "Topic #18: 0.000*\"demenssion\" + 0.000*\"detect\" + 0.000*\"littie\" + 0.000*\"reasonnable\" + 0.000*\"velvet\" + 0.000*\"ar\" + 0.000*\"circumictance\" + 0.000*\"glove\" + 0.000*\"experincee\" + 0.000*\"factore\"\n",
      "\n",
      "Topic #19: 0.000*\"demenssion\" + 0.000*\"detect\" + 0.000*\"littie\" + 0.000*\"reasonnable\" + 0.000*\"velvet\" + 0.000*\"ar\" + 0.000*\"circumictance\" + 0.000*\"glove\" + 0.000*\"experincee\" + 0.000*\"factore\"\n",
      "\n",
      "Topic #20: 0.000*\"demenssion\" + 0.000*\"detect\" + 0.000*\"littie\" + 0.000*\"reasonnable\" + 0.000*\"velvet\" + 0.000*\"ar\" + 0.000*\"circumictance\" + 0.000*\"glove\" + 0.000*\"experincee\" + 0.000*\"factore\"\n",
      "\n",
      "Topic #21: 0.000*\"demenssion\" + 0.000*\"detect\" + 0.000*\"littie\" + 0.000*\"reasonnable\" + 0.000*\"velvet\" + 0.000*\"ar\" + 0.000*\"circumictance\" + 0.000*\"glove\" + 0.000*\"experincee\" + 0.000*\"factore\"\n",
      "\n"
     ]
    }
   ],
   "source": [
    "print_topics(best_model_lda)"
   ]
  },
  {
   "cell_type": "markdown",
   "id": "696ffd6a-a248-40dd-bd8d-fafdda71c9b6",
   "metadata": {},
   "source": [
    "The result for coherence is not good. It is necessary to perform a second hyperparameter tuning."
   ]
  },
  {
   "cell_type": "markdown",
   "id": "3b8a9fe5-73a5-4b53-8c7b-618dbddb9b82",
   "metadata": {
    "jp-MarkdownHeadingCollapsed": true
   },
   "source": [
    "### Model 1 - LDA - Second hyperparameter tuning"
   ]
  },
  {
   "cell_type": "markdown",
   "id": "6a44e5ff-05e3-4cb4-ae35-4dee410d029c",
   "metadata": {},
   "source": [
    "For this process, some changes are made to improve the model:\n",
    "- **Topics:** There are some repeated topics. It is resized to half the best number of topics size as a reference. The tuning process iterates between a range of plus-minus 5 of the previously calculated number of topics. The step is 4.\n",
    "- **Alpha:** Lower values can make topics more distinct. Considering the previous values, it is decreased.\n",
    "- **Eta:** The same consideration of alpha is applied to this hyperparameter.\n",
    "- **Number of passes:** To improve the convergence, it is increased to 30."
   ]
  },
  {
   "cell_type": "code",
   "execution_count": 42,
   "id": "36f45f61-96a6-49a7-94e2-d1f88f48bf5b",
   "metadata": {},
   "outputs": [],
   "source": [
    "# New hyperparameter definition\n",
    "num_topics_hpt_lda = int(model_hpr_prm_lds['num_topics'][idx_best_model_lda] / 2)\n",
    "num_topics_hpt_list = [num_topics_hpt_lda - 5, num_topics_hpt_lda + 5, 4]\n",
    "alpha_list_hpt_lda = [0.01, 0.001]\n",
    "eta_list_hpt_lda = [0.01, 0.001]\n",
    "\n",
    "# Training LDA model\n",
    "model_list_hpt_lda, model_hpr_prm_lda_sec = train_lda_model(train_crp=train_crp,\n",
    "                                                            dictionary=dictionary,\n",
    "                                                            num_topics=num_topics_hpt_list, \n",
    "                                                            alpha_list=alpha_list_hpt_lda, \n",
    "                                                            eta_list=eta_list_hpt_lda,\n",
    "                                                            passes = 30)"
   ]
  },
  {
   "cell_type": "markdown",
   "id": "368777e7-18cb-4ca4-b043-b40ac7c4593f",
   "metadata": {},
   "source": [
    "After training, a new evaluation is necessary to get the best model from the previous process."
   ]
  },
  {
   "cell_type": "code",
   "execution_count": 43,
   "id": "d28b9432-2820-4f33-aeff-7ba2d45e483b",
   "metadata": {},
   "outputs": [],
   "source": [
    "# Evaluate the model\n",
    "coherence_values_lda_hpt, perplexity_values_lda_hpt, _ = evaluate_model(models = model_list_hpt_lda,\n",
    "                                                                        dictionary=dictionary, \n",
    "                                                                        corpus=test_crp, \n",
    "                                                                        texts=cleaned_data)\n",
    "# Get the best model\n",
    "scores_lda_hpt, idx_best_model_lda_hpt = get_best_model(coherence_values = coherence_values_lda_hpt, \n",
    "                                                        perplexity_values = perplexity_values_lda_hpt)"
   ]
  },
  {
   "cell_type": "markdown",
   "id": "e8ea3245-9935-4bae-b2b0-90b81b201bee",
   "metadata": {},
   "source": [
    "Finalize the evaluation, the best model is selected, and the topics are printed for checking."
   ]
  },
  {
   "cell_type": "code",
   "execution_count": 44,
   "id": "d09634b3-dd2b-4655-8f19-f0a48695cbf7",
   "metadata": {},
   "outputs": [
    {
     "name": "stdout",
     "output_type": "stream",
     "text": [
      "Topic #0: 0.149*\"subject\" + 0.143*\"student\" + 0.102*\"study\" + 0.092*\"university\" + 0.065*\"education\" + 0.058*\"course\" + 0.046*\"teacher\" + 0.034*\"scientist\" + 0.034*\"school\" + 0.032*\"knowledge\"\n",
      "\n",
      "Topic #1: 0.328*\"child\" + 0.121*\"learn\" + 0.066*\"teach\" + 0.051*\"school\" + 0.047*\"skill\" + 0.041*\"future\" + 0.031*\"play\" + 0.031*\"young\" + 0.027*\"understand\" + 0.026*\"help\"\n",
      "\n",
      "Topic #2: 0.062*\"family\" + 0.052*\"money\" + 0.052*\"human\" + 0.043*\"help\" + 0.035*\"problem\" + 0.029*\"need\" + 0.029*\"solution\" + 0.026*\"rich\" + 0.023*\"solve\" + 0.022*\"poor\"\n",
      "\n",
      "Topic #3: 0.651*\"country\" + 0.243*\"government\" + 0.059*\"citizen\" + 0.026*\"addition\" + 0.015*\"equipment\" + 0.000*\"experinced\" + 0.000*\"circumictance\" + 0.000*\"demenssion\" + 0.000*\"detect\" + 0.000*\"diffierent\"\n",
      "\n",
      "Topic #4: 0.057*\"people\" + 0.027*\"believe\" + 0.021*\"life\" + 0.017*\"think\" + 0.016*\"history\" + 0.016*\"example\" + 0.014*\"well\" + 0.014*\"way\" + 0.014*\"good\" + 0.013*\"different\"\n",
      "\n",
      "Topic #5: 0.088*\"people\" + 0.036*\"work\" + 0.029*\"job\" + 0.029*\"cause\" + 0.028*\"environment\" + 0.027*\"live\" + 0.025*\"use\" + 0.025*\"society\" + 0.023*\"company\" + 0.022*\"increase\"\n",
      "\n"
     ]
    }
   ],
   "source": [
    "best_model_lda_hpt  = model_list_hpt_lda[idx_best_model_lda_hpt]\n",
    "print_topics(best_model_lda_hpt)"
   ]
  },
  {
   "cell_type": "markdown",
   "id": "41433af9-7cf1-4840-abde-c828aab49fdb",
   "metadata": {},
   "source": [
    "A significantly less amount of topics are identified after the tuning. The full parameters of the model are shown for the analysis."
   ]
  },
  {
   "cell_type": "code",
   "execution_count": 50,
   "id": "ee219f84-5785-4b09-8a18-1b77ffd964be",
   "metadata": {},
   "outputs": [
    {
     "name": "stdout",
     "output_type": "stream",
     "text": [
      "Metrics of the best model\n",
      "\n",
      "Weighted score: 0.922671\n",
      "Coherence: 0.374241\n",
      "Perplexity: 0.000000\n",
      "\n",
      "Hyperparameters: \n",
      "num_topics: 6\n",
      "alpha_list: 0.001\n",
      "eta_list: 0.001\n",
      "Real values: \n",
      "Alpha: 0.001000\n",
      "Eta: 0.001000\n"
     ]
    }
   ],
   "source": [
    "show_model_data(model_list_hpt_lda, scores_lda_hpt, coherence_values_lda_hpt, perplexity_values_lda_hpt, \n",
    "                model_hpr_prm_lda_sec, idx_best_model_lda_hpt)"
   ]
  },
  {
   "cell_type": "markdown",
   "id": "578f4762-8dd8-4773-9d23-e4e3fdb2d78a",
   "metadata": {},
   "source": [
    "The score and coherence have a small improve. However, considering that the topics presented improved in readiness and values, the model has a significant improve. It will be analyzed in the section 5."
   ]
  },
  {
   "cell_type": "markdown",
   "id": "1f4fa73a-e8f4-412b-85be-d8d0061a2384",
   "metadata": {},
   "source": [
    "### Model 2 - BERT + K-Means++ - Evaluation"
   ]
  },
  {
   "cell_type": "markdown",
   "id": "f0c26c84-078d-4d86-b82d-3848d0544fdc",
   "metadata": {},
   "source": [
    "The model with 5 clusters is trained to evaluate it. The function to evaluate models was created based on ranges. Therefore, the list of values is created to generate only one value."
   ]
  },
  {
   "cell_type": "code",
   "execution_count": 19,
   "id": "b6b60631-955d-40cc-9f93-f5d9762f289b",
   "metadata": {},
   "outputs": [
    {
     "name": "stderr",
     "output_type": "stream",
     "text": [
      "C:\\ProgramData\\anaconda3\\envs\\NLP1_Project2\\Lib\\site-packages\\sklearn\\cluster\\_kmeans.py:1419: UserWarning: KMeans is known to have a memory leak on Windows with MKL, when there are less chunks than available threads. You can avoid it by setting the environment variable OMP_NUM_THREADS=2.\n",
      "  warnings.warn(\n",
      "C:\\ProgramData\\anaconda3\\envs\\NLP1_Project2\\Lib\\site-packages\\sklearn\\cluster\\_kmeans.py:1419: UserWarning: KMeans is known to have a memory leak on Windows with MKL, when there are less chunks than available threads. You can avoid it by setting the environment variable OMP_NUM_THREADS=1.\n",
      "  warnings.warn(\n"
     ]
    }
   ],
   "source": [
    "# Trainig of k-means model with 5 clusters\n",
    "num_topics_kms = [5, 6, 1]\n",
    "model_list_kms, _, model_hpr_prm_kms = train_kmeans_pp(data = train_bert, \n",
    "                                                       num_topics = num_topics_kms)\n",
    "\n",
    "# Evaluate the model\n",
    "_, _, silhouette_scores_kms, db_values_kms, ch_values_kms = evaluate_model(models = model_list_kms,\n",
    "                                                                            dictionary=None, \n",
    "                                                                            corpus=test_bert, \n",
    "                                                                            texts=None)"
   ]
  },
  {
   "cell_type": "code",
   "execution_count": 20,
   "id": "068dcfe6-a4ad-46ee-ba49-7dc98459a67c",
   "metadata": {},
   "outputs": [],
   "source": [
    "def show_model_data_kms(model_list, silhouette_list, db_list, ch_list,\n",
    "                       model_hpr_prm, idx_best_model):\n",
    "    best_model_kms  = model_list[idx_best_model]\n",
    "    best_sil_kms = silhouette_list[idx_best_model]\n",
    "    best_dbi_kms = db_list[idx_best_model]\n",
    "    best_chi_kms = ch_list[idx_best_model]\n",
    "    \n",
    "    print(\"Metrics of the best model\\n\")\n",
    "    print(f\"Silhouette: {best_sil_kms:4f}\")\n",
    "    print(f\"Davies-Bouldin Index: {best_dbi_kms:4f}\")\n",
    "    print(f\"Calinski-Harabasz Index: {best_chi_kms:4f}\")\n",
    "    print()\n",
    "    print(\"Hyperparameters: \")\n",
    "    for hyp_param in model_hpr_prm:\n",
    "        print(f\"{hyp_param}: {model_hpr_prm[hyp_param][idx_best_model]}\")"
   ]
  },
  {
   "cell_type": "code",
   "execution_count": 21,
   "id": "0b64fdbb-1bd3-4ea4-b802-f1fc3ca17777",
   "metadata": {},
   "outputs": [
    {
     "name": "stdout",
     "output_type": "stream",
     "text": [
      "Metrics of the best model\n",
      "\n",
      "Silhouette: 0.045463\n",
      "Davies-Bouldin Index: 3.384378\n",
      "Calinski-Harabasz Index: 4.154607\n",
      "\n",
      "Hyperparameters: \n",
      "n_clusters: 5\n",
      "n_init: auto\n",
      "max_iter: 300\n"
     ]
    }
   ],
   "source": [
    "show_model_data_kms(model_list_kms, silhouette_scores_kms, db_values_kms, ch_values_kms, \n",
    "                    model_hpr_prm_kms, 0)"
   ]
  },
  {
   "cell_type": "markdown",
   "id": "6cc7c81b-b7f5-40f6-bcb8-b496c7f9e87d",
   "metadata": {},
   "source": [
    "The numeric results are not good. Silhouette and Calinski-Harabasz Index are low and Davies-Bouldin Index is high. Let's check the plot to visually see the results. To plot it, it is necessary to reduce the dimensionality of the dataset. TSNE is used to perform this task because the data is not linear."
   ]
  },
  {
   "cell_type": "code",
   "execution_count": 22,
   "id": "13921070-a737-4147-b05c-81bf9215c283",
   "metadata": {},
   "outputs": [],
   "source": [
    "# Function to plot the clusters of data\n",
    "def plot_clusters(data, model):\n",
    "    # Reducing the dimensions of the data (t-SNE)\n",
    "    tsne = TSNE(n_components=2, random_state=42)  # reduce to 2 components\n",
    "    X_tsne = tsne.fit_transform(data)\n",
    "    # Predicting\n",
    "    clusters = model.fit_predict(X_tsne)\n",
    "    # Plotting\n",
    "    plt.figure(figsize=(8, 4))\n",
    "    plt.scatter(X_tsne[:, 0], X_tsne[:, 1], c=clusters, cmap='viridis')\n",
    "    plt.title(\"Clusters visualized with t-SNE\")\n",
    "    plt.xlabel(\"t-SNE Component 1\")\n",
    "    plt.ylabel(\"t-SNE Component 2\")\n",
    "    plt.show()"
   ]
  },
  {
   "cell_type": "code",
   "execution_count": 23,
   "id": "247df257-13b8-4236-a44c-2159582d1fb2",
   "metadata": {},
   "outputs": [
    {
     "name": "stderr",
     "output_type": "stream",
     "text": [
      "C:\\ProgramData\\anaconda3\\envs\\NLP1_Project2\\Lib\\site-packages\\sklearn\\cluster\\_kmeans.py:1419: UserWarning: KMeans is known to have a memory leak on Windows with MKL, when there are less chunks than available threads. You can avoid it by setting the environment variable OMP_NUM_THREADS=1.\n",
      "  warnings.warn(\n"
     ]
    },
    {
     "data": {
      "image/png": "[encoded data removed]",
      "text/plain": [
       "<Figure size 800x400 with 1 Axes>"
      ]
     },
     "metadata": {},
     "output_type": "display_data"
    }
   ],
   "source": [
    "plot_clusters(test_bert, model_list_kms[0])"
   ]
  },
  {
   "cell_type": "markdown",
   "id": "b131df1d-608a-4444-acbf-ea361695b6fa",
   "metadata": {},
   "source": [
    "The clusters are now defined properly. The next section performs another hyperparameter tuning to check if these can be improved."
   ]
  },
  {
   "cell_type": "markdown",
   "id": "fef9a7b1-268a-419c-a373-977ae3efb287",
   "metadata": {},
   "source": [
    "### Model 2 - BERT + K-Means++ - Second hyperparameter tuning"
   ]
  },
  {
   "cell_type": "markdown",
   "id": "d5043729-7623-412b-9a6c-aca49999ec35",
   "metadata": {},
   "source": [
    "For this process, some changes are made to improve the model:\n",
    "- **Topics:** Considering the Elbow plot, the number of topics goes from 4 to 10.\n",
    "- **Centroids seeds:** Considering that 1 is the default value when kmeans++ is used and 10 when random, the new values are defined in ranges of 5 between 5 and 40.\n",
    "- **Max iterations:** The first value is 300. It is increased for more runs."
   ]
  },
  {
   "cell_type": "code",
   "execution_count": 24,
   "id": "06e7010e-115f-419e-9cac-95398cb4f39d",
   "metadata": {
    "scrolled": true
   },
   "outputs": [
    {
     "name": "stderr",
     "output_type": "stream",
     "text": [
      "C:\\ProgramData\\anaconda3\\envs\\NLP1_Project2\\Lib\\site-packages\\sklearn\\cluster\\_kmeans.py:1419: UserWarning: KMeans is known to have a memory leak on Windows with MKL, when there are less chunks than available threads. You can avoid it by setting the environment variable OMP_NUM_THREADS=2.\n",
      "  warnings.warn(\n",
      "C:\\ProgramData\\anaconda3\\envs\\NLP1_Project2\\Lib\\site-packages\\sklearn\\cluster\\_kmeans.py:1419: UserWarning: KMeans is known to have a memory leak on Windows with MKL, when there are less chunks than available threads. You can avoid it by setting the environment variable OMP_NUM_THREADS=2.\n",
      "  warnings.warn(\n",
      "C:\\ProgramData\\anaconda3\\envs\\NLP1_Project2\\Lib\\site-packages\\sklearn\\cluster\\_kmeans.py:1419: UserWarning: KMeans is known to have a memory leak on Windows with MKL, when there are less chunks than available threads. You can avoid it by setting the environment variable OMP_NUM_THREADS=2.\n",
      "  warnings.warn(\n",
      "C:\\ProgramData\\anaconda3\\envs\\NLP1_Project2\\Lib\\site-packages\\sklearn\\cluster\\_kmeans.py:1419: UserWarning: KMeans is known to have a memory leak on Windows with MKL, when there are less chunks than available threads. You can avoid it by setting the environment variable OMP_NUM_THREADS=2.\n",
      "  warnings.warn(\n",
      "C:\\ProgramData\\anaconda3\\envs\\NLP1_Project2\\Lib\\site-packages\\sklearn\\cluster\\_kmeans.py:1419: UserWarning: KMeans is known to have a memory leak on Windows with MKL, when there are less chunks than available threads. You can avoid it by setting the environment variable OMP_NUM_THREADS=2.\n",
      "  warnings.warn(\n",
      "C:\\ProgramData\\anaconda3\\envs\\NLP1_Project2\\Lib\\site-packages\\sklearn\\cluster\\_kmeans.py:1419: UserWarning: KMeans is known to have a memory leak on Windows with MKL, when there are less chunks than available threads. You can avoid it by setting the environment variable OMP_NUM_THREADS=2.\n",
      "  warnings.warn(\n",
      "C:\\ProgramData\\anaconda3\\envs\\NLP1_Project2\\Lib\\site-packages\\sklearn\\cluster\\_kmeans.py:1419: UserWarning: KMeans is known to have a memory leak on Windows with MKL, when there are less chunks than available threads. You can avoid it by setting the environment variable OMP_NUM_THREADS=2.\n",
      "  warnings.warn(\n",
      "C:\\ProgramData\\anaconda3\\envs\\NLP1_Project2\\Lib\\site-packages\\sklearn\\cluster\\_kmeans.py:1419: UserWarning: KMeans is known to have a memory leak on Windows with MKL, when there are less chunks than available threads. You can avoid it by setting the environment variable OMP_NUM_THREADS=2.\n",
      "  warnings.warn(\n",
      "C:\\ProgramData\\anaconda3\\envs\\NLP1_Project2\\Lib\\site-packages\\sklearn\\cluster\\_kmeans.py:1419: UserWarning: KMeans is known to have a memory leak on Windows with MKL, when there are less chunks than available threads. You can avoid it by setting the environment variable OMP_NUM_THREADS=2.\n",
      "  warnings.warn(\n",
      "C:\\ProgramData\\anaconda3\\envs\\NLP1_Project2\\Lib\\site-packages\\sklearn\\cluster\\_kmeans.py:1419: UserWarning: KMeans is known to have a memory leak on Windows with MKL, when there are less chunks than available threads. You can avoid it by setting the environment variable OMP_NUM_THREADS=2.\n",
      "  warnings.warn(\n",
      "C:\\ProgramData\\anaconda3\\envs\\NLP1_Project2\\Lib\\site-packages\\sklearn\\cluster\\_kmeans.py:1419: UserWarning: KMeans is known to have a memory leak on Windows with MKL, when there are less chunks than available threads. You can avoid it by setting the environment variable OMP_NUM_THREADS=2.\n",
      "  warnings.warn(\n",
      "C:\\ProgramData\\anaconda3\\envs\\NLP1_Project2\\Lib\\site-packages\\sklearn\\cluster\\_kmeans.py:1419: UserWarning: KMeans is known to have a memory leak on Windows with MKL, when there are less chunks than available threads. You can avoid it by setting the environment variable OMP_NUM_THREADS=2.\n",
      "  warnings.warn(\n",
      "C:\\ProgramData\\anaconda3\\envs\\NLP1_Project2\\Lib\\site-packages\\sklearn\\cluster\\_kmeans.py:1419: UserWarning: KMeans is known to have a memory leak on Windows with MKL, when there are less chunks than available threads. You can avoid it by setting the environment variable OMP_NUM_THREADS=2.\n",
      "  warnings.warn(\n",
      "C:\\ProgramData\\anaconda3\\envs\\NLP1_Project2\\Lib\\site-packages\\sklearn\\cluster\\_kmeans.py:1419: UserWarning: KMeans is known to have a memory leak on Windows with MKL, when there are less chunks than available threads. You can avoid it by setting the environment variable OMP_NUM_THREADS=2.\n",
      "  warnings.warn(\n",
      "C:\\ProgramData\\anaconda3\\envs\\NLP1_Project2\\Lib\\site-packages\\sklearn\\cluster\\_kmeans.py:1419: UserWarning: KMeans is known to have a memory leak on Windows with MKL, when there are less chunks than available threads. You can avoid it by setting the environment variable OMP_NUM_THREADS=2.\n",
      "  warnings.warn(\n",
      "C:\\ProgramData\\anaconda3\\envs\\NLP1_Project2\\Lib\\site-packages\\sklearn\\cluster\\_kmeans.py:1419: UserWarning: KMeans is known to have a memory leak on Windows with MKL, when there are less chunks than available threads. You can avoid it by setting the environment variable OMP_NUM_THREADS=2.\n",
      "  warnings.warn(\n",
      "C:\\ProgramData\\anaconda3\\envs\\NLP1_Project2\\Lib\\site-packages\\sklearn\\cluster\\_kmeans.py:1419: UserWarning: KMeans is known to have a memory leak on Windows with MKL, when there are less chunks than available threads. You can avoid it by setting the environment variable OMP_NUM_THREADS=2.\n",
      "  warnings.warn(\n",
      "C:\\ProgramData\\anaconda3\\envs\\NLP1_Project2\\Lib\\site-packages\\sklearn\\cluster\\_kmeans.py:1419: UserWarning: KMeans is known to have a memory leak on Windows with MKL, when there are less chunks than available threads. You can avoid it by setting the environment variable OMP_NUM_THREADS=2.\n",
      "  warnings.warn(\n",
      "C:\\ProgramData\\anaconda3\\envs\\NLP1_Project2\\Lib\\site-packages\\sklearn\\cluster\\_kmeans.py:1419: UserWarning: KMeans is known to have a memory leak on Windows with MKL, when there are less chunks than available threads. You can avoid it by setting the environment variable OMP_NUM_THREADS=2.\n",
      "  warnings.warn(\n",
      "C:\\ProgramData\\anaconda3\\envs\\NLP1_Project2\\Lib\\site-packages\\sklearn\\cluster\\_kmeans.py:1419: UserWarning: KMeans is known to have a memory leak on Windows with MKL, when there are less chunks than available threads. You can avoid it by setting the environment variable OMP_NUM_THREADS=2.\n",
      "  warnings.warn(\n",
      "C:\\ProgramData\\anaconda3\\envs\\NLP1_Project2\\Lib\\site-packages\\sklearn\\cluster\\_kmeans.py:1419: UserWarning: KMeans is known to have a memory leak on Windows with MKL, when there are less chunks than available threads. You can avoid it by setting the environment variable OMP_NUM_THREADS=2.\n",
      "  warnings.warn(\n",
      "C:\\ProgramData\\anaconda3\\envs\\NLP1_Project2\\Lib\\site-packages\\sklearn\\cluster\\_kmeans.py:1419: UserWarning: KMeans is known to have a memory leak on Windows with MKL, when there are less chunks than available threads. You can avoid it by setting the environment variable OMP_NUM_THREADS=2.\n",
      "  warnings.warn(\n",
      "C:\\ProgramData\\anaconda3\\envs\\NLP1_Project2\\Lib\\site-packages\\sklearn\\cluster\\_kmeans.py:1419: UserWarning: KMeans is known to have a memory leak on Windows with MKL, when there are less chunks than available threads. You can avoid it by setting the environment variable OMP_NUM_THREADS=2.\n",
      "  warnings.warn(\n",
      "C:\\ProgramData\\anaconda3\\envs\\NLP1_Project2\\Lib\\site-packages\\sklearn\\cluster\\_kmeans.py:1419: UserWarning: KMeans is known to have a memory leak on Windows with MKL, when there are less chunks than available threads. You can avoid it by setting the environment variable OMP_NUM_THREADS=2.\n",
      "  warnings.warn(\n",
      "C:\\ProgramData\\anaconda3\\envs\\NLP1_Project2\\Lib\\site-packages\\sklearn\\cluster\\_kmeans.py:1419: UserWarning: KMeans is known to have a memory leak on Windows with MKL, when there are less chunks than available threads. You can avoid it by setting the environment variable OMP_NUM_THREADS=2.\n",
      "  warnings.warn(\n",
      "C:\\ProgramData\\anaconda3\\envs\\NLP1_Project2\\Lib\\site-packages\\sklearn\\cluster\\_kmeans.py:1419: UserWarning: KMeans is known to have a memory leak on Windows with MKL, when there are less chunks than available threads. You can avoid it by setting the environment variable OMP_NUM_THREADS=2.\n",
      "  warnings.warn(\n",
      "C:\\ProgramData\\anaconda3\\envs\\NLP1_Project2\\Lib\\site-packages\\sklearn\\cluster\\_kmeans.py:1419: UserWarning: KMeans is known to have a memory leak on Windows with MKL, when there are less chunks than available threads. You can avoid it by setting the environment variable OMP_NUM_THREADS=2.\n",
      "  warnings.warn(\n",
      "C:\\ProgramData\\anaconda3\\envs\\NLP1_Project2\\Lib\\site-packages\\sklearn\\cluster\\_kmeans.py:1419: UserWarning: KMeans is known to have a memory leak on Windows with MKL, when there are less chunks than available threads. You can avoid it by setting the environment variable OMP_NUM_THREADS=2.\n",
      "  warnings.warn(\n",
      "C:\\ProgramData\\anaconda3\\envs\\NLP1_Project2\\Lib\\site-packages\\sklearn\\cluster\\_kmeans.py:1419: UserWarning: KMeans is known to have a memory leak on Windows with MKL, when there are less chunks than available threads. You can avoid it by setting the environment variable OMP_NUM_THREADS=2.\n",
      "  warnings.warn(\n",
      "C:\\ProgramData\\anaconda3\\envs\\NLP1_Project2\\Lib\\site-packages\\sklearn\\cluster\\_kmeans.py:1419: UserWarning: KMeans is known to have a memory leak on Windows with MKL, when there are less chunks than available threads. You can avoid it by setting the environment variable OMP_NUM_THREADS=2.\n",
      "  warnings.warn(\n",
      "C:\\ProgramData\\anaconda3\\envs\\NLP1_Project2\\Lib\\site-packages\\sklearn\\cluster\\_kmeans.py:1419: UserWarning: KMeans is known to have a memory leak on Windows with MKL, when there are less chunks than available threads. You can avoid it by setting the environment variable OMP_NUM_THREADS=2.\n",
      "  warnings.warn(\n",
      "C:\\ProgramData\\anaconda3\\envs\\NLP1_Project2\\Lib\\site-packages\\sklearn\\cluster\\_kmeans.py:1419: UserWarning: KMeans is known to have a memory leak on Windows with MKL, when there are less chunks than available threads. You can avoid it by setting the environment variable OMP_NUM_THREADS=2.\n",
      "  warnings.warn(\n",
      "C:\\ProgramData\\anaconda3\\envs\\NLP1_Project2\\Lib\\site-packages\\sklearn\\cluster\\_kmeans.py:1419: UserWarning: KMeans is known to have a memory leak on Windows with MKL, when there are less chunks than available threads. You can avoid it by setting the environment variable OMP_NUM_THREADS=2.\n",
      "  warnings.warn(\n",
      "C:\\ProgramData\\anaconda3\\envs\\NLP1_Project2\\Lib\\site-packages\\sklearn\\cluster\\_kmeans.py:1419: UserWarning: KMeans is known to have a memory leak on Windows with MKL, when there are less chunks than available threads. You can avoid it by setting the environment variable OMP_NUM_THREADS=2.\n",
      "  warnings.warn(\n",
      "C:\\ProgramData\\anaconda3\\envs\\NLP1_Project2\\Lib\\site-packages\\sklearn\\cluster\\_kmeans.py:1419: UserWarning: KMeans is known to have a memory leak on Windows with MKL, when there are less chunks than available threads. You can avoid it by setting the environment variable OMP_NUM_THREADS=2.\n",
      "  warnings.warn(\n",
      "C:\\ProgramData\\anaconda3\\envs\\NLP1_Project2\\Lib\\site-packages\\sklearn\\cluster\\_kmeans.py:1419: UserWarning: KMeans is known to have a memory leak on Windows with MKL, when there are less chunks than available threads. You can avoid it by setting the environment variable OMP_NUM_THREADS=2.\n",
      "  warnings.warn(\n",
      "C:\\ProgramData\\anaconda3\\envs\\NLP1_Project2\\Lib\\site-packages\\sklearn\\cluster\\_kmeans.py:1419: UserWarning: KMeans is known to have a memory leak on Windows with MKL, when there are less chunks than available threads. You can avoid it by setting the environment variable OMP_NUM_THREADS=2.\n",
      "  warnings.warn(\n",
      "C:\\ProgramData\\anaconda3\\envs\\NLP1_Project2\\Lib\\site-packages\\sklearn\\cluster\\_kmeans.py:1419: UserWarning: KMeans is known to have a memory leak on Windows with MKL, when there are less chunks than available threads. You can avoid it by setting the environment variable OMP_NUM_THREADS=2.\n",
      "  warnings.warn(\n",
      "C:\\ProgramData\\anaconda3\\envs\\NLP1_Project2\\Lib\\site-packages\\sklearn\\cluster\\_kmeans.py:1419: UserWarning: KMeans is known to have a memory leak on Windows with MKL, when there are less chunks than available threads. You can avoid it by setting the environment variable OMP_NUM_THREADS=2.\n",
      "  warnings.warn(\n",
      "C:\\ProgramData\\anaconda3\\envs\\NLP1_Project2\\Lib\\site-packages\\sklearn\\cluster\\_kmeans.py:1419: UserWarning: KMeans is known to have a memory leak on Windows with MKL, when there are less chunks than available threads. You can avoid it by setting the environment variable OMP_NUM_THREADS=2.\n",
      "  warnings.warn(\n",
      "C:\\ProgramData\\anaconda3\\envs\\NLP1_Project2\\Lib\\site-packages\\sklearn\\cluster\\_kmeans.py:1419: UserWarning: KMeans is known to have a memory leak on Windows with MKL, when there are less chunks than available threads. You can avoid it by setting the environment variable OMP_NUM_THREADS=2.\n",
      "  warnings.warn(\n",
      "C:\\ProgramData\\anaconda3\\envs\\NLP1_Project2\\Lib\\site-packages\\sklearn\\cluster\\_kmeans.py:1419: UserWarning: KMeans is known to have a memory leak on Windows with MKL, when there are less chunks than available threads. You can avoid it by setting the environment variable OMP_NUM_THREADS=2.\n",
      "  warnings.warn(\n",
      "C:\\ProgramData\\anaconda3\\envs\\NLP1_Project2\\Lib\\site-packages\\sklearn\\cluster\\_kmeans.py:1419: UserWarning: KMeans is known to have a memory leak on Windows with MKL, when there are less chunks than available threads. You can avoid it by setting the environment variable OMP_NUM_THREADS=2.\n",
      "  warnings.warn(\n",
      "C:\\ProgramData\\anaconda3\\envs\\NLP1_Project2\\Lib\\site-packages\\sklearn\\cluster\\_kmeans.py:1419: UserWarning: KMeans is known to have a memory leak on Windows with MKL, when there are less chunks than available threads. You can avoid it by setting the environment variable OMP_NUM_THREADS=2.\n",
      "  warnings.warn(\n",
      "C:\\ProgramData\\anaconda3\\envs\\NLP1_Project2\\Lib\\site-packages\\sklearn\\cluster\\_kmeans.py:1419: UserWarning: KMeans is known to have a memory leak on Windows with MKL, when there are less chunks than available threads. You can avoid it by setting the environment variable OMP_NUM_THREADS=2.\n",
      "  warnings.warn(\n",
      "C:\\ProgramData\\anaconda3\\envs\\NLP1_Project2\\Lib\\site-packages\\sklearn\\cluster\\_kmeans.py:1419: UserWarning: KMeans is known to have a memory leak on Windows with MKL, when there are less chunks than available threads. You can avoid it by setting the environment variable OMP_NUM_THREADS=2.\n",
      "  warnings.warn(\n",
      "C:\\ProgramData\\anaconda3\\envs\\NLP1_Project2\\Lib\\site-packages\\sklearn\\cluster\\_kmeans.py:1419: UserWarning: KMeans is known to have a memory leak on Windows with MKL, when there are less chunks than available threads. You can avoid it by setting the environment variable OMP_NUM_THREADS=2.\n",
      "  warnings.warn(\n",
      "C:\\ProgramData\\anaconda3\\envs\\NLP1_Project2\\Lib\\site-packages\\sklearn\\cluster\\_kmeans.py:1419: UserWarning: KMeans is known to have a memory leak on Windows with MKL, when there are less chunks than available threads. You can avoid it by setting the environment variable OMP_NUM_THREADS=2.\n",
      "  warnings.warn(\n",
      "C:\\ProgramData\\anaconda3\\envs\\NLP1_Project2\\Lib\\site-packages\\sklearn\\cluster\\_kmeans.py:1419: UserWarning: KMeans is known to have a memory leak on Windows with MKL, when there are less chunks than available threads. You can avoid it by setting the environment variable OMP_NUM_THREADS=2.\n",
      "  warnings.warn(\n",
      "C:\\ProgramData\\anaconda3\\envs\\NLP1_Project2\\Lib\\site-packages\\sklearn\\cluster\\_kmeans.py:1419: UserWarning: KMeans is known to have a memory leak on Windows with MKL, when there are less chunks than available threads. You can avoid it by setting the environment variable OMP_NUM_THREADS=2.\n",
      "  warnings.warn(\n",
      "C:\\ProgramData\\anaconda3\\envs\\NLP1_Project2\\Lib\\site-packages\\sklearn\\cluster\\_kmeans.py:1419: UserWarning: KMeans is known to have a memory leak on Windows with MKL, when there are less chunks than available threads. You can avoid it by setting the environment variable OMP_NUM_THREADS=2.\n",
      "  warnings.warn(\n",
      "C:\\ProgramData\\anaconda3\\envs\\NLP1_Project2\\Lib\\site-packages\\sklearn\\cluster\\_kmeans.py:1419: UserWarning: KMeans is known to have a memory leak on Windows with MKL, when there are less chunks than available threads. You can avoid it by setting the environment variable OMP_NUM_THREADS=2.\n",
      "  warnings.warn(\n",
      "C:\\ProgramData\\anaconda3\\envs\\NLP1_Project2\\Lib\\site-packages\\sklearn\\cluster\\_kmeans.py:1419: UserWarning: KMeans is known to have a memory leak on Windows with MKL, when there are less chunks than available threads. You can avoid it by setting the environment variable OMP_NUM_THREADS=2.\n",
      "  warnings.warn(\n",
      "C:\\ProgramData\\anaconda3\\envs\\NLP1_Project2\\Lib\\site-packages\\sklearn\\cluster\\_kmeans.py:1419: UserWarning: KMeans is known to have a memory leak on Windows with MKL, when there are less chunks than available threads. You can avoid it by setting the environment variable OMP_NUM_THREADS=2.\n",
      "  warnings.warn(\n",
      "C:\\ProgramData\\anaconda3\\envs\\NLP1_Project2\\Lib\\site-packages\\sklearn\\cluster\\_kmeans.py:1419: UserWarning: KMeans is known to have a memory leak on Windows with MKL, when there are less chunks than available threads. You can avoid it by setting the environment variable OMP_NUM_THREADS=2.\n",
      "  warnings.warn(\n",
      "C:\\ProgramData\\anaconda3\\envs\\NLP1_Project2\\Lib\\site-packages\\sklearn\\cluster\\_kmeans.py:1419: UserWarning: KMeans is known to have a memory leak on Windows with MKL, when there are less chunks than available threads. You can avoid it by setting the environment variable OMP_NUM_THREADS=2.\n",
      "  warnings.warn(\n",
      "C:\\ProgramData\\anaconda3\\envs\\NLP1_Project2\\Lib\\site-packages\\sklearn\\cluster\\_kmeans.py:1419: UserWarning: KMeans is known to have a memory leak on Windows with MKL, when there are less chunks than available threads. You can avoid it by setting the environment variable OMP_NUM_THREADS=2.\n",
      "  warnings.warn(\n",
      "C:\\ProgramData\\anaconda3\\envs\\NLP1_Project2\\Lib\\site-packages\\sklearn\\cluster\\_kmeans.py:1419: UserWarning: KMeans is known to have a memory leak on Windows with MKL, when there are less chunks than available threads. You can avoid it by setting the environment variable OMP_NUM_THREADS=2.\n",
      "  warnings.warn(\n",
      "C:\\ProgramData\\anaconda3\\envs\\NLP1_Project2\\Lib\\site-packages\\sklearn\\cluster\\_kmeans.py:1419: UserWarning: KMeans is known to have a memory leak on Windows with MKL, when there are less chunks than available threads. You can avoid it by setting the environment variable OMP_NUM_THREADS=2.\n",
      "  warnings.warn(\n",
      "C:\\ProgramData\\anaconda3\\envs\\NLP1_Project2\\Lib\\site-packages\\sklearn\\cluster\\_kmeans.py:1419: UserWarning: KMeans is known to have a memory leak on Windows with MKL, when there are less chunks than available threads. You can avoid it by setting the environment variable OMP_NUM_THREADS=2.\n",
      "  warnings.warn(\n",
      "C:\\ProgramData\\anaconda3\\envs\\NLP1_Project2\\Lib\\site-packages\\sklearn\\cluster\\_kmeans.py:1419: UserWarning: KMeans is known to have a memory leak on Windows with MKL, when there are less chunks than available threads. You can avoid it by setting the environment variable OMP_NUM_THREADS=2.\n",
      "  warnings.warn(\n",
      "C:\\ProgramData\\anaconda3\\envs\\NLP1_Project2\\Lib\\site-packages\\sklearn\\cluster\\_kmeans.py:1419: UserWarning: KMeans is known to have a memory leak on Windows with MKL, when there are less chunks than available threads. You can avoid it by setting the environment variable OMP_NUM_THREADS=2.\n",
      "  warnings.warn(\n",
      "C:\\ProgramData\\anaconda3\\envs\\NLP1_Project2\\Lib\\site-packages\\sklearn\\cluster\\_kmeans.py:1419: UserWarning: KMeans is known to have a memory leak on Windows with MKL, when there are less chunks than available threads. You can avoid it by setting the environment variable OMP_NUM_THREADS=2.\n",
      "  warnings.warn(\n",
      "C:\\ProgramData\\anaconda3\\envs\\NLP1_Project2\\Lib\\site-packages\\sklearn\\cluster\\_kmeans.py:1419: UserWarning: KMeans is known to have a memory leak on Windows with MKL, when there are less chunks than available threads. You can avoid it by setting the environment variable OMP_NUM_THREADS=2.\n",
      "  warnings.warn(\n",
      "C:\\ProgramData\\anaconda3\\envs\\NLP1_Project2\\Lib\\site-packages\\sklearn\\cluster\\_kmeans.py:1419: UserWarning: KMeans is known to have a memory leak on Windows with MKL, when there are less chunks than available threads. You can avoid it by setting the environment variable OMP_NUM_THREADS=2.\n",
      "  warnings.warn(\n",
      "C:\\ProgramData\\anaconda3\\envs\\NLP1_Project2\\Lib\\site-packages\\sklearn\\cluster\\_kmeans.py:1419: UserWarning: KMeans is known to have a memory leak on Windows with MKL, when there are less chunks than available threads. You can avoid it by setting the environment variable OMP_NUM_THREADS=2.\n",
      "  warnings.warn(\n",
      "C:\\ProgramData\\anaconda3\\envs\\NLP1_Project2\\Lib\\site-packages\\sklearn\\cluster\\_kmeans.py:1419: UserWarning: KMeans is known to have a memory leak on Windows with MKL, when there are less chunks than available threads. You can avoid it by setting the environment variable OMP_NUM_THREADS=2.\n",
      "  warnings.warn(\n",
      "C:\\ProgramData\\anaconda3\\envs\\NLP1_Project2\\Lib\\site-packages\\sklearn\\cluster\\_kmeans.py:1419: UserWarning: KMeans is known to have a memory leak on Windows with MKL, when there are less chunks than available threads. You can avoid it by setting the environment variable OMP_NUM_THREADS=2.\n",
      "  warnings.warn(\n",
      "C:\\ProgramData\\anaconda3\\envs\\NLP1_Project2\\Lib\\site-packages\\sklearn\\cluster\\_kmeans.py:1419: UserWarning: KMeans is known to have a memory leak on Windows with MKL, when there are less chunks than available threads. You can avoid it by setting the environment variable OMP_NUM_THREADS=2.\n",
      "  warnings.warn(\n",
      "C:\\ProgramData\\anaconda3\\envs\\NLP1_Project2\\Lib\\site-packages\\sklearn\\cluster\\_kmeans.py:1419: UserWarning: KMeans is known to have a memory leak on Windows with MKL, when there are less chunks than available threads. You can avoid it by setting the environment variable OMP_NUM_THREADS=2.\n",
      "  warnings.warn(\n",
      "C:\\ProgramData\\anaconda3\\envs\\NLP1_Project2\\Lib\\site-packages\\sklearn\\cluster\\_kmeans.py:1419: UserWarning: KMeans is known to have a memory leak on Windows with MKL, when there are less chunks than available threads. You can avoid it by setting the environment variable OMP_NUM_THREADS=2.\n",
      "  warnings.warn(\n",
      "C:\\ProgramData\\anaconda3\\envs\\NLP1_Project2\\Lib\\site-packages\\sklearn\\cluster\\_kmeans.py:1419: UserWarning: KMeans is known to have a memory leak on Windows with MKL, when there are less chunks than available threads. You can avoid it by setting the environment variable OMP_NUM_THREADS=2.\n",
      "  warnings.warn(\n",
      "C:\\ProgramData\\anaconda3\\envs\\NLP1_Project2\\Lib\\site-packages\\sklearn\\cluster\\_kmeans.py:1419: UserWarning: KMeans is known to have a memory leak on Windows with MKL, when there are less chunks than available threads. You can avoid it by setting the environment variable OMP_NUM_THREADS=2.\n",
      "  warnings.warn(\n",
      "C:\\ProgramData\\anaconda3\\envs\\NLP1_Project2\\Lib\\site-packages\\sklearn\\cluster\\_kmeans.py:1419: UserWarning: KMeans is known to have a memory leak on Windows with MKL, when there are less chunks than available threads. You can avoid it by setting the environment variable OMP_NUM_THREADS=2.\n",
      "  warnings.warn(\n",
      "C:\\ProgramData\\anaconda3\\envs\\NLP1_Project2\\Lib\\site-packages\\sklearn\\cluster\\_kmeans.py:1419: UserWarning: KMeans is known to have a memory leak on Windows with MKL, when there are less chunks than available threads. You can avoid it by setting the environment variable OMP_NUM_THREADS=2.\n",
      "  warnings.warn(\n",
      "C:\\ProgramData\\anaconda3\\envs\\NLP1_Project2\\Lib\\site-packages\\sklearn\\cluster\\_kmeans.py:1419: UserWarning: KMeans is known to have a memory leak on Windows with MKL, when there are less chunks than available threads. You can avoid it by setting the environment variable OMP_NUM_THREADS=2.\n",
      "  warnings.warn(\n",
      "C:\\ProgramData\\anaconda3\\envs\\NLP1_Project2\\Lib\\site-packages\\sklearn\\cluster\\_kmeans.py:1419: UserWarning: KMeans is known to have a memory leak on Windows with MKL, when there are less chunks than available threads. You can avoid it by setting the environment variable OMP_NUM_THREADS=2.\n",
      "  warnings.warn(\n",
      "C:\\ProgramData\\anaconda3\\envs\\NLP1_Project2\\Lib\\site-packages\\sklearn\\cluster\\_kmeans.py:1419: UserWarning: KMeans is known to have a memory leak on Windows with MKL, when there are less chunks than available threads. You can avoid it by setting the environment variable OMP_NUM_THREADS=2.\n",
      "  warnings.warn(\n",
      "C:\\ProgramData\\anaconda3\\envs\\NLP1_Project2\\Lib\\site-packages\\sklearn\\cluster\\_kmeans.py:1419: UserWarning: KMeans is known to have a memory leak on Windows with MKL, when there are less chunks than available threads. You can avoid it by setting the environment variable OMP_NUM_THREADS=2.\n",
      "  warnings.warn(\n",
      "C:\\ProgramData\\anaconda3\\envs\\NLP1_Project2\\Lib\\site-packages\\sklearn\\cluster\\_kmeans.py:1419: UserWarning: KMeans is known to have a memory leak on Windows with MKL, when there are less chunks than available threads. You can avoid it by setting the environment variable OMP_NUM_THREADS=2.\n",
      "  warnings.warn(\n",
      "C:\\ProgramData\\anaconda3\\envs\\NLP1_Project2\\Lib\\site-packages\\sklearn\\cluster\\_kmeans.py:1419: UserWarning: KMeans is known to have a memory leak on Windows with MKL, when there are less chunks than available threads. You can avoid it by setting the environment variable OMP_NUM_THREADS=2.\n",
      "  warnings.warn(\n",
      "C:\\ProgramData\\anaconda3\\envs\\NLP1_Project2\\Lib\\site-packages\\sklearn\\cluster\\_kmeans.py:1419: UserWarning: KMeans is known to have a memory leak on Windows with MKL, when there are less chunks than available threads. You can avoid it by setting the environment variable OMP_NUM_THREADS=2.\n",
      "  warnings.warn(\n",
      "C:\\ProgramData\\anaconda3\\envs\\NLP1_Project2\\Lib\\site-packages\\sklearn\\cluster\\_kmeans.py:1419: UserWarning: KMeans is known to have a memory leak on Windows with MKL, when there are less chunks than available threads. You can avoid it by setting the environment variable OMP_NUM_THREADS=2.\n",
      "  warnings.warn(\n",
      "C:\\ProgramData\\anaconda3\\envs\\NLP1_Project2\\Lib\\site-packages\\sklearn\\cluster\\_kmeans.py:1419: UserWarning: KMeans is known to have a memory leak on Windows with MKL, when there are less chunks than available threads. You can avoid it by setting the environment variable OMP_NUM_THREADS=2.\n",
      "  warnings.warn(\n",
      "C:\\ProgramData\\anaconda3\\envs\\NLP1_Project2\\Lib\\site-packages\\sklearn\\cluster\\_kmeans.py:1419: UserWarning: KMeans is known to have a memory leak on Windows with MKL, when there are less chunks than available threads. You can avoid it by setting the environment variable OMP_NUM_THREADS=2.\n",
      "  warnings.warn(\n",
      "C:\\ProgramData\\anaconda3\\envs\\NLP1_Project2\\Lib\\site-packages\\sklearn\\cluster\\_kmeans.py:1419: UserWarning: KMeans is known to have a memory leak on Windows with MKL, when there are less chunks than available threads. You can avoid it by setting the environment variable OMP_NUM_THREADS=2.\n",
      "  warnings.warn(\n",
      "C:\\ProgramData\\anaconda3\\envs\\NLP1_Project2\\Lib\\site-packages\\sklearn\\cluster\\_kmeans.py:1419: UserWarning: KMeans is known to have a memory leak on Windows with MKL, when there are less chunks than available threads. You can avoid it by setting the environment variable OMP_NUM_THREADS=2.\n",
      "  warnings.warn(\n",
      "C:\\ProgramData\\anaconda3\\envs\\NLP1_Project2\\Lib\\site-packages\\sklearn\\cluster\\_kmeans.py:1419: UserWarning: KMeans is known to have a memory leak on Windows with MKL, when there are less chunks than available threads. You can avoid it by setting the environment variable OMP_NUM_THREADS=2.\n",
      "  warnings.warn(\n",
      "C:\\ProgramData\\anaconda3\\envs\\NLP1_Project2\\Lib\\site-packages\\sklearn\\cluster\\_kmeans.py:1419: UserWarning: KMeans is known to have a memory leak on Windows with MKL, when there are less chunks than available threads. You can avoid it by setting the environment variable OMP_NUM_THREADS=2.\n",
      "  warnings.warn(\n",
      "C:\\ProgramData\\anaconda3\\envs\\NLP1_Project2\\Lib\\site-packages\\sklearn\\cluster\\_kmeans.py:1419: UserWarning: KMeans is known to have a memory leak on Windows with MKL, when there are less chunks than available threads. You can avoid it by setting the environment variable OMP_NUM_THREADS=2.\n",
      "  warnings.warn(\n",
      "C:\\ProgramData\\anaconda3\\envs\\NLP1_Project2\\Lib\\site-packages\\sklearn\\cluster\\_kmeans.py:1419: UserWarning: KMeans is known to have a memory leak on Windows with MKL, when there are less chunks than available threads. You can avoid it by setting the environment variable OMP_NUM_THREADS=2.\n",
      "  warnings.warn(\n",
      "C:\\ProgramData\\anaconda3\\envs\\NLP1_Project2\\Lib\\site-packages\\sklearn\\cluster\\_kmeans.py:1419: UserWarning: KMeans is known to have a memory leak on Windows with MKL, when there are less chunks than available threads. You can avoid it by setting the environment variable OMP_NUM_THREADS=2.\n",
      "  warnings.warn(\n",
      "C:\\ProgramData\\anaconda3\\envs\\NLP1_Project2\\Lib\\site-packages\\sklearn\\cluster\\_kmeans.py:1419: UserWarning: KMeans is known to have a memory leak on Windows with MKL, when there are less chunks than available threads. You can avoid it by setting the environment variable OMP_NUM_THREADS=2.\n",
      "  warnings.warn(\n",
      "C:\\ProgramData\\anaconda3\\envs\\NLP1_Project2\\Lib\\site-packages\\sklearn\\cluster\\_kmeans.py:1419: UserWarning: KMeans is known to have a memory leak on Windows with MKL, when there are less chunks than available threads. You can avoid it by setting the environment variable OMP_NUM_THREADS=2.\n",
      "  warnings.warn(\n",
      "C:\\ProgramData\\anaconda3\\envs\\NLP1_Project2\\Lib\\site-packages\\sklearn\\cluster\\_kmeans.py:1419: UserWarning: KMeans is known to have a memory leak on Windows with MKL, when there are less chunks than available threads. You can avoid it by setting the environment variable OMP_NUM_THREADS=2.\n",
      "  warnings.warn(\n",
      "C:\\ProgramData\\anaconda3\\envs\\NLP1_Project2\\Lib\\site-packages\\sklearn\\cluster\\_kmeans.py:1419: UserWarning: KMeans is known to have a memory leak on Windows with MKL, when there are less chunks than available threads. You can avoid it by setting the environment variable OMP_NUM_THREADS=2.\n",
      "  warnings.warn(\n",
      "C:\\ProgramData\\anaconda3\\envs\\NLP1_Project2\\Lib\\site-packages\\sklearn\\cluster\\_kmeans.py:1419: UserWarning: KMeans is known to have a memory leak on Windows with MKL, when there are less chunks than available threads. You can avoid it by setting the environment variable OMP_NUM_THREADS=2.\n",
      "  warnings.warn(\n",
      "C:\\ProgramData\\anaconda3\\envs\\NLP1_Project2\\Lib\\site-packages\\sklearn\\cluster\\_kmeans.py:1419: UserWarning: KMeans is known to have a memory leak on Windows with MKL, when there are less chunks than available threads. You can avoid it by setting the environment variable OMP_NUM_THREADS=2.\n",
      "  warnings.warn(\n",
      "C:\\ProgramData\\anaconda3\\envs\\NLP1_Project2\\Lib\\site-packages\\sklearn\\cluster\\_kmeans.py:1419: UserWarning: KMeans is known to have a memory leak on Windows with MKL, when there are less chunks than available threads. You can avoid it by setting the environment variable OMP_NUM_THREADS=2.\n",
      "  warnings.warn(\n",
      "C:\\ProgramData\\anaconda3\\envs\\NLP1_Project2\\Lib\\site-packages\\sklearn\\cluster\\_kmeans.py:1419: UserWarning: KMeans is known to have a memory leak on Windows with MKL, when there are less chunks than available threads. You can avoid it by setting the environment variable OMP_NUM_THREADS=2.\n",
      "  warnings.warn(\n",
      "C:\\ProgramData\\anaconda3\\envs\\NLP1_Project2\\Lib\\site-packages\\sklearn\\cluster\\_kmeans.py:1419: UserWarning: KMeans is known to have a memory leak on Windows with MKL, when there are less chunks than available threads. You can avoid it by setting the environment variable OMP_NUM_THREADS=2.\n",
      "  warnings.warn(\n",
      "C:\\ProgramData\\anaconda3\\envs\\NLP1_Project2\\Lib\\site-packages\\sklearn\\cluster\\_kmeans.py:1419: UserWarning: KMeans is known to have a memory leak on Windows with MKL, when there are less chunks than available threads. You can avoid it by setting the environment variable OMP_NUM_THREADS=2.\n",
      "  warnings.warn(\n",
      "C:\\ProgramData\\anaconda3\\envs\\NLP1_Project2\\Lib\\site-packages\\sklearn\\cluster\\_kmeans.py:1419: UserWarning: KMeans is known to have a memory leak on Windows with MKL, when there are less chunks than available threads. You can avoid it by setting the environment variable OMP_NUM_THREADS=2.\n",
      "  warnings.warn(\n",
      "C:\\ProgramData\\anaconda3\\envs\\NLP1_Project2\\Lib\\site-packages\\sklearn\\cluster\\_kmeans.py:1419: UserWarning: KMeans is known to have a memory leak on Windows with MKL, when there are less chunks than available threads. You can avoid it by setting the environment variable OMP_NUM_THREADS=2.\n",
      "  warnings.warn(\n",
      "C:\\ProgramData\\anaconda3\\envs\\NLP1_Project2\\Lib\\site-packages\\sklearn\\cluster\\_kmeans.py:1419: UserWarning: KMeans is known to have a memory leak on Windows with MKL, when there are less chunks than available threads. You can avoid it by setting the environment variable OMP_NUM_THREADS=2.\n",
      "  warnings.warn(\n",
      "C:\\ProgramData\\anaconda3\\envs\\NLP1_Project2\\Lib\\site-packages\\sklearn\\cluster\\_kmeans.py:1419: UserWarning: KMeans is known to have a memory leak on Windows with MKL, when there are less chunks than available threads. You can avoid it by setting the environment variable OMP_NUM_THREADS=2.\n",
      "  warnings.warn(\n",
      "C:\\ProgramData\\anaconda3\\envs\\NLP1_Project2\\Lib\\site-packages\\sklearn\\cluster\\_kmeans.py:1419: UserWarning: KMeans is known to have a memory leak on Windows with MKL, when there are less chunks than available threads. You can avoid it by setting the environment variable OMP_NUM_THREADS=2.\n",
      "  warnings.warn(\n",
      "C:\\ProgramData\\anaconda3\\envs\\NLP1_Project2\\Lib\\site-packages\\sklearn\\cluster\\_kmeans.py:1419: UserWarning: KMeans is known to have a memory leak on Windows with MKL, when there are less chunks than available threads. You can avoid it by setting the environment variable OMP_NUM_THREADS=2.\n",
      "  warnings.warn(\n",
      "C:\\ProgramData\\anaconda3\\envs\\NLP1_Project2\\Lib\\site-packages\\sklearn\\cluster\\_kmeans.py:1419: UserWarning: KMeans is known to have a memory leak on Windows with MKL, when there are less chunks than available threads. You can avoid it by setting the environment variable OMP_NUM_THREADS=2.\n",
      "  warnings.warn(\n",
      "C:\\ProgramData\\anaconda3\\envs\\NLP1_Project2\\Lib\\site-packages\\sklearn\\cluster\\_kmeans.py:1419: UserWarning: KMeans is known to have a memory leak on Windows with MKL, when there are less chunks than available threads. You can avoid it by setting the environment variable OMP_NUM_THREADS=2.\n",
      "  warnings.warn(\n",
      "C:\\ProgramData\\anaconda3\\envs\\NLP1_Project2\\Lib\\site-packages\\sklearn\\cluster\\_kmeans.py:1419: UserWarning: KMeans is known to have a memory leak on Windows with MKL, when there are less chunks than available threads. You can avoid it by setting the environment variable OMP_NUM_THREADS=2.\n",
      "  warnings.warn(\n",
      "C:\\ProgramData\\anaconda3\\envs\\NLP1_Project2\\Lib\\site-packages\\sklearn\\cluster\\_kmeans.py:1419: UserWarning: KMeans is known to have a memory leak on Windows with MKL, when there are less chunks than available threads. You can avoid it by setting the environment variable OMP_NUM_THREADS=2.\n",
      "  warnings.warn(\n",
      "C:\\ProgramData\\anaconda3\\envs\\NLP1_Project2\\Lib\\site-packages\\sklearn\\cluster\\_kmeans.py:1419: UserWarning: KMeans is known to have a memory leak on Windows with MKL, when there are less chunks than available threads. You can avoid it by setting the environment variable OMP_NUM_THREADS=2.\n",
      "  warnings.warn(\n",
      "C:\\ProgramData\\anaconda3\\envs\\NLP1_Project2\\Lib\\site-packages\\sklearn\\cluster\\_kmeans.py:1419: UserWarning: KMeans is known to have a memory leak on Windows with MKL, when there are less chunks than available threads. You can avoid it by setting the environment variable OMP_NUM_THREADS=2.\n",
      "  warnings.warn(\n",
      "C:\\ProgramData\\anaconda3\\envs\\NLP1_Project2\\Lib\\site-packages\\sklearn\\cluster\\_kmeans.py:1419: UserWarning: KMeans is known to have a memory leak on Windows with MKL, when there are less chunks than available threads. You can avoid it by setting the environment variable OMP_NUM_THREADS=2.\n",
      "  warnings.warn(\n",
      "C:\\ProgramData\\anaconda3\\envs\\NLP1_Project2\\Lib\\site-packages\\sklearn\\cluster\\_kmeans.py:1419: UserWarning: KMeans is known to have a memory leak on Windows with MKL, when there are less chunks than available threads. You can avoid it by setting the environment variable OMP_NUM_THREADS=2.\n",
      "  warnings.warn(\n",
      "C:\\ProgramData\\anaconda3\\envs\\NLP1_Project2\\Lib\\site-packages\\sklearn\\cluster\\_kmeans.py:1419: UserWarning: KMeans is known to have a memory leak on Windows with MKL, when there are less chunks than available threads. You can avoid it by setting the environment variable OMP_NUM_THREADS=2.\n",
      "  warnings.warn(\n",
      "C:\\ProgramData\\anaconda3\\envs\\NLP1_Project2\\Lib\\site-packages\\sklearn\\cluster\\_kmeans.py:1419: UserWarning: KMeans is known to have a memory leak on Windows with MKL, when there are less chunks than available threads. You can avoid it by setting the environment variable OMP_NUM_THREADS=2.\n",
      "  warnings.warn(\n",
      "C:\\ProgramData\\anaconda3\\envs\\NLP1_Project2\\Lib\\site-packages\\sklearn\\cluster\\_kmeans.py:1419: UserWarning: KMeans is known to have a memory leak on Windows with MKL, when there are less chunks than available threads. You can avoid it by setting the environment variable OMP_NUM_THREADS=2.\n",
      "  warnings.warn(\n",
      "C:\\ProgramData\\anaconda3\\envs\\NLP1_Project2\\Lib\\site-packages\\sklearn\\cluster\\_kmeans.py:1419: UserWarning: KMeans is known to have a memory leak on Windows with MKL, when there are less chunks than available threads. You can avoid it by setting the environment variable OMP_NUM_THREADS=2.\n",
      "  warnings.warn(\n",
      "C:\\ProgramData\\anaconda3\\envs\\NLP1_Project2\\Lib\\site-packages\\sklearn\\cluster\\_kmeans.py:1419: UserWarning: KMeans is known to have a memory leak on Windows with MKL, when there are less chunks than available threads. You can avoid it by setting the environment variable OMP_NUM_THREADS=2.\n",
      "  warnings.warn(\n",
      "C:\\ProgramData\\anaconda3\\envs\\NLP1_Project2\\Lib\\site-packages\\sklearn\\cluster\\_kmeans.py:1419: UserWarning: KMeans is known to have a memory leak on Windows with MKL, when there are less chunks than available threads. You can avoid it by setting the environment variable OMP_NUM_THREADS=2.\n",
      "  warnings.warn(\n",
      "C:\\ProgramData\\anaconda3\\envs\\NLP1_Project2\\Lib\\site-packages\\sklearn\\cluster\\_kmeans.py:1419: UserWarning: KMeans is known to have a memory leak on Windows with MKL, when there are less chunks than available threads. You can avoid it by setting the environment variable OMP_NUM_THREADS=2.\n",
      "  warnings.warn(\n",
      "C:\\ProgramData\\anaconda3\\envs\\NLP1_Project2\\Lib\\site-packages\\sklearn\\cluster\\_kmeans.py:1419: UserWarning: KMeans is known to have a memory leak on Windows with MKL, when there are less chunks than available threads. You can avoid it by setting the environment variable OMP_NUM_THREADS=2.\n",
      "  warnings.warn(\n",
      "C:\\ProgramData\\anaconda3\\envs\\NLP1_Project2\\Lib\\site-packages\\sklearn\\cluster\\_kmeans.py:1419: UserWarning: KMeans is known to have a memory leak on Windows with MKL, when there are less chunks than available threads. You can avoid it by setting the environment variable OMP_NUM_THREADS=2.\n",
      "  warnings.warn(\n",
      "C:\\ProgramData\\anaconda3\\envs\\NLP1_Project2\\Lib\\site-packages\\sklearn\\cluster\\_kmeans.py:1419: UserWarning: KMeans is known to have a memory leak on Windows with MKL, when there are less chunks than available threads. You can avoid it by setting the environment variable OMP_NUM_THREADS=2.\n",
      "  warnings.warn(\n",
      "C:\\ProgramData\\anaconda3\\envs\\NLP1_Project2\\Lib\\site-packages\\sklearn\\cluster\\_kmeans.py:1419: UserWarning: KMeans is known to have a memory leak on Windows with MKL, when there are less chunks than available threads. You can avoid it by setting the environment variable OMP_NUM_THREADS=2.\n",
      "  warnings.warn(\n",
      "C:\\ProgramData\\anaconda3\\envs\\NLP1_Project2\\Lib\\site-packages\\sklearn\\cluster\\_kmeans.py:1419: UserWarning: KMeans is known to have a memory leak on Windows with MKL, when there are less chunks than available threads. You can avoid it by setting the environment variable OMP_NUM_THREADS=2.\n",
      "  warnings.warn(\n",
      "C:\\ProgramData\\anaconda3\\envs\\NLP1_Project2\\Lib\\site-packages\\sklearn\\cluster\\_kmeans.py:1419: UserWarning: KMeans is known to have a memory leak on Windows with MKL, when there are less chunks than available threads. You can avoid it by setting the environment variable OMP_NUM_THREADS=2.\n",
      "  warnings.warn(\n",
      "C:\\ProgramData\\anaconda3\\envs\\NLP1_Project2\\Lib\\site-packages\\sklearn\\cluster\\_kmeans.py:1419: UserWarning: KMeans is known to have a memory leak on Windows with MKL, when there are less chunks than available threads. You can avoid it by setting the environment variable OMP_NUM_THREADS=2.\n",
      "  warnings.warn(\n",
      "C:\\ProgramData\\anaconda3\\envs\\NLP1_Project2\\Lib\\site-packages\\sklearn\\cluster\\_kmeans.py:1419: UserWarning: KMeans is known to have a memory leak on Windows with MKL, when there are less chunks than available threads. You can avoid it by setting the environment variable OMP_NUM_THREADS=2.\n",
      "  warnings.warn(\n",
      "C:\\ProgramData\\anaconda3\\envs\\NLP1_Project2\\Lib\\site-packages\\sklearn\\cluster\\_kmeans.py:1419: UserWarning: KMeans is known to have a memory leak on Windows with MKL, when there are less chunks than available threads. You can avoid it by setting the environment variable OMP_NUM_THREADS=2.\n",
      "  warnings.warn(\n",
      "C:\\ProgramData\\anaconda3\\envs\\NLP1_Project2\\Lib\\site-packages\\sklearn\\cluster\\_kmeans.py:1419: UserWarning: KMeans is known to have a memory leak on Windows with MKL, when there are less chunks than available threads. You can avoid it by setting the environment variable OMP_NUM_THREADS=2.\n",
      "  warnings.warn(\n",
      "C:\\ProgramData\\anaconda3\\envs\\NLP1_Project2\\Lib\\site-packages\\sklearn\\cluster\\_kmeans.py:1419: UserWarning: KMeans is known to have a memory leak on Windows with MKL, when there are less chunks than available threads. You can avoid it by setting the environment variable OMP_NUM_THREADS=2.\n",
      "  warnings.warn(\n",
      "C:\\ProgramData\\anaconda3\\envs\\NLP1_Project2\\Lib\\site-packages\\sklearn\\cluster\\_kmeans.py:1419: UserWarning: KMeans is known to have a memory leak on Windows with MKL, when there are less chunks than available threads. You can avoid it by setting the environment variable OMP_NUM_THREADS=2.\n",
      "  warnings.warn(\n",
      "C:\\ProgramData\\anaconda3\\envs\\NLP1_Project2\\Lib\\site-packages\\sklearn\\cluster\\_kmeans.py:1419: UserWarning: KMeans is known to have a memory leak on Windows with MKL, when there are less chunks than available threads. You can avoid it by setting the environment variable OMP_NUM_THREADS=2.\n",
      "  warnings.warn(\n",
      "C:\\ProgramData\\anaconda3\\envs\\NLP1_Project2\\Lib\\site-packages\\sklearn\\cluster\\_kmeans.py:1419: UserWarning: KMeans is known to have a memory leak on Windows with MKL, when there are less chunks than available threads. You can avoid it by setting the environment variable OMP_NUM_THREADS=2.\n",
      "  warnings.warn(\n",
      "C:\\ProgramData\\anaconda3\\envs\\NLP1_Project2\\Lib\\site-packages\\sklearn\\cluster\\_kmeans.py:1419: UserWarning: KMeans is known to have a memory leak on Windows with MKL, when there are less chunks than available threads. You can avoid it by setting the environment variable OMP_NUM_THREADS=2.\n",
      "  warnings.warn(\n",
      "C:\\ProgramData\\anaconda3\\envs\\NLP1_Project2\\Lib\\site-packages\\sklearn\\cluster\\_kmeans.py:1419: UserWarning: KMeans is known to have a memory leak on Windows with MKL, when there are less chunks than available threads. You can avoid it by setting the environment variable OMP_NUM_THREADS=2.\n",
      "  warnings.warn(\n",
      "C:\\ProgramData\\anaconda3\\envs\\NLP1_Project2\\Lib\\site-packages\\sklearn\\cluster\\_kmeans.py:1419: UserWarning: KMeans is known to have a memory leak on Windows with MKL, when there are less chunks than available threads. You can avoid it by setting the environment variable OMP_NUM_THREADS=2.\n",
      "  warnings.warn(\n"
     ]
    }
   ],
   "source": [
    "# Hyperparameter definition\n",
    "num_topics_list_kms = [4, 11, 1]\n",
    "num_inits_list_kms = [5, 10, 20, 30, 40]\n",
    "num_iter_list_kms = [500, 1000, 2500, 5000]\n",
    "\n",
    "# Trainig of k-means models\n",
    "model_list_kms_hpt, _, model_hpr_prm_kms_hpt = train_kmeans_pp(data = train_bert, \n",
    "                                                               num_topics = num_topics_list_kms,\n",
    "                                                               num_init = num_inits_list_kms,\n",
    "                                                               num_iter = num_iter_list_kms)"
   ]
  },
  {
   "cell_type": "markdown",
   "id": "0750a585-8654-4e25-bb46-683212b91171",
   "metadata": {},
   "source": [
    "After training, the nest step is to get the best model and show the results of the evaluation."
   ]
  },
  {
   "cell_type": "code",
   "execution_count": 25,
   "id": "6416c72c-7762-44f2-b3cb-f5a3fe3b9007",
   "metadata": {
    "scrolled": true
   },
   "outputs": [
    {
     "name": "stderr",
     "output_type": "stream",
     "text": [
      "C:\\ProgramData\\anaconda3\\envs\\NLP1_Project2\\Lib\\site-packages\\sklearn\\cluster\\_kmeans.py:1419: UserWarning: KMeans is known to have a memory leak on Windows with MKL, when there are less chunks than available threads. You can avoid it by setting the environment variable OMP_NUM_THREADS=1.\n",
      "  warnings.warn(\n",
      "C:\\ProgramData\\anaconda3\\envs\\NLP1_Project2\\Lib\\site-packages\\sklearn\\cluster\\_kmeans.py:1419: UserWarning: KMeans is known to have a memory leak on Windows with MKL, when there are less chunks than available threads. You can avoid it by setting the environment variable OMP_NUM_THREADS=1.\n",
      "  warnings.warn(\n",
      "C:\\ProgramData\\anaconda3\\envs\\NLP1_Project2\\Lib\\site-packages\\sklearn\\cluster\\_kmeans.py:1419: UserWarning: KMeans is known to have a memory leak on Windows with MKL, when there are less chunks than available threads. You can avoid it by setting the environment variable OMP_NUM_THREADS=1.\n",
      "  warnings.warn(\n",
      "C:\\ProgramData\\anaconda3\\envs\\NLP1_Project2\\Lib\\site-packages\\sklearn\\cluster\\_kmeans.py:1419: UserWarning: KMeans is known to have a memory leak on Windows with MKL, when there are less chunks than available threads. You can avoid it by setting the environment variable OMP_NUM_THREADS=1.\n",
      "  warnings.warn(\n",
      "C:\\ProgramData\\anaconda3\\envs\\NLP1_Project2\\Lib\\site-packages\\sklearn\\cluster\\_kmeans.py:1419: UserWarning: KMeans is known to have a memory leak on Windows with MKL, when there are less chunks than available threads. You can avoid it by setting the environment variable OMP_NUM_THREADS=1.\n",
      "  warnings.warn(\n",
      "C:\\ProgramData\\anaconda3\\envs\\NLP1_Project2\\Lib\\site-packages\\sklearn\\cluster\\_kmeans.py:1419: UserWarning: KMeans is known to have a memory leak on Windows with MKL, when there are less chunks than available threads. You can avoid it by setting the environment variable OMP_NUM_THREADS=1.\n",
      "  warnings.warn(\n",
      "C:\\ProgramData\\anaconda3\\envs\\NLP1_Project2\\Lib\\site-packages\\sklearn\\cluster\\_kmeans.py:1419: UserWarning: KMeans is known to have a memory leak on Windows with MKL, when there are less chunks than available threads. You can avoid it by setting the environment variable OMP_NUM_THREADS=1.\n",
      "  warnings.warn(\n",
      "C:\\ProgramData\\anaconda3\\envs\\NLP1_Project2\\Lib\\site-packages\\sklearn\\cluster\\_kmeans.py:1419: UserWarning: KMeans is known to have a memory leak on Windows with MKL, when there are less chunks than available threads. You can avoid it by setting the environment variable OMP_NUM_THREADS=1.\n",
      "  warnings.warn(\n",
      "C:\\ProgramData\\anaconda3\\envs\\NLP1_Project2\\Lib\\site-packages\\sklearn\\cluster\\_kmeans.py:1419: UserWarning: KMeans is known to have a memory leak on Windows with MKL, when there are less chunks than available threads. You can avoid it by setting the environment variable OMP_NUM_THREADS=1.\n",
      "  warnings.warn(\n",
      "C:\\ProgramData\\anaconda3\\envs\\NLP1_Project2\\Lib\\site-packages\\sklearn\\cluster\\_kmeans.py:1419: UserWarning: KMeans is known to have a memory leak on Windows with MKL, when there are less chunks than available threads. You can avoid it by setting the environment variable OMP_NUM_THREADS=1.\n",
      "  warnings.warn(\n",
      "C:\\ProgramData\\anaconda3\\envs\\NLP1_Project2\\Lib\\site-packages\\sklearn\\cluster\\_kmeans.py:1419: UserWarning: KMeans is known to have a memory leak on Windows with MKL, when there are less chunks than available threads. You can avoid it by setting the environment variable OMP_NUM_THREADS=1.\n",
      "  warnings.warn(\n",
      "C:\\ProgramData\\anaconda3\\envs\\NLP1_Project2\\Lib\\site-packages\\sklearn\\cluster\\_kmeans.py:1419: UserWarning: KMeans is known to have a memory leak on Windows with MKL, when there are less chunks than available threads. You can avoid it by setting the environment variable OMP_NUM_THREADS=1.\n",
      "  warnings.warn(\n",
      "C:\\ProgramData\\anaconda3\\envs\\NLP1_Project2\\Lib\\site-packages\\sklearn\\cluster\\_kmeans.py:1419: UserWarning: KMeans is known to have a memory leak on Windows with MKL, when there are less chunks than available threads. You can avoid it by setting the environment variable OMP_NUM_THREADS=1.\n",
      "  warnings.warn(\n",
      "C:\\ProgramData\\anaconda3\\envs\\NLP1_Project2\\Lib\\site-packages\\sklearn\\cluster\\_kmeans.py:1419: UserWarning: KMeans is known to have a memory leak on Windows with MKL, when there are less chunks than available threads. You can avoid it by setting the environment variable OMP_NUM_THREADS=1.\n",
      "  warnings.warn(\n",
      "C:\\ProgramData\\anaconda3\\envs\\NLP1_Project2\\Lib\\site-packages\\sklearn\\cluster\\_kmeans.py:1419: UserWarning: KMeans is known to have a memory leak on Windows with MKL, when there are less chunks than available threads. You can avoid it by setting the environment variable OMP_NUM_THREADS=1.\n",
      "  warnings.warn(\n",
      "C:\\ProgramData\\anaconda3\\envs\\NLP1_Project2\\Lib\\site-packages\\sklearn\\cluster\\_kmeans.py:1419: UserWarning: KMeans is known to have a memory leak on Windows with MKL, when there are less chunks than available threads. You can avoid it by setting the environment variable OMP_NUM_THREADS=1.\n",
      "  warnings.warn(\n",
      "C:\\ProgramData\\anaconda3\\envs\\NLP1_Project2\\Lib\\site-packages\\sklearn\\cluster\\_kmeans.py:1419: UserWarning: KMeans is known to have a memory leak on Windows with MKL, when there are less chunks than available threads. You can avoid it by setting the environment variable OMP_NUM_THREADS=1.\n",
      "  warnings.warn(\n",
      "C:\\ProgramData\\anaconda3\\envs\\NLP1_Project2\\Lib\\site-packages\\sklearn\\cluster\\_kmeans.py:1419: UserWarning: KMeans is known to have a memory leak on Windows with MKL, when there are less chunks than available threads. You can avoid it by setting the environment variable OMP_NUM_THREADS=1.\n",
      "  warnings.warn(\n",
      "C:\\ProgramData\\anaconda3\\envs\\NLP1_Project2\\Lib\\site-packages\\sklearn\\cluster\\_kmeans.py:1419: UserWarning: KMeans is known to have a memory leak on Windows with MKL, when there are less chunks than available threads. You can avoid it by setting the environment variable OMP_NUM_THREADS=1.\n",
      "  warnings.warn(\n",
      "C:\\ProgramData\\anaconda3\\envs\\NLP1_Project2\\Lib\\site-packages\\sklearn\\cluster\\_kmeans.py:1419: UserWarning: KMeans is known to have a memory leak on Windows with MKL, when there are less chunks than available threads. You can avoid it by setting the environment variable OMP_NUM_THREADS=1.\n",
      "  warnings.warn(\n",
      "C:\\ProgramData\\anaconda3\\envs\\NLP1_Project2\\Lib\\site-packages\\sklearn\\cluster\\_kmeans.py:1419: UserWarning: KMeans is known to have a memory leak on Windows with MKL, when there are less chunks than available threads. You can avoid it by setting the environment variable OMP_NUM_THREADS=1.\n",
      "  warnings.warn(\n",
      "C:\\ProgramData\\anaconda3\\envs\\NLP1_Project2\\Lib\\site-packages\\sklearn\\cluster\\_kmeans.py:1419: UserWarning: KMeans is known to have a memory leak on Windows with MKL, when there are less chunks than available threads. You can avoid it by setting the environment variable OMP_NUM_THREADS=1.\n",
      "  warnings.warn(\n",
      "C:\\ProgramData\\anaconda3\\envs\\NLP1_Project2\\Lib\\site-packages\\sklearn\\cluster\\_kmeans.py:1419: UserWarning: KMeans is known to have a memory leak on Windows with MKL, when there are less chunks than available threads. You can avoid it by setting the environment variable OMP_NUM_THREADS=1.\n",
      "  warnings.warn(\n",
      "C:\\ProgramData\\anaconda3\\envs\\NLP1_Project2\\Lib\\site-packages\\sklearn\\cluster\\_kmeans.py:1419: UserWarning: KMeans is known to have a memory leak on Windows with MKL, when there are less chunks than available threads. You can avoid it by setting the environment variable OMP_NUM_THREADS=1.\n",
      "  warnings.warn(\n",
      "C:\\ProgramData\\anaconda3\\envs\\NLP1_Project2\\Lib\\site-packages\\sklearn\\cluster\\_kmeans.py:1419: UserWarning: KMeans is known to have a memory leak on Windows with MKL, when there are less chunks than available threads. You can avoid it by setting the environment variable OMP_NUM_THREADS=1.\n",
      "  warnings.warn(\n",
      "C:\\ProgramData\\anaconda3\\envs\\NLP1_Project2\\Lib\\site-packages\\sklearn\\cluster\\_kmeans.py:1419: UserWarning: KMeans is known to have a memory leak on Windows with MKL, when there are less chunks than available threads. You can avoid it by setting the environment variable OMP_NUM_THREADS=1.\n",
      "  warnings.warn(\n",
      "C:\\ProgramData\\anaconda3\\envs\\NLP1_Project2\\Lib\\site-packages\\sklearn\\cluster\\_kmeans.py:1419: UserWarning: KMeans is known to have a memory leak on Windows with MKL, when there are less chunks than available threads. You can avoid it by setting the environment variable OMP_NUM_THREADS=1.\n",
      "  warnings.warn(\n",
      "C:\\ProgramData\\anaconda3\\envs\\NLP1_Project2\\Lib\\site-packages\\sklearn\\cluster\\_kmeans.py:1419: UserWarning: KMeans is known to have a memory leak on Windows with MKL, when there are less chunks than available threads. You can avoid it by setting the environment variable OMP_NUM_THREADS=1.\n",
      "  warnings.warn(\n",
      "C:\\ProgramData\\anaconda3\\envs\\NLP1_Project2\\Lib\\site-packages\\sklearn\\cluster\\_kmeans.py:1419: UserWarning: KMeans is known to have a memory leak on Windows with MKL, when there are less chunks than available threads. You can avoid it by setting the environment variable OMP_NUM_THREADS=1.\n",
      "  warnings.warn(\n",
      "C:\\ProgramData\\anaconda3\\envs\\NLP1_Project2\\Lib\\site-packages\\sklearn\\cluster\\_kmeans.py:1419: UserWarning: KMeans is known to have a memory leak on Windows with MKL, when there are less chunks than available threads. You can avoid it by setting the environment variable OMP_NUM_THREADS=1.\n",
      "  warnings.warn(\n",
      "C:\\ProgramData\\anaconda3\\envs\\NLP1_Project2\\Lib\\site-packages\\sklearn\\cluster\\_kmeans.py:1419: UserWarning: KMeans is known to have a memory leak on Windows with MKL, when there are less chunks than available threads. You can avoid it by setting the environment variable OMP_NUM_THREADS=1.\n",
      "  warnings.warn(\n",
      "C:\\ProgramData\\anaconda3\\envs\\NLP1_Project2\\Lib\\site-packages\\sklearn\\cluster\\_kmeans.py:1419: UserWarning: KMeans is known to have a memory leak on Windows with MKL, when there are less chunks than available threads. You can avoid it by setting the environment variable OMP_NUM_THREADS=1.\n",
      "  warnings.warn(\n",
      "C:\\ProgramData\\anaconda3\\envs\\NLP1_Project2\\Lib\\site-packages\\sklearn\\cluster\\_kmeans.py:1419: UserWarning: KMeans is known to have a memory leak on Windows with MKL, when there are less chunks than available threads. You can avoid it by setting the environment variable OMP_NUM_THREADS=1.\n",
      "  warnings.warn(\n",
      "C:\\ProgramData\\anaconda3\\envs\\NLP1_Project2\\Lib\\site-packages\\sklearn\\cluster\\_kmeans.py:1419: UserWarning: KMeans is known to have a memory leak on Windows with MKL, when there are less chunks than available threads. You can avoid it by setting the environment variable OMP_NUM_THREADS=1.\n",
      "  warnings.warn(\n",
      "C:\\ProgramData\\anaconda3\\envs\\NLP1_Project2\\Lib\\site-packages\\sklearn\\cluster\\_kmeans.py:1419: UserWarning: KMeans is known to have a memory leak on Windows with MKL, when there are less chunks than available threads. You can avoid it by setting the environment variable OMP_NUM_THREADS=1.\n",
      "  warnings.warn(\n",
      "C:\\ProgramData\\anaconda3\\envs\\NLP1_Project2\\Lib\\site-packages\\sklearn\\cluster\\_kmeans.py:1419: UserWarning: KMeans is known to have a memory leak on Windows with MKL, when there are less chunks than available threads. You can avoid it by setting the environment variable OMP_NUM_THREADS=1.\n",
      "  warnings.warn(\n",
      "C:\\ProgramData\\anaconda3\\envs\\NLP1_Project2\\Lib\\site-packages\\sklearn\\cluster\\_kmeans.py:1419: UserWarning: KMeans is known to have a memory leak on Windows with MKL, when there are less chunks than available threads. You can avoid it by setting the environment variable OMP_NUM_THREADS=1.\n",
      "  warnings.warn(\n",
      "C:\\ProgramData\\anaconda3\\envs\\NLP1_Project2\\Lib\\site-packages\\sklearn\\cluster\\_kmeans.py:1419: UserWarning: KMeans is known to have a memory leak on Windows with MKL, when there are less chunks than available threads. You can avoid it by setting the environment variable OMP_NUM_THREADS=1.\n",
      "  warnings.warn(\n",
      "C:\\ProgramData\\anaconda3\\envs\\NLP1_Project2\\Lib\\site-packages\\sklearn\\cluster\\_kmeans.py:1419: UserWarning: KMeans is known to have a memory leak on Windows with MKL, when there are less chunks than available threads. You can avoid it by setting the environment variable OMP_NUM_THREADS=1.\n",
      "  warnings.warn(\n",
      "C:\\ProgramData\\anaconda3\\envs\\NLP1_Project2\\Lib\\site-packages\\sklearn\\cluster\\_kmeans.py:1419: UserWarning: KMeans is known to have a memory leak on Windows with MKL, when there are less chunks than available threads. You can avoid it by setting the environment variable OMP_NUM_THREADS=1.\n",
      "  warnings.warn(\n",
      "C:\\ProgramData\\anaconda3\\envs\\NLP1_Project2\\Lib\\site-packages\\sklearn\\cluster\\_kmeans.py:1419: UserWarning: KMeans is known to have a memory leak on Windows with MKL, when there are less chunks than available threads. You can avoid it by setting the environment variable OMP_NUM_THREADS=1.\n",
      "  warnings.warn(\n",
      "C:\\ProgramData\\anaconda3\\envs\\NLP1_Project2\\Lib\\site-packages\\sklearn\\cluster\\_kmeans.py:1419: UserWarning: KMeans is known to have a memory leak on Windows with MKL, when there are less chunks than available threads. You can avoid it by setting the environment variable OMP_NUM_THREADS=1.\n",
      "  warnings.warn(\n",
      "C:\\ProgramData\\anaconda3\\envs\\NLP1_Project2\\Lib\\site-packages\\sklearn\\cluster\\_kmeans.py:1419: UserWarning: KMeans is known to have a memory leak on Windows with MKL, when there are less chunks than available threads. You can avoid it by setting the environment variable OMP_NUM_THREADS=1.\n",
      "  warnings.warn(\n",
      "C:\\ProgramData\\anaconda3\\envs\\NLP1_Project2\\Lib\\site-packages\\sklearn\\cluster\\_kmeans.py:1419: UserWarning: KMeans is known to have a memory leak on Windows with MKL, when there are less chunks than available threads. You can avoid it by setting the environment variable OMP_NUM_THREADS=1.\n",
      "  warnings.warn(\n",
      "C:\\ProgramData\\anaconda3\\envs\\NLP1_Project2\\Lib\\site-packages\\sklearn\\cluster\\_kmeans.py:1419: UserWarning: KMeans is known to have a memory leak on Windows with MKL, when there are less chunks than available threads. You can avoid it by setting the environment variable OMP_NUM_THREADS=1.\n",
      "  warnings.warn(\n",
      "C:\\ProgramData\\anaconda3\\envs\\NLP1_Project2\\Lib\\site-packages\\sklearn\\cluster\\_kmeans.py:1419: UserWarning: KMeans is known to have a memory leak on Windows with MKL, when there are less chunks than available threads. You can avoid it by setting the environment variable OMP_NUM_THREADS=1.\n",
      "  warnings.warn(\n",
      "C:\\ProgramData\\anaconda3\\envs\\NLP1_Project2\\Lib\\site-packages\\sklearn\\cluster\\_kmeans.py:1419: UserWarning: KMeans is known to have a memory leak on Windows with MKL, when there are less chunks than available threads. You can avoid it by setting the environment variable OMP_NUM_THREADS=1.\n",
      "  warnings.warn(\n",
      "C:\\ProgramData\\anaconda3\\envs\\NLP1_Project2\\Lib\\site-packages\\sklearn\\cluster\\_kmeans.py:1419: UserWarning: KMeans is known to have a memory leak on Windows with MKL, when there are less chunks than available threads. You can avoid it by setting the environment variable OMP_NUM_THREADS=1.\n",
      "  warnings.warn(\n",
      "C:\\ProgramData\\anaconda3\\envs\\NLP1_Project2\\Lib\\site-packages\\sklearn\\cluster\\_kmeans.py:1419: UserWarning: KMeans is known to have a memory leak on Windows with MKL, when there are less chunks than available threads. You can avoid it by setting the environment variable OMP_NUM_THREADS=1.\n",
      "  warnings.warn(\n",
      "C:\\ProgramData\\anaconda3\\envs\\NLP1_Project2\\Lib\\site-packages\\sklearn\\cluster\\_kmeans.py:1419: UserWarning: KMeans is known to have a memory leak on Windows with MKL, when there are less chunks than available threads. You can avoid it by setting the environment variable OMP_NUM_THREADS=1.\n",
      "  warnings.warn(\n",
      "C:\\ProgramData\\anaconda3\\envs\\NLP1_Project2\\Lib\\site-packages\\sklearn\\cluster\\_kmeans.py:1419: UserWarning: KMeans is known to have a memory leak on Windows with MKL, when there are less chunks than available threads. You can avoid it by setting the environment variable OMP_NUM_THREADS=1.\n",
      "  warnings.warn(\n",
      "C:\\ProgramData\\anaconda3\\envs\\NLP1_Project2\\Lib\\site-packages\\sklearn\\cluster\\_kmeans.py:1419: UserWarning: KMeans is known to have a memory leak on Windows with MKL, when there are less chunks than available threads. You can avoid it by setting the environment variable OMP_NUM_THREADS=1.\n",
      "  warnings.warn(\n",
      "C:\\ProgramData\\anaconda3\\envs\\NLP1_Project2\\Lib\\site-packages\\sklearn\\cluster\\_kmeans.py:1419: UserWarning: KMeans is known to have a memory leak on Windows with MKL, when there are less chunks than available threads. You can avoid it by setting the environment variable OMP_NUM_THREADS=1.\n",
      "  warnings.warn(\n",
      "C:\\ProgramData\\anaconda3\\envs\\NLP1_Project2\\Lib\\site-packages\\sklearn\\cluster\\_kmeans.py:1419: UserWarning: KMeans is known to have a memory leak on Windows with MKL, when there are less chunks than available threads. You can avoid it by setting the environment variable OMP_NUM_THREADS=1.\n",
      "  warnings.warn(\n",
      "C:\\ProgramData\\anaconda3\\envs\\NLP1_Project2\\Lib\\site-packages\\sklearn\\cluster\\_kmeans.py:1419: UserWarning: KMeans is known to have a memory leak on Windows with MKL, when there are less chunks than available threads. You can avoid it by setting the environment variable OMP_NUM_THREADS=1.\n",
      "  warnings.warn(\n",
      "C:\\ProgramData\\anaconda3\\envs\\NLP1_Project2\\Lib\\site-packages\\sklearn\\cluster\\_kmeans.py:1419: UserWarning: KMeans is known to have a memory leak on Windows with MKL, when there are less chunks than available threads. You can avoid it by setting the environment variable OMP_NUM_THREADS=1.\n",
      "  warnings.warn(\n",
      "C:\\ProgramData\\anaconda3\\envs\\NLP1_Project2\\Lib\\site-packages\\sklearn\\cluster\\_kmeans.py:1419: UserWarning: KMeans is known to have a memory leak on Windows with MKL, when there are less chunks than available threads. You can avoid it by setting the environment variable OMP_NUM_THREADS=1.\n",
      "  warnings.warn(\n",
      "C:\\ProgramData\\anaconda3\\envs\\NLP1_Project2\\Lib\\site-packages\\sklearn\\cluster\\_kmeans.py:1419: UserWarning: KMeans is known to have a memory leak on Windows with MKL, when there are less chunks than available threads. You can avoid it by setting the environment variable OMP_NUM_THREADS=1.\n",
      "  warnings.warn(\n",
      "C:\\ProgramData\\anaconda3\\envs\\NLP1_Project2\\Lib\\site-packages\\sklearn\\cluster\\_kmeans.py:1419: UserWarning: KMeans is known to have a memory leak on Windows with MKL, when there are less chunks than available threads. You can avoid it by setting the environment variable OMP_NUM_THREADS=1.\n",
      "  warnings.warn(\n",
      "C:\\ProgramData\\anaconda3\\envs\\NLP1_Project2\\Lib\\site-packages\\sklearn\\cluster\\_kmeans.py:1419: UserWarning: KMeans is known to have a memory leak on Windows with MKL, when there are less chunks than available threads. You can avoid it by setting the environment variable OMP_NUM_THREADS=1.\n",
      "  warnings.warn(\n",
      "C:\\ProgramData\\anaconda3\\envs\\NLP1_Project2\\Lib\\site-packages\\sklearn\\cluster\\_kmeans.py:1419: UserWarning: KMeans is known to have a memory leak on Windows with MKL, when there are less chunks than available threads. You can avoid it by setting the environment variable OMP_NUM_THREADS=1.\n",
      "  warnings.warn(\n",
      "C:\\ProgramData\\anaconda3\\envs\\NLP1_Project2\\Lib\\site-packages\\sklearn\\cluster\\_kmeans.py:1419: UserWarning: KMeans is known to have a memory leak on Windows with MKL, when there are less chunks than available threads. You can avoid it by setting the environment variable OMP_NUM_THREADS=1.\n",
      "  warnings.warn(\n",
      "C:\\ProgramData\\anaconda3\\envs\\NLP1_Project2\\Lib\\site-packages\\sklearn\\cluster\\_kmeans.py:1419: UserWarning: KMeans is known to have a memory leak on Windows with MKL, when there are less chunks than available threads. You can avoid it by setting the environment variable OMP_NUM_THREADS=1.\n",
      "  warnings.warn(\n",
      "C:\\ProgramData\\anaconda3\\envs\\NLP1_Project2\\Lib\\site-packages\\sklearn\\cluster\\_kmeans.py:1419: UserWarning: KMeans is known to have a memory leak on Windows with MKL, when there are less chunks than available threads. You can avoid it by setting the environment variable OMP_NUM_THREADS=1.\n",
      "  warnings.warn(\n",
      "C:\\ProgramData\\anaconda3\\envs\\NLP1_Project2\\Lib\\site-packages\\sklearn\\cluster\\_kmeans.py:1419: UserWarning: KMeans is known to have a memory leak on Windows with MKL, when there are less chunks than available threads. You can avoid it by setting the environment variable OMP_NUM_THREADS=1.\n",
      "  warnings.warn(\n",
      "C:\\ProgramData\\anaconda3\\envs\\NLP1_Project2\\Lib\\site-packages\\sklearn\\cluster\\_kmeans.py:1419: UserWarning: KMeans is known to have a memory leak on Windows with MKL, when there are less chunks than available threads. You can avoid it by setting the environment variable OMP_NUM_THREADS=1.\n",
      "  warnings.warn(\n",
      "C:\\ProgramData\\anaconda3\\envs\\NLP1_Project2\\Lib\\site-packages\\sklearn\\cluster\\_kmeans.py:1419: UserWarning: KMeans is known to have a memory leak on Windows with MKL, when there are less chunks than available threads. You can avoid it by setting the environment variable OMP_NUM_THREADS=1.\n",
      "  warnings.warn(\n",
      "C:\\ProgramData\\anaconda3\\envs\\NLP1_Project2\\Lib\\site-packages\\sklearn\\cluster\\_kmeans.py:1419: UserWarning: KMeans is known to have a memory leak on Windows with MKL, when there are less chunks than available threads. You can avoid it by setting the environment variable OMP_NUM_THREADS=1.\n",
      "  warnings.warn(\n",
      "C:\\ProgramData\\anaconda3\\envs\\NLP1_Project2\\Lib\\site-packages\\sklearn\\cluster\\_kmeans.py:1419: UserWarning: KMeans is known to have a memory leak on Windows with MKL, when there are less chunks than available threads. You can avoid it by setting the environment variable OMP_NUM_THREADS=1.\n",
      "  warnings.warn(\n",
      "C:\\ProgramData\\anaconda3\\envs\\NLP1_Project2\\Lib\\site-packages\\sklearn\\cluster\\_kmeans.py:1419: UserWarning: KMeans is known to have a memory leak on Windows with MKL, when there are less chunks than available threads. You can avoid it by setting the environment variable OMP_NUM_THREADS=1.\n",
      "  warnings.warn(\n",
      "C:\\ProgramData\\anaconda3\\envs\\NLP1_Project2\\Lib\\site-packages\\sklearn\\cluster\\_kmeans.py:1419: UserWarning: KMeans is known to have a memory leak on Windows with MKL, when there are less chunks than available threads. You can avoid it by setting the environment variable OMP_NUM_THREADS=1.\n",
      "  warnings.warn(\n",
      "C:\\ProgramData\\anaconda3\\envs\\NLP1_Project2\\Lib\\site-packages\\sklearn\\cluster\\_kmeans.py:1419: UserWarning: KMeans is known to have a memory leak on Windows with MKL, when there are less chunks than available threads. You can avoid it by setting the environment variable OMP_NUM_THREADS=1.\n",
      "  warnings.warn(\n",
      "C:\\ProgramData\\anaconda3\\envs\\NLP1_Project2\\Lib\\site-packages\\sklearn\\cluster\\_kmeans.py:1419: UserWarning: KMeans is known to have a memory leak on Windows with MKL, when there are less chunks than available threads. You can avoid it by setting the environment variable OMP_NUM_THREADS=1.\n",
      "  warnings.warn(\n",
      "C:\\ProgramData\\anaconda3\\envs\\NLP1_Project2\\Lib\\site-packages\\sklearn\\cluster\\_kmeans.py:1419: UserWarning: KMeans is known to have a memory leak on Windows with MKL, when there are less chunks than available threads. You can avoid it by setting the environment variable OMP_NUM_THREADS=1.\n",
      "  warnings.warn(\n",
      "C:\\ProgramData\\anaconda3\\envs\\NLP1_Project2\\Lib\\site-packages\\sklearn\\cluster\\_kmeans.py:1419: UserWarning: KMeans is known to have a memory leak on Windows with MKL, when there are less chunks than available threads. You can avoid it by setting the environment variable OMP_NUM_THREADS=1.\n",
      "  warnings.warn(\n",
      "C:\\ProgramData\\anaconda3\\envs\\NLP1_Project2\\Lib\\site-packages\\sklearn\\cluster\\_kmeans.py:1419: UserWarning: KMeans is known to have a memory leak on Windows with MKL, when there are less chunks than available threads. You can avoid it by setting the environment variable OMP_NUM_THREADS=1.\n",
      "  warnings.warn(\n",
      "C:\\ProgramData\\anaconda3\\envs\\NLP1_Project2\\Lib\\site-packages\\sklearn\\cluster\\_kmeans.py:1419: UserWarning: KMeans is known to have a memory leak on Windows with MKL, when there are less chunks than available threads. You can avoid it by setting the environment variable OMP_NUM_THREADS=1.\n",
      "  warnings.warn(\n",
      "C:\\ProgramData\\anaconda3\\envs\\NLP1_Project2\\Lib\\site-packages\\sklearn\\cluster\\_kmeans.py:1419: UserWarning: KMeans is known to have a memory leak on Windows with MKL, when there are less chunks than available threads. You can avoid it by setting the environment variable OMP_NUM_THREADS=1.\n",
      "  warnings.warn(\n",
      "C:\\ProgramData\\anaconda3\\envs\\NLP1_Project2\\Lib\\site-packages\\sklearn\\cluster\\_kmeans.py:1419: UserWarning: KMeans is known to have a memory leak on Windows with MKL, when there are less chunks than available threads. You can avoid it by setting the environment variable OMP_NUM_THREADS=1.\n",
      "  warnings.warn(\n",
      "C:\\ProgramData\\anaconda3\\envs\\NLP1_Project2\\Lib\\site-packages\\sklearn\\cluster\\_kmeans.py:1419: UserWarning: KMeans is known to have a memory leak on Windows with MKL, when there are less chunks than available threads. You can avoid it by setting the environment variable OMP_NUM_THREADS=1.\n",
      "  warnings.warn(\n",
      "C:\\ProgramData\\anaconda3\\envs\\NLP1_Project2\\Lib\\site-packages\\sklearn\\cluster\\_kmeans.py:1419: UserWarning: KMeans is known to have a memory leak on Windows with MKL, when there are less chunks than available threads. You can avoid it by setting the environment variable OMP_NUM_THREADS=1.\n",
      "  warnings.warn(\n",
      "C:\\ProgramData\\anaconda3\\envs\\NLP1_Project2\\Lib\\site-packages\\sklearn\\cluster\\_kmeans.py:1419: UserWarning: KMeans is known to have a memory leak on Windows with MKL, when there are less chunks than available threads. You can avoid it by setting the environment variable OMP_NUM_THREADS=1.\n",
      "  warnings.warn(\n",
      "C:\\ProgramData\\anaconda3\\envs\\NLP1_Project2\\Lib\\site-packages\\sklearn\\cluster\\_kmeans.py:1419: UserWarning: KMeans is known to have a memory leak on Windows with MKL, when there are less chunks than available threads. You can avoid it by setting the environment variable OMP_NUM_THREADS=1.\n",
      "  warnings.warn(\n",
      "C:\\ProgramData\\anaconda3\\envs\\NLP1_Project2\\Lib\\site-packages\\sklearn\\cluster\\_kmeans.py:1419: UserWarning: KMeans is known to have a memory leak on Windows with MKL, when there are less chunks than available threads. You can avoid it by setting the environment variable OMP_NUM_THREADS=1.\n",
      "  warnings.warn(\n",
      "C:\\ProgramData\\anaconda3\\envs\\NLP1_Project2\\Lib\\site-packages\\sklearn\\cluster\\_kmeans.py:1419: UserWarning: KMeans is known to have a memory leak on Windows with MKL, when there are less chunks than available threads. You can avoid it by setting the environment variable OMP_NUM_THREADS=1.\n",
      "  warnings.warn(\n",
      "C:\\ProgramData\\anaconda3\\envs\\NLP1_Project2\\Lib\\site-packages\\sklearn\\cluster\\_kmeans.py:1419: UserWarning: KMeans is known to have a memory leak on Windows with MKL, when there are less chunks than available threads. You can avoid it by setting the environment variable OMP_NUM_THREADS=1.\n",
      "  warnings.warn(\n",
      "C:\\ProgramData\\anaconda3\\envs\\NLP1_Project2\\Lib\\site-packages\\sklearn\\cluster\\_kmeans.py:1419: UserWarning: KMeans is known to have a memory leak on Windows with MKL, when there are less chunks than available threads. You can avoid it by setting the environment variable OMP_NUM_THREADS=1.\n",
      "  warnings.warn(\n",
      "C:\\ProgramData\\anaconda3\\envs\\NLP1_Project2\\Lib\\site-packages\\sklearn\\cluster\\_kmeans.py:1419: UserWarning: KMeans is known to have a memory leak on Windows with MKL, when there are less chunks than available threads. You can avoid it by setting the environment variable OMP_NUM_THREADS=1.\n",
      "  warnings.warn(\n",
      "C:\\ProgramData\\anaconda3\\envs\\NLP1_Project2\\Lib\\site-packages\\sklearn\\cluster\\_kmeans.py:1419: UserWarning: KMeans is known to have a memory leak on Windows with MKL, when there are less chunks than available threads. You can avoid it by setting the environment variable OMP_NUM_THREADS=1.\n",
      "  warnings.warn(\n",
      "C:\\ProgramData\\anaconda3\\envs\\NLP1_Project2\\Lib\\site-packages\\sklearn\\cluster\\_kmeans.py:1419: UserWarning: KMeans is known to have a memory leak on Windows with MKL, when there are less chunks than available threads. You can avoid it by setting the environment variable OMP_NUM_THREADS=1.\n",
      "  warnings.warn(\n",
      "C:\\ProgramData\\anaconda3\\envs\\NLP1_Project2\\Lib\\site-packages\\sklearn\\cluster\\_kmeans.py:1419: UserWarning: KMeans is known to have a memory leak on Windows with MKL, when there are less chunks than available threads. You can avoid it by setting the environment variable OMP_NUM_THREADS=1.\n",
      "  warnings.warn(\n",
      "C:\\ProgramData\\anaconda3\\envs\\NLP1_Project2\\Lib\\site-packages\\sklearn\\cluster\\_kmeans.py:1419: UserWarning: KMeans is known to have a memory leak on Windows with MKL, when there are less chunks than available threads. You can avoid it by setting the environment variable OMP_NUM_THREADS=1.\n",
      "  warnings.warn(\n",
      "C:\\ProgramData\\anaconda3\\envs\\NLP1_Project2\\Lib\\site-packages\\sklearn\\cluster\\_kmeans.py:1419: UserWarning: KMeans is known to have a memory leak on Windows with MKL, when there are less chunks than available threads. You can avoid it by setting the environment variable OMP_NUM_THREADS=1.\n",
      "  warnings.warn(\n",
      "C:\\ProgramData\\anaconda3\\envs\\NLP1_Project2\\Lib\\site-packages\\sklearn\\cluster\\_kmeans.py:1419: UserWarning: KMeans is known to have a memory leak on Windows with MKL, when there are less chunks than available threads. You can avoid it by setting the environment variable OMP_NUM_THREADS=1.\n",
      "  warnings.warn(\n",
      "C:\\ProgramData\\anaconda3\\envs\\NLP1_Project2\\Lib\\site-packages\\sklearn\\cluster\\_kmeans.py:1419: UserWarning: KMeans is known to have a memory leak on Windows with MKL, when there are less chunks than available threads. You can avoid it by setting the environment variable OMP_NUM_THREADS=1.\n",
      "  warnings.warn(\n",
      "C:\\ProgramData\\anaconda3\\envs\\NLP1_Project2\\Lib\\site-packages\\sklearn\\cluster\\_kmeans.py:1419: UserWarning: KMeans is known to have a memory leak on Windows with MKL, when there are less chunks than available threads. You can avoid it by setting the environment variable OMP_NUM_THREADS=1.\n",
      "  warnings.warn(\n",
      "C:\\ProgramData\\anaconda3\\envs\\NLP1_Project2\\Lib\\site-packages\\sklearn\\cluster\\_kmeans.py:1419: UserWarning: KMeans is known to have a memory leak on Windows with MKL, when there are less chunks than available threads. You can avoid it by setting the environment variable OMP_NUM_THREADS=1.\n",
      "  warnings.warn(\n",
      "C:\\ProgramData\\anaconda3\\envs\\NLP1_Project2\\Lib\\site-packages\\sklearn\\cluster\\_kmeans.py:1419: UserWarning: KMeans is known to have a memory leak on Windows with MKL, when there are less chunks than available threads. You can avoid it by setting the environment variable OMP_NUM_THREADS=1.\n",
      "  warnings.warn(\n",
      "C:\\ProgramData\\anaconda3\\envs\\NLP1_Project2\\Lib\\site-packages\\sklearn\\cluster\\_kmeans.py:1419: UserWarning: KMeans is known to have a memory leak on Windows with MKL, when there are less chunks than available threads. You can avoid it by setting the environment variable OMP_NUM_THREADS=1.\n",
      "  warnings.warn(\n",
      "C:\\ProgramData\\anaconda3\\envs\\NLP1_Project2\\Lib\\site-packages\\sklearn\\cluster\\_kmeans.py:1419: UserWarning: KMeans is known to have a memory leak on Windows with MKL, when there are less chunks than available threads. You can avoid it by setting the environment variable OMP_NUM_THREADS=1.\n",
      "  warnings.warn(\n",
      "C:\\ProgramData\\anaconda3\\envs\\NLP1_Project2\\Lib\\site-packages\\sklearn\\cluster\\_kmeans.py:1419: UserWarning: KMeans is known to have a memory leak on Windows with MKL, when there are less chunks than available threads. You can avoid it by setting the environment variable OMP_NUM_THREADS=1.\n",
      "  warnings.warn(\n",
      "C:\\ProgramData\\anaconda3\\envs\\NLP1_Project2\\Lib\\site-packages\\sklearn\\cluster\\_kmeans.py:1419: UserWarning: KMeans is known to have a memory leak on Windows with MKL, when there are less chunks than available threads. You can avoid it by setting the environment variable OMP_NUM_THREADS=1.\n",
      "  warnings.warn(\n",
      "C:\\ProgramData\\anaconda3\\envs\\NLP1_Project2\\Lib\\site-packages\\sklearn\\cluster\\_kmeans.py:1419: UserWarning: KMeans is known to have a memory leak on Windows with MKL, when there are less chunks than available threads. You can avoid it by setting the environment variable OMP_NUM_THREADS=1.\n",
      "  warnings.warn(\n",
      "C:\\ProgramData\\anaconda3\\envs\\NLP1_Project2\\Lib\\site-packages\\sklearn\\cluster\\_kmeans.py:1419: UserWarning: KMeans is known to have a memory leak on Windows with MKL, when there are less chunks than available threads. You can avoid it by setting the environment variable OMP_NUM_THREADS=1.\n",
      "  warnings.warn(\n",
      "C:\\ProgramData\\anaconda3\\envs\\NLP1_Project2\\Lib\\site-packages\\sklearn\\cluster\\_kmeans.py:1419: UserWarning: KMeans is known to have a memory leak on Windows with MKL, when there are less chunks than available threads. You can avoid it by setting the environment variable OMP_NUM_THREADS=1.\n",
      "  warnings.warn(\n",
      "C:\\ProgramData\\anaconda3\\envs\\NLP1_Project2\\Lib\\site-packages\\sklearn\\cluster\\_kmeans.py:1419: UserWarning: KMeans is known to have a memory leak on Windows with MKL, when there are less chunks than available threads. You can avoid it by setting the environment variable OMP_NUM_THREADS=1.\n",
      "  warnings.warn(\n",
      "C:\\ProgramData\\anaconda3\\envs\\NLP1_Project2\\Lib\\site-packages\\sklearn\\cluster\\_kmeans.py:1419: UserWarning: KMeans is known to have a memory leak on Windows with MKL, when there are less chunks than available threads. You can avoid it by setting the environment variable OMP_NUM_THREADS=1.\n",
      "  warnings.warn(\n",
      "C:\\ProgramData\\anaconda3\\envs\\NLP1_Project2\\Lib\\site-packages\\sklearn\\cluster\\_kmeans.py:1419: UserWarning: KMeans is known to have a memory leak on Windows with MKL, when there are less chunks than available threads. You can avoid it by setting the environment variable OMP_NUM_THREADS=1.\n",
      "  warnings.warn(\n",
      "C:\\ProgramData\\anaconda3\\envs\\NLP1_Project2\\Lib\\site-packages\\sklearn\\cluster\\_kmeans.py:1419: UserWarning: KMeans is known to have a memory leak on Windows with MKL, when there are less chunks than available threads. You can avoid it by setting the environment variable OMP_NUM_THREADS=1.\n",
      "  warnings.warn(\n",
      "C:\\ProgramData\\anaconda3\\envs\\NLP1_Project2\\Lib\\site-packages\\sklearn\\cluster\\_kmeans.py:1419: UserWarning: KMeans is known to have a memory leak on Windows with MKL, when there are less chunks than available threads. You can avoid it by setting the environment variable OMP_NUM_THREADS=1.\n",
      "  warnings.warn(\n",
      "C:\\ProgramData\\anaconda3\\envs\\NLP1_Project2\\Lib\\site-packages\\sklearn\\cluster\\_kmeans.py:1419: UserWarning: KMeans is known to have a memory leak on Windows with MKL, when there are less chunks than available threads. You can avoid it by setting the environment variable OMP_NUM_THREADS=1.\n",
      "  warnings.warn(\n",
      "C:\\ProgramData\\anaconda3\\envs\\NLP1_Project2\\Lib\\site-packages\\sklearn\\cluster\\_kmeans.py:1419: UserWarning: KMeans is known to have a memory leak on Windows with MKL, when there are less chunks than available threads. You can avoid it by setting the environment variable OMP_NUM_THREADS=1.\n",
      "  warnings.warn(\n",
      "C:\\ProgramData\\anaconda3\\envs\\NLP1_Project2\\Lib\\site-packages\\sklearn\\cluster\\_kmeans.py:1419: UserWarning: KMeans is known to have a memory leak on Windows with MKL, when there are less chunks than available threads. You can avoid it by setting the environment variable OMP_NUM_THREADS=1.\n",
      "  warnings.warn(\n",
      "C:\\ProgramData\\anaconda3\\envs\\NLP1_Project2\\Lib\\site-packages\\sklearn\\cluster\\_kmeans.py:1419: UserWarning: KMeans is known to have a memory leak on Windows with MKL, when there are less chunks than available threads. You can avoid it by setting the environment variable OMP_NUM_THREADS=1.\n",
      "  warnings.warn(\n",
      "C:\\ProgramData\\anaconda3\\envs\\NLP1_Project2\\Lib\\site-packages\\sklearn\\cluster\\_kmeans.py:1419: UserWarning: KMeans is known to have a memory leak on Windows with MKL, when there are less chunks than available threads. You can avoid it by setting the environment variable OMP_NUM_THREADS=1.\n",
      "  warnings.warn(\n",
      "C:\\ProgramData\\anaconda3\\envs\\NLP1_Project2\\Lib\\site-packages\\sklearn\\cluster\\_kmeans.py:1419: UserWarning: KMeans is known to have a memory leak on Windows with MKL, when there are less chunks than available threads. You can avoid it by setting the environment variable OMP_NUM_THREADS=1.\n",
      "  warnings.warn(\n",
      "C:\\ProgramData\\anaconda3\\envs\\NLP1_Project2\\Lib\\site-packages\\sklearn\\cluster\\_kmeans.py:1419: UserWarning: KMeans is known to have a memory leak on Windows with MKL, when there are less chunks than available threads. You can avoid it by setting the environment variable OMP_NUM_THREADS=1.\n",
      "  warnings.warn(\n",
      "C:\\ProgramData\\anaconda3\\envs\\NLP1_Project2\\Lib\\site-packages\\sklearn\\cluster\\_kmeans.py:1419: UserWarning: KMeans is known to have a memory leak on Windows with MKL, when there are less chunks than available threads. You can avoid it by setting the environment variable OMP_NUM_THREADS=1.\n",
      "  warnings.warn(\n",
      "C:\\ProgramData\\anaconda3\\envs\\NLP1_Project2\\Lib\\site-packages\\sklearn\\cluster\\_kmeans.py:1419: UserWarning: KMeans is known to have a memory leak on Windows with MKL, when there are less chunks than available threads. You can avoid it by setting the environment variable OMP_NUM_THREADS=1.\n",
      "  warnings.warn(\n",
      "C:\\ProgramData\\anaconda3\\envs\\NLP1_Project2\\Lib\\site-packages\\sklearn\\cluster\\_kmeans.py:1419: UserWarning: KMeans is known to have a memory leak on Windows with MKL, when there are less chunks than available threads. You can avoid it by setting the environment variable OMP_NUM_THREADS=1.\n",
      "  warnings.warn(\n",
      "C:\\ProgramData\\anaconda3\\envs\\NLP1_Project2\\Lib\\site-packages\\sklearn\\cluster\\_kmeans.py:1419: UserWarning: KMeans is known to have a memory leak on Windows with MKL, when there are less chunks than available threads. You can avoid it by setting the environment variable OMP_NUM_THREADS=1.\n",
      "  warnings.warn(\n",
      "C:\\ProgramData\\anaconda3\\envs\\NLP1_Project2\\Lib\\site-packages\\sklearn\\cluster\\_kmeans.py:1419: UserWarning: KMeans is known to have a memory leak on Windows with MKL, when there are less chunks than available threads. You can avoid it by setting the environment variable OMP_NUM_THREADS=1.\n",
      "  warnings.warn(\n",
      "C:\\ProgramData\\anaconda3\\envs\\NLP1_Project2\\Lib\\site-packages\\sklearn\\cluster\\_kmeans.py:1419: UserWarning: KMeans is known to have a memory leak on Windows with MKL, when there are less chunks than available threads. You can avoid it by setting the environment variable OMP_NUM_THREADS=1.\n",
      "  warnings.warn(\n",
      "C:\\ProgramData\\anaconda3\\envs\\NLP1_Project2\\Lib\\site-packages\\sklearn\\cluster\\_kmeans.py:1419: UserWarning: KMeans is known to have a memory leak on Windows with MKL, when there are less chunks than available threads. You can avoid it by setting the environment variable OMP_NUM_THREADS=1.\n",
      "  warnings.warn(\n",
      "C:\\ProgramData\\anaconda3\\envs\\NLP1_Project2\\Lib\\site-packages\\sklearn\\cluster\\_kmeans.py:1419: UserWarning: KMeans is known to have a memory leak on Windows with MKL, when there are less chunks than available threads. You can avoid it by setting the environment variable OMP_NUM_THREADS=1.\n",
      "  warnings.warn(\n",
      "C:\\ProgramData\\anaconda3\\envs\\NLP1_Project2\\Lib\\site-packages\\sklearn\\cluster\\_kmeans.py:1419: UserWarning: KMeans is known to have a memory leak on Windows with MKL, when there are less chunks than available threads. You can avoid it by setting the environment variable OMP_NUM_THREADS=1.\n",
      "  warnings.warn(\n",
      "C:\\ProgramData\\anaconda3\\envs\\NLP1_Project2\\Lib\\site-packages\\sklearn\\cluster\\_kmeans.py:1419: UserWarning: KMeans is known to have a memory leak on Windows with MKL, when there are less chunks than available threads. You can avoid it by setting the environment variable OMP_NUM_THREADS=1.\n",
      "  warnings.warn(\n",
      "C:\\ProgramData\\anaconda3\\envs\\NLP1_Project2\\Lib\\site-packages\\sklearn\\cluster\\_kmeans.py:1419: UserWarning: KMeans is known to have a memory leak on Windows with MKL, when there are less chunks than available threads. You can avoid it by setting the environment variable OMP_NUM_THREADS=1.\n",
      "  warnings.warn(\n",
      "C:\\ProgramData\\anaconda3\\envs\\NLP1_Project2\\Lib\\site-packages\\sklearn\\cluster\\_kmeans.py:1419: UserWarning: KMeans is known to have a memory leak on Windows with MKL, when there are less chunks than available threads. You can avoid it by setting the environment variable OMP_NUM_THREADS=1.\n",
      "  warnings.warn(\n",
      "C:\\ProgramData\\anaconda3\\envs\\NLP1_Project2\\Lib\\site-packages\\sklearn\\cluster\\_kmeans.py:1419: UserWarning: KMeans is known to have a memory leak on Windows with MKL, when there are less chunks than available threads. You can avoid it by setting the environment variable OMP_NUM_THREADS=1.\n",
      "  warnings.warn(\n",
      "C:\\ProgramData\\anaconda3\\envs\\NLP1_Project2\\Lib\\site-packages\\sklearn\\cluster\\_kmeans.py:1419: UserWarning: KMeans is known to have a memory leak on Windows with MKL, when there are less chunks than available threads. You can avoid it by setting the environment variable OMP_NUM_THREADS=1.\n",
      "  warnings.warn(\n",
      "C:\\ProgramData\\anaconda3\\envs\\NLP1_Project2\\Lib\\site-packages\\sklearn\\cluster\\_kmeans.py:1419: UserWarning: KMeans is known to have a memory leak on Windows with MKL, when there are less chunks than available threads. You can avoid it by setting the environment variable OMP_NUM_THREADS=1.\n",
      "  warnings.warn(\n",
      "C:\\ProgramData\\anaconda3\\envs\\NLP1_Project2\\Lib\\site-packages\\sklearn\\cluster\\_kmeans.py:1419: UserWarning: KMeans is known to have a memory leak on Windows with MKL, when there are less chunks than available threads. You can avoid it by setting the environment variable OMP_NUM_THREADS=1.\n",
      "  warnings.warn(\n",
      "C:\\ProgramData\\anaconda3\\envs\\NLP1_Project2\\Lib\\site-packages\\sklearn\\cluster\\_kmeans.py:1419: UserWarning: KMeans is known to have a memory leak on Windows with MKL, when there are less chunks than available threads. You can avoid it by setting the environment variable OMP_NUM_THREADS=1.\n",
      "  warnings.warn(\n",
      "C:\\ProgramData\\anaconda3\\envs\\NLP1_Project2\\Lib\\site-packages\\sklearn\\cluster\\_kmeans.py:1419: UserWarning: KMeans is known to have a memory leak on Windows with MKL, when there are less chunks than available threads. You can avoid it by setting the environment variable OMP_NUM_THREADS=1.\n",
      "  warnings.warn(\n",
      "C:\\ProgramData\\anaconda3\\envs\\NLP1_Project2\\Lib\\site-packages\\sklearn\\cluster\\_kmeans.py:1419: UserWarning: KMeans is known to have a memory leak on Windows with MKL, when there are less chunks than available threads. You can avoid it by setting the environment variable OMP_NUM_THREADS=1.\n",
      "  warnings.warn(\n",
      "C:\\ProgramData\\anaconda3\\envs\\NLP1_Project2\\Lib\\site-packages\\sklearn\\cluster\\_kmeans.py:1419: UserWarning: KMeans is known to have a memory leak on Windows with MKL, when there are less chunks than available threads. You can avoid it by setting the environment variable OMP_NUM_THREADS=1.\n",
      "  warnings.warn(\n",
      "C:\\ProgramData\\anaconda3\\envs\\NLP1_Project2\\Lib\\site-packages\\sklearn\\cluster\\_kmeans.py:1419: UserWarning: KMeans is known to have a memory leak on Windows with MKL, when there are less chunks than available threads. You can avoid it by setting the environment variable OMP_NUM_THREADS=1.\n",
      "  warnings.warn(\n",
      "C:\\ProgramData\\anaconda3\\envs\\NLP1_Project2\\Lib\\site-packages\\sklearn\\cluster\\_kmeans.py:1419: UserWarning: KMeans is known to have a memory leak on Windows with MKL, when there are less chunks than available threads. You can avoid it by setting the environment variable OMP_NUM_THREADS=1.\n",
      "  warnings.warn(\n",
      "C:\\ProgramData\\anaconda3\\envs\\NLP1_Project2\\Lib\\site-packages\\sklearn\\cluster\\_kmeans.py:1419: UserWarning: KMeans is known to have a memory leak on Windows with MKL, when there are less chunks than available threads. You can avoid it by setting the environment variable OMP_NUM_THREADS=1.\n",
      "  warnings.warn(\n"
     ]
    }
   ],
   "source": [
    "# Evaluate the model\n",
    "_, _, silhouette_scores_kms_hpt, db_values_kms_hpt, ch_values_kms_hpt = evaluate_model(models = model_list_kms_hpt,\n",
    "                                                                                        dictionary=None, \n",
    "                                                                                        corpus=test_bert, \n",
    "                                                                                        texts=None)\n",
    "\n",
    "# Get the best model\n",
    "scores_kms_hpt, idx_best_model_kms_hpt = get_best_model(silhouette_values = silhouette_scores_kms_hpt,\n",
    "                                                        db_values = db_values_kms_hpt, \n",
    "                                                        ch_values = ch_values_kms_hpt)"
   ]
  },
  {
   "cell_type": "code",
   "execution_count": 26,
   "id": "92c3eb3b-36f1-4864-b41f-0d12dfb3edb1",
   "metadata": {},
   "outputs": [
    {
     "name": "stdout",
     "output_type": "stream",
     "text": [
      "Metrics of the best model\n",
      "\n",
      "Silhouette: 0.067274\n",
      "Davies-Bouldin Index: 3.093476\n",
      "Calinski-Harabasz Index: 5.626394\n",
      "\n",
      "Hyperparameters: \n",
      "n_clusters: 4\n",
      "n_init: 40\n",
      "max_iter: 2500\n"
     ]
    }
   ],
   "source": [
    "best_model_kms_hpt  = model_list_kms_hpt[idx_best_model_kms_hpt]\n",
    "\n",
    "show_model_data_kms(model_list_kms_hpt, silhouette_scores_kms_hpt, db_values_kms_hpt, \n",
    "                    ch_values_kms_hpt, model_hpr_prm_kms_hpt, idx_best_model_kms_hpt)"
   ]
  },
  {
   "cell_type": "code",
   "execution_count": 27,
   "id": "7a9e68d2-e16e-4283-9c26-e3c05e371a04",
   "metadata": {},
   "outputs": [
    {
     "name": "stderr",
     "output_type": "stream",
     "text": [
      "C:\\ProgramData\\anaconda3\\envs\\NLP1_Project2\\Lib\\site-packages\\sklearn\\cluster\\_kmeans.py:1419: UserWarning: KMeans is known to have a memory leak on Windows with MKL, when there are less chunks than available threads. You can avoid it by setting the environment variable OMP_NUM_THREADS=1.\n",
      "  warnings.warn(\n"
     ]
    },
    {
     "data": {
      "image/png": "[encoded data removed]",
      "text/plain": [
       "<Figure size 800x400 with 1 Axes>"
      ]
     },
     "metadata": {},
     "output_type": "display_data"
    }
   ],
   "source": [
    "plot_clusters(test_bert, best_model_kms_hpt)"
   ]
  },
  {
   "cell_type": "markdown",
   "id": "9e2ceaff-7723-46a3-a6b6-6aa3570c8b12",
   "metadata": {},
   "source": [
    "## 5. Analysis and Conclusion"
   ]
  },
  {
   "cell_type": "markdown",
   "id": "967fd61b-39dc-4afb-b1b5-38430a8137e0",
   "metadata": {},
   "source": [
    "**Analyze the results obtained from various models and hyperparameter configurations.**\n",
    "\n",
    "The clustering topic modelling tasks have one crucial parameter that must be tuned first: the number of topics. Calculating this value is not an easy task at present. The essay writing IELTS task is the result of writing an essay about a point of view, problem, or argument. These are a set of instructions given in the form of a short paragraph with some details about how to structure the essay. Considering this problem, getting unique instructions from the dataset is a fair approach to getting an initial number of topics. However, even considering this approach, a high number of topics were calculated. It was reduced to 10% to get better results. In addition, a range of topics was considered, with values coming around the number of topics as the center value.\\\n",
    "For model 1, a range of topics and default prior values are considered to benchmark the model. Grid search was used as a hyperparameter tuning process. The first tuning process results in a perfect perplexity score but low coherence (0.29) and many topics. Regarding coherence, the essays were not filtered by score result, and the scores were between B and C levels. Thus, grammar and writing must be consistent, which makes perplexity value sense. However, consistency is an aspect that is evaluated when scoring these essays; therefore, many essays do not have that consistency in writing. Regarding the number of topics, the result was less valuable in the topic defined range. Thus, it is necessary to reduce it. After the second tuning process, coherence improved to 0.37, possibly due to the refinement added by C-level essays not considered in the first tuning and the reduced number of topics to less than 10.\\\n",
    "For model 2, the same initial hyperparameter considerations were applied to perform the first training and tuning. However, two elements were added: the Elbow Method for topic analysis and BERT implementation. The results of the elbow method supported the previous number of topics used; thus, regarding the wide number of instructions, they can be reduced to a low number of topics. The model was trained and used the same number of topics for the topic, but the results were not good. After the second tuning process, the silhouette score fairly improved, and the Davies-Bouldin and Calinski-Harabasz Index remained almost the same. The cluster plot is similar to the model 1, therefore, we can get similar conclusions as the previous model."
   ]
  },
  {
   "cell_type": "markdown",
   "id": "46221722-20d5-4af8-a5d5-37262dd95d91",
   "metadata": {},
   "source": [
    "**Discuss the impact of SpaCy in comparison to other models in terms of performance and computational efficiency.**\n",
    "\n",
    "In this project, SpaCy and sklearn models have consistent results according to the clusters. The coherence is the lower value but the clusters present a consistent result. For k-means, the indexes are not that good values, but similar to SpaCy; the clusters are well-conformed according to the problem. In terms of computational efficiency, SpaCy model is slower than k-means. Using several hyperparameters, the k-means model did not take too much time to tune in comparison to k-means."
   ]
  },
  {
   "cell_type": "markdown",
   "id": "d7c9309b-3096-4a68-8926-32688eb8fdae",
   "metadata": {},
   "source": [
    "**Draw conclusions on the suitability of different models and hyperparameter settings for the given dataset and task.**\n",
    "\n",
    "The limitation of the LDA model is that it uses a Bag of Words to vectorize the dataset. Despite the fact that LDA is a powerful method for performing topic modelling, the vector does not give the context that can improve the results of the process. The hyperparameters did not take a wide range of values because the essays refer to a limited number of topics. Thus, extra lower or higher values are not necessary to tune the model.\n",
    "The use of BERT gives a powerful context process to get the proper vector to cluster. In this case, k-means++ was used because of its simplicity and power. It is possible to implement more powerful models to compare their performance and verify if the complexity addition is necessary. "
   ]
  },
  {
   "cell_type": "markdown",
   "id": "d963df46-184e-455d-88f1-0a1671afb478",
   "metadata": {},
   "source": [
    "## References"
   ]
  },
  {
   "cell_type": "markdown",
   "id": "c6e50352-620d-495c-ba23-30758f570b1e",
   "metadata": {},
   "source": [
    "- Barragan, A. C. (2024, July 16). Interpreting and validating clustering results with K-means. Medium. https://medium.com/@a.cervantes2012/interpreting-and-validating-clustering-results-with-k-means-e98227183a4d\n",
    "- GeeksforGeeks. (2025, February 4). Difference between agglomerative clustering and divisive clustering. https://www.geeksforgeeks.org/difference-between-agglomerative-clustering-and-divisive-clustering/ \n",
    "- Ibrahimmazlum. (2023, July 20). Ielts writing scored essays dataset. Kaggle. https://www.kaggle.com/datasets/mazlumi/ielts-writing-scored-essays-dataset/data\n",
    "- Khalid, S. (2020, April 10). Bert explained: A Complete Guide with Theory and tutorial. Medium. https://medium.com/@samia.khalid/bert-explained-a-complete-guide-with-theory-and-tutorial-3ac9ebc8fa7c \n",
    "- St Clair, D. (2011, October 9). Ielts preparation writing task 1. SlideServe. https://www.slideserve.com/Audrey/cambridge-esol-examinations "
   ]
  },
  {
   "cell_type": "code",
   "execution_count": null,
   "id": "7d19ca38-7f70-49a2-acd9-23dff767d9d3",
   "metadata": {},
   "outputs": [],
   "source": []
  }
 ],
 "metadata": {
  "colab": {
   "provenance": []
  },
  "kernelspec": {
   "display_name": "Python 3 (ipykernel)",
   "language": "python",
   "name": "python3"
  },
  "language_info": {
   "codemirror_mode": {
    "name": "ipython",
    "version": 3
   },
   "file_extension": ".py",
   "mimetype": "text/x-python",
   "name": "python",
   "nbconvert_exporter": "python",
   "pygments_lexer": "ipython3",
   "version": "3.12.9"
  },
  "widgets": {
   "application/vnd.jupyter.widget-state+json": {
    "00bcc8513bac49a28f2059e62ac3eb6b": {
     "model_module": "@jupyter-widgets/base",
     "model_module_version": "1.2.0",
     "model_name": "LayoutModel",
     "state": {
      "_model_module": "@jupyter-widgets/base",
      "_model_module_version": "1.2.0",
      "_model_name": "LayoutModel",
      "_view_count": null,
      "_view_module": "@jupyter-widgets/base",
      "_view_module_version": "1.2.0",
      "_view_name": "LayoutView",
      "align_content": null,
      "align_items": null,
      "align_self": null,
      "border": null,
      "bottom": null,
      "display": null,
      "flex": null,
      "flex_flow": null,
      "grid_area": null,
      "grid_auto_columns": null,
      "grid_auto_flow": null,
      "grid_auto_rows": null,
      "grid_column": null,
      "grid_gap": null,
      "grid_row": null,
      "grid_template_areas": null,
      "grid_template_columns": null,
      "grid_template_rows": null,
      "height": null,
      "justify_content": null,
      "justify_items": null,
      "left": null,
      "margin": null,
      "max_height": null,
      "max_width": null,
      "min_height": null,
      "min_width": null,
      "object_fit": null,
      "object_position": null,
      "order": null,
      "overflow": null,
      "overflow_x": null,
      "overflow_y": null,
      "padding": null,
      "right": null,
      "top": null,
      "visibility": null,
      "width": null
     }
    },
    "0f9cdae1c71348e5b416addc388e543b": {
     "model_module": "@jupyter-widgets/base",
     "model_module_version": "1.2.0",
     "model_name": "LayoutModel",
     "state": {
      "_model_module": "@jupyter-widgets/base",
      "_model_module_version": "1.2.0",
      "_model_name": "LayoutModel",
      "_view_count": null,
      "_view_module": "@jupyter-widgets/base",
      "_view_module_version": "1.2.0",
      "_view_name": "LayoutView",
      "align_content": null,
      "align_items": null,
      "align_self": null,
      "border": null,
      "bottom": null,
      "display": null,
      "flex": null,
      "flex_flow": null,
      "grid_area": null,
      "grid_auto_columns": null,
      "grid_auto_flow": null,
      "grid_auto_rows": null,
      "grid_column": null,
      "grid_gap": null,
      "grid_row": null,
      "grid_template_areas": null,
      "grid_template_columns": null,
      "grid_template_rows": null,
      "height": null,
      "justify_content": null,
      "justify_items": null,
      "left": null,
      "margin": null,
      "max_height": null,
      "max_width": null,
      "min_height": null,
      "min_width": null,
      "object_fit": null,
      "object_position": null,
      "order": null,
      "overflow": null,
      "overflow_x": null,
      "overflow_y": null,
      "padding": null,
      "right": null,
      "top": null,
      "visibility": null,
      "width": null
     }
    },
    "14f2cb7024d045908e88bd8890c1af19": {
     "model_module": "@jupyter-widgets/base",
     "model_module_version": "1.2.0",
     "model_name": "LayoutModel",
     "state": {
      "_model_module": "@jupyter-widgets/base",
      "_model_module_version": "1.2.0",
      "_model_name": "LayoutModel",
      "_view_count": null,
      "_view_module": "@jupyter-widgets/base",
      "_view_module_version": "1.2.0",
      "_view_name": "LayoutView",
      "align_content": null,
      "align_items": null,
      "align_self": null,
      "border": null,
      "bottom": null,
      "display": null,
      "flex": null,
      "flex_flow": null,
      "grid_area": null,
      "grid_auto_columns": null,
      "grid_auto_flow": null,
      "grid_auto_rows": null,
      "grid_column": null,
      "grid_gap": null,
      "grid_row": null,
      "grid_template_areas": null,
      "grid_template_columns": null,
      "grid_template_rows": null,
      "height": null,
      "justify_content": null,
      "justify_items": null,
      "left": null,
      "margin": null,
      "max_height": null,
      "max_width": null,
      "min_height": null,
      "min_width": null,
      "object_fit": null,
      "object_position": null,
      "order": null,
      "overflow": null,
      "overflow_x": null,
      "overflow_y": null,
      "padding": null,
      "right": null,
      "top": null,
      "visibility": null,
      "width": null
     }
    },
    "150f00eb463642f98b5aa67da71ca6ce": {
     "model_module": "@jupyter-widgets/base",
     "model_module_version": "1.2.0",
     "model_name": "LayoutModel",
     "state": {
      "_model_module": "@jupyter-widgets/base",
      "_model_module_version": "1.2.0",
      "_model_name": "LayoutModel",
      "_view_count": null,
      "_view_module": "@jupyter-widgets/base",
      "_view_module_version": "1.2.0",
      "_view_name": "LayoutView",
      "align_content": null,
      "align_items": null,
      "align_self": null,
      "border": null,
      "bottom": null,
      "display": null,
      "flex": null,
      "flex_flow": null,
      "grid_area": null,
      "grid_auto_columns": null,
      "grid_auto_flow": null,
      "grid_auto_rows": null,
      "grid_column": null,
      "grid_gap": null,
      "grid_row": null,
      "grid_template_areas": null,
      "grid_template_columns": null,
      "grid_template_rows": null,
      "height": null,
      "justify_content": null,
      "justify_items": null,
      "left": null,
      "margin": null,
      "max_height": null,
      "max_width": null,
      "min_height": null,
      "min_width": null,
      "object_fit": null,
      "object_position": null,
      "order": null,
      "overflow": null,
      "overflow_x": null,
      "overflow_y": null,
      "padding": null,
      "right": null,
      "top": null,
      "visibility": null,
      "width": null
     }
    },
    "16fc724f8bd24190b2bda2d7e368f804": {
     "model_module": "@jupyter-widgets/controls",
     "model_module_version": "1.5.0",
     "model_name": "DescriptionStyleModel",
     "state": {
      "_model_module": "@jupyter-widgets/controls",
      "_model_module_version": "1.5.0",
      "_model_name": "DescriptionStyleModel",
      "_view_count": null,
      "_view_module": "@jupyter-widgets/base",
      "_view_module_version": "1.2.0",
      "_view_name": "StyleView",
      "description_width": ""
     }
    },
    "1ca8563a0e4441a880b1156d981eeca2": {
     "model_module": "@jupyter-widgets/base",
     "model_module_version": "1.2.0",
     "model_name": "LayoutModel",
     "state": {
      "_model_module": "@jupyter-widgets/base",
      "_model_module_version": "1.2.0",
      "_model_name": "LayoutModel",
      "_view_count": null,
      "_view_module": "@jupyter-widgets/base",
      "_view_module_version": "1.2.0",
      "_view_name": "LayoutView",
      "align_content": null,
      "align_items": null,
      "align_self": null,
      "border": null,
      "bottom": null,
      "display": null,
      "flex": null,
      "flex_flow": null,
      "grid_area": null,
      "grid_auto_columns": null,
      "grid_auto_flow": null,
      "grid_auto_rows": null,
      "grid_column": null,
      "grid_gap": null,
      "grid_row": null,
      "grid_template_areas": null,
      "grid_template_columns": null,
      "grid_template_rows": null,
      "height": null,
      "justify_content": null,
      "justify_items": null,
      "left": null,
      "margin": null,
      "max_height": null,
      "max_width": null,
      "min_height": null,
      "min_width": null,
      "object_fit": null,
      "object_position": null,
      "order": null,
      "overflow": null,
      "overflow_x": null,
      "overflow_y": null,
      "padding": null,
      "right": null,
      "top": null,
      "visibility": null,
      "width": null
     }
    },
    "1dfab4f8104848629d9772fb7719f368": {
     "model_module": "@jupyter-widgets/base",
     "model_module_version": "1.2.0",
     "model_name": "LayoutModel",
     "state": {
      "_model_module": "@jupyter-widgets/base",
      "_model_module_version": "1.2.0",
      "_model_name": "LayoutModel",
      "_view_count": null,
      "_view_module": "@jupyter-widgets/base",
      "_view_module_version": "1.2.0",
      "_view_name": "LayoutView",
      "align_content": null,
      "align_items": null,
      "align_self": null,
      "border": null,
      "bottom": null,
      "display": null,
      "flex": null,
      "flex_flow": null,
      "grid_area": null,
      "grid_auto_columns": null,
      "grid_auto_flow": null,
      "grid_auto_rows": null,
      "grid_column": null,
      "grid_gap": null,
      "grid_row": null,
      "grid_template_areas": null,
      "grid_template_columns": null,
      "grid_template_rows": null,
      "height": null,
      "justify_content": null,
      "justify_items": null,
      "left": null,
      "margin": null,
      "max_height": null,
      "max_width": null,
      "min_height": null,
      "min_width": null,
      "object_fit": null,
      "object_position": null,
      "order": null,
      "overflow": null,
      "overflow_x": null,
      "overflow_y": null,
      "padding": null,
      "right": null,
      "top": null,
      "visibility": null,
      "width": null
     }
    },
    "1eeb5b47865b47cebbca237acb8feb4f": {
     "model_module": "@jupyter-widgets/controls",
     "model_module_version": "1.5.0",
     "model_name": "HTMLModel",
     "state": {
      "_dom_classes": [],
      "_model_module": "@jupyter-widgets/controls",
      "_model_module_version": "1.5.0",
      "_model_name": "HTMLModel",
      "_view_count": null,
      "_view_module": "@jupyter-widgets/controls",
      "_view_module_version": "1.5.0",
      "_view_name": "HTMLView",
      "description": "",
      "description_tooltip": null,
      "layout": "IPY_MODEL_db7212c98f0846f7ad52633cb45fb4d6",
      "placeholder": "​",
      "style": "IPY_MODEL_762a4d44e6684ed48a9ffe34dd417d36",
      "value": " 570/570 [00:00&lt;00:00, 67.3kB/s]"
     }
    },
    "2689392552f74001b907f4b88444cae8": {
     "model_module": "@jupyter-widgets/base",
     "model_module_version": "1.2.0",
     "model_name": "LayoutModel",
     "state": {
      "_model_module": "@jupyter-widgets/base",
      "_model_module_version": "1.2.0",
      "_model_name": "LayoutModel",
      "_view_count": null,
      "_view_module": "@jupyter-widgets/base",
      "_view_module_version": "1.2.0",
      "_view_name": "LayoutView",
      "align_content": null,
      "align_items": null,
      "align_self": null,
      "border": null,
      "bottom": null,
      "display": null,
      "flex": null,
      "flex_flow": null,
      "grid_area": null,
      "grid_auto_columns": null,
      "grid_auto_flow": null,
      "grid_auto_rows": null,
      "grid_column": null,
      "grid_gap": null,
      "grid_row": null,
      "grid_template_areas": null,
      "grid_template_columns": null,
      "grid_template_rows": null,
      "height": null,
      "justify_content": null,
      "justify_items": null,
      "left": null,
      "margin": null,
      "max_height": null,
      "max_width": null,
      "min_height": null,
      "min_width": null,
      "object_fit": null,
      "object_position": null,
      "order": null,
      "overflow": null,
      "overflow_x": null,
      "overflow_y": null,
      "padding": null,
      "right": null,
      "top": null,
      "visibility": null,
      "width": null
     }
    },
    "2edb8da07f4342a79c0eb8ce876e367f": {
     "model_module": "@jupyter-widgets/controls",
     "model_module_version": "1.5.0",
     "model_name": "HBoxModel",
     "state": {
      "_dom_classes": [],
      "_model_module": "@jupyter-widgets/controls",
      "_model_module_version": "1.5.0",
      "_model_name": "HBoxModel",
      "_view_count": null,
      "_view_module": "@jupyter-widgets/controls",
      "_view_module_version": "1.5.0",
      "_view_name": "HBoxView",
      "box_style": "",
      "children": [
       "IPY_MODEL_f2d0e714bd8c40d2ad7040bf50368e0a",
       "IPY_MODEL_7a5f7f206c304f63ba0b31587e10b1f8",
       "IPY_MODEL_84f44247a9064b64ad03d02ac1bd370d"
      ],
      "layout": "IPY_MODEL_8709e9c457094bf591d55491fbae6b79"
     }
    },
    "30890db4172440a8b3e9bf05d43caa36": {
     "model_module": "@jupyter-widgets/base",
     "model_module_version": "1.2.0",
     "model_name": "LayoutModel",
     "state": {
      "_model_module": "@jupyter-widgets/base",
      "_model_module_version": "1.2.0",
      "_model_name": "LayoutModel",
      "_view_count": null,
      "_view_module": "@jupyter-widgets/base",
      "_view_module_version": "1.2.0",
      "_view_name": "LayoutView",
      "align_content": null,
      "align_items": null,
      "align_self": null,
      "border": null,
      "bottom": null,
      "display": null,
      "flex": null,
      "flex_flow": null,
      "grid_area": null,
      "grid_auto_columns": null,
      "grid_auto_flow": null,
      "grid_auto_rows": null,
      "grid_column": null,
      "grid_gap": null,
      "grid_row": null,
      "grid_template_areas": null,
      "grid_template_columns": null,
      "grid_template_rows": null,
      "height": null,
      "justify_content": null,
      "justify_items": null,
      "left": null,
      "margin": null,
      "max_height": null,
      "max_width": null,
      "min_height": null,
      "min_width": null,
      "object_fit": null,
      "object_position": null,
      "order": null,
      "overflow": null,
      "overflow_x": null,
      "overflow_y": null,
      "padding": null,
      "right": null,
      "top": null,
      "visibility": null,
      "width": null
     }
    },
    "47edda0ad0b641698cfdd816dbd9fd5b": {
     "model_module": "@jupyter-widgets/controls",
     "model_module_version": "1.5.0",
     "model_name": "HTMLModel",
     "state": {
      "_dom_classes": [],
      "_model_module": "@jupyter-widgets/controls",
      "_model_module_version": "1.5.0",
      "_model_name": "HTMLModel",
      "_view_count": null,
      "_view_module": "@jupyter-widgets/controls",
      "_view_module_version": "1.5.0",
      "_view_name": "HTMLView",
      "description": "",
      "description_tooltip": null,
      "layout": "IPY_MODEL_6868a07ad3fb489fb868d95e219c3cb4",
      "placeholder": "​",
      "style": "IPY_MODEL_d382ab19fd314d3aaddacf29fd3b0b22",
      "value": " 232k/232k [00:00&lt;00:00, 2.37MB/s]"
     }
    },
    "4a794395cd524e4986361cb22048df67": {
     "model_module": "@jupyter-widgets/controls",
     "model_module_version": "1.5.0",
     "model_name": "HBoxModel",
     "state": {
      "_dom_classes": [],
      "_model_module": "@jupyter-widgets/controls",
      "_model_module_version": "1.5.0",
      "_model_name": "HBoxModel",
      "_view_count": null,
      "_view_module": "@jupyter-widgets/controls",
      "_view_module_version": "1.5.0",
      "_view_name": "HBoxView",
      "box_style": "",
      "children": [
       "IPY_MODEL_91ddba0fcafb4779809165f1044deed0",
       "IPY_MODEL_f64c5dc6655c4c0f8a25f8440ad7724c",
       "IPY_MODEL_1eeb5b47865b47cebbca237acb8feb4f"
      ],
      "layout": "IPY_MODEL_712969d39f1e4757a4d10bc5b64eed17"
     }
    },
    "4dd344196d8c46ff8f791384c3e1cb80": {
     "model_module": "@jupyter-widgets/controls",
     "model_module_version": "1.5.0",
     "model_name": "HTMLModel",
     "state": {
      "_dom_classes": [],
      "_model_module": "@jupyter-widgets/controls",
      "_model_module_version": "1.5.0",
      "_model_name": "HTMLModel",
      "_view_count": null,
      "_view_module": "@jupyter-widgets/controls",
      "_view_module_version": "1.5.0",
      "_view_name": "HTMLView",
      "description": "",
      "description_tooltip": null,
      "layout": "IPY_MODEL_c08c8c1e50de4fc2b91af7ce41cf59c1",
      "placeholder": "​",
      "style": "IPY_MODEL_6f1545abc91640a5ad71025e30916756",
      "value": " 466k/466k [00:00&lt;00:00, 9.63MB/s]"
     }
    },
    "531301075f6d4e52bfb3fe13bcf91756": {
     "model_module": "@jupyter-widgets/controls",
     "model_module_version": "1.5.0",
     "model_name": "HTMLModel",
     "state": {
      "_dom_classes": [],
      "_model_module": "@jupyter-widgets/controls",
      "_model_module_version": "1.5.0",
      "_model_name": "HTMLModel",
      "_view_count": null,
      "_view_module": "@jupyter-widgets/controls",
      "_view_module_version": "1.5.0",
      "_view_name": "HTMLView",
      "description": "",
      "description_tooltip": null,
      "layout": "IPY_MODEL_a47564a9460c424e9eee45d5a12b7aab",
      "placeholder": "​",
      "style": "IPY_MODEL_afea6df425d4414296cd20639ba85186",
      "value": " 48.0/48.0 [00:00&lt;00:00, 3.41kB/s]"
     }
    },
    "6262218f169b4f8bbe764e37836b7e5d": {
     "model_module": "@jupyter-widgets/controls",
     "model_module_version": "1.5.0",
     "model_name": "HTMLModel",
     "state": {
      "_dom_classes": [],
      "_model_module": "@jupyter-widgets/controls",
      "_model_module_version": "1.5.0",
      "_model_name": "HTMLModel",
      "_view_count": null,
      "_view_module": "@jupyter-widgets/controls",
      "_view_module_version": "1.5.0",
      "_view_name": "HTMLView",
      "description": "",
      "description_tooltip": null,
      "layout": "IPY_MODEL_626541e7ff834411884e7ffe1a8730f6",
      "placeholder": "​",
      "style": "IPY_MODEL_7a1135125d294c86be17e24c587c33ac",
      "value": "tokenizer.json: 100%"
     }
    },
    "626541e7ff834411884e7ffe1a8730f6": {
     "model_module": "@jupyter-widgets/base",
     "model_module_version": "1.2.0",
     "model_name": "LayoutModel",
     "state": {
      "_model_module": "@jupyter-widgets/base",
      "_model_module_version": "1.2.0",
      "_model_name": "LayoutModel",
      "_view_count": null,
      "_view_module": "@jupyter-widgets/base",
      "_view_module_version": "1.2.0",
      "_view_name": "LayoutView",
      "align_content": null,
      "align_items": null,
      "align_self": null,
      "border": null,
      "bottom": null,
      "display": null,
      "flex": null,
      "flex_flow": null,
      "grid_area": null,
      "grid_auto_columns": null,
      "grid_auto_flow": null,
      "grid_auto_rows": null,
      "grid_column": null,
      "grid_gap": null,
      "grid_row": null,
      "grid_template_areas": null,
      "grid_template_columns": null,
      "grid_template_rows": null,
      "height": null,
      "justify_content": null,
      "justify_items": null,
      "left": null,
      "margin": null,
      "max_height": null,
      "max_width": null,
      "min_height": null,
      "min_width": null,
      "object_fit": null,
      "object_position": null,
      "order": null,
      "overflow": null,
      "overflow_x": null,
      "overflow_y": null,
      "padding": null,
      "right": null,
      "top": null,
      "visibility": null,
      "width": null
     }
    },
    "637f95ee988b40fa8027e5f2066ea6cd": {
     "model_module": "@jupyter-widgets/controls",
     "model_module_version": "1.5.0",
     "model_name": "FloatProgressModel",
     "state": {
      "_dom_classes": [],
      "_model_module": "@jupyter-widgets/controls",
      "_model_module_version": "1.5.0",
      "_model_name": "FloatProgressModel",
      "_view_count": null,
      "_view_module": "@jupyter-widgets/controls",
      "_view_module_version": "1.5.0",
      "_view_name": "ProgressView",
      "bar_style": "success",
      "description": "",
      "description_tooltip": null,
      "layout": "IPY_MODEL_1dfab4f8104848629d9772fb7719f368",
      "max": 466062,
      "min": 0,
      "orientation": "horizontal",
      "style": "IPY_MODEL_cbb8a6de714447d6b85edfd510ec999c",
      "value": 466062
     }
    },
    "668391f6093c4be881fefe3eeaee01da": {
     "model_module": "@jupyter-widgets/base",
     "model_module_version": "1.2.0",
     "model_name": "LayoutModel",
     "state": {
      "_model_module": "@jupyter-widgets/base",
      "_model_module_version": "1.2.0",
      "_model_name": "LayoutModel",
      "_view_count": null,
      "_view_module": "@jupyter-widgets/base",
      "_view_module_version": "1.2.0",
      "_view_name": "LayoutView",
      "align_content": null,
      "align_items": null,
      "align_self": null,
      "border": null,
      "bottom": null,
      "display": null,
      "flex": null,
      "flex_flow": null,
      "grid_area": null,
      "grid_auto_columns": null,
      "grid_auto_flow": null,
      "grid_auto_rows": null,
      "grid_column": null,
      "grid_gap": null,
      "grid_row": null,
      "grid_template_areas": null,
      "grid_template_columns": null,
      "grid_template_rows": null,
      "height": null,
      "justify_content": null,
      "justify_items": null,
      "left": null,
      "margin": null,
      "max_height": null,
      "max_width": null,
      "min_height": null,
      "min_width": null,
      "object_fit": null,
      "object_position": null,
      "order": null,
      "overflow": null,
      "overflow_x": null,
      "overflow_y": null,
      "padding": null,
      "right": null,
      "top": null,
      "visibility": null,
      "width": null
     }
    },
    "6868a07ad3fb489fb868d95e219c3cb4": {
     "model_module": "@jupyter-widgets/base",
     "model_module_version": "1.2.0",
     "model_name": "LayoutModel",
     "state": {
      "_model_module": "@jupyter-widgets/base",
      "_model_module_version": "1.2.0",
      "_model_name": "LayoutModel",
      "_view_count": null,
      "_view_module": "@jupyter-widgets/base",
      "_view_module_version": "1.2.0",
      "_view_name": "LayoutView",
      "align_content": null,
      "align_items": null,
      "align_self": null,
      "border": null,
      "bottom": null,
      "display": null,
      "flex": null,
      "flex_flow": null,
      "grid_area": null,
      "grid_auto_columns": null,
      "grid_auto_flow": null,
      "grid_auto_rows": null,
      "grid_column": null,
      "grid_gap": null,
      "grid_row": null,
      "grid_template_areas": null,
      "grid_template_columns": null,
      "grid_template_rows": null,
      "height": null,
      "justify_content": null,
      "justify_items": null,
      "left": null,
      "margin": null,
      "max_height": null,
      "max_width": null,
      "min_height": null,
      "min_width": null,
      "object_fit": null,
      "object_position": null,
      "order": null,
      "overflow": null,
      "overflow_x": null,
      "overflow_y": null,
      "padding": null,
      "right": null,
      "top": null,
      "visibility": null,
      "width": null
     }
    },
    "68ed7b9da2a540a1be1a8e12144ad27b": {
     "model_module": "@jupyter-widgets/controls",
     "model_module_version": "1.5.0",
     "model_name": "DescriptionStyleModel",
     "state": {
      "_model_module": "@jupyter-widgets/controls",
      "_model_module_version": "1.5.0",
      "_model_name": "DescriptionStyleModel",
      "_view_count": null,
      "_view_module": "@jupyter-widgets/base",
      "_view_module_version": "1.2.0",
      "_view_name": "StyleView",
      "description_width": ""
     }
    },
    "698a25efa67d4c0eafc01f6b227def03": {
     "model_module": "@jupyter-widgets/base",
     "model_module_version": "1.2.0",
     "model_name": "LayoutModel",
     "state": {
      "_model_module": "@jupyter-widgets/base",
      "_model_module_version": "1.2.0",
      "_model_name": "LayoutModel",
      "_view_count": null,
      "_view_module": "@jupyter-widgets/base",
      "_view_module_version": "1.2.0",
      "_view_name": "LayoutView",
      "align_content": null,
      "align_items": null,
      "align_self": null,
      "border": null,
      "bottom": null,
      "display": null,
      "flex": null,
      "flex_flow": null,
      "grid_area": null,
      "grid_auto_columns": null,
      "grid_auto_flow": null,
      "grid_auto_rows": null,
      "grid_column": null,
      "grid_gap": null,
      "grid_row": null,
      "grid_template_areas": null,
      "grid_template_columns": null,
      "grid_template_rows": null,
      "height": null,
      "justify_content": null,
      "justify_items": null,
      "left": null,
      "margin": null,
      "max_height": null,
      "max_width": null,
      "min_height": null,
      "min_width": null,
      "object_fit": null,
      "object_position": null,
      "order": null,
      "overflow": null,
      "overflow_x": null,
      "overflow_y": null,
      "padding": null,
      "right": null,
      "top": null,
      "visibility": null,
      "width": null
     }
    },
    "6b24c3d42dde49ba894e83180604be12": {
     "model_module": "@jupyter-widgets/controls",
     "model_module_version": "1.5.0",
     "model_name": "ProgressStyleModel",
     "state": {
      "_model_module": "@jupyter-widgets/controls",
      "_model_module_version": "1.5.0",
      "_model_name": "ProgressStyleModel",
      "_view_count": null,
      "_view_module": "@jupyter-widgets/base",
      "_view_module_version": "1.2.0",
      "_view_name": "StyleView",
      "bar_color": null,
      "description_width": ""
     }
    },
    "6b5e059ed1ac4d6597f74e3779c79e8d": {
     "model_module": "@jupyter-widgets/controls",
     "model_module_version": "1.5.0",
     "model_name": "DescriptionStyleModel",
     "state": {
      "_model_module": "@jupyter-widgets/controls",
      "_model_module_version": "1.5.0",
      "_model_name": "DescriptionStyleModel",
      "_view_count": null,
      "_view_module": "@jupyter-widgets/base",
      "_view_module_version": "1.2.0",
      "_view_name": "StyleView",
      "description_width": ""
     }
    },
    "6f1545abc91640a5ad71025e30916756": {
     "model_module": "@jupyter-widgets/controls",
     "model_module_version": "1.5.0",
     "model_name": "DescriptionStyleModel",
     "state": {
      "_model_module": "@jupyter-widgets/controls",
      "_model_module_version": "1.5.0",
      "_model_name": "DescriptionStyleModel",
      "_view_count": null,
      "_view_module": "@jupyter-widgets/base",
      "_view_module_version": "1.2.0",
      "_view_name": "StyleView",
      "description_width": ""
     }
    },
    "712969d39f1e4757a4d10bc5b64eed17": {
     "model_module": "@jupyter-widgets/base",
     "model_module_version": "1.2.0",
     "model_name": "LayoutModel",
     "state": {
      "_model_module": "@jupyter-widgets/base",
      "_model_module_version": "1.2.0",
      "_model_name": "LayoutModel",
      "_view_count": null,
      "_view_module": "@jupyter-widgets/base",
      "_view_module_version": "1.2.0",
      "_view_name": "LayoutView",
      "align_content": null,
      "align_items": null,
      "align_self": null,
      "border": null,
      "bottom": null,
      "display": null,
      "flex": null,
      "flex_flow": null,
      "grid_area": null,
      "grid_auto_columns": null,
      "grid_auto_flow": null,
      "grid_auto_rows": null,
      "grid_column": null,
      "grid_gap": null,
      "grid_row": null,
      "grid_template_areas": null,
      "grid_template_columns": null,
      "grid_template_rows": null,
      "height": null,
      "justify_content": null,
      "justify_items": null,
      "left": null,
      "margin": null,
      "max_height": null,
      "max_width": null,
      "min_height": null,
      "min_width": null,
      "object_fit": null,
      "object_position": null,
      "order": null,
      "overflow": null,
      "overflow_x": null,
      "overflow_y": null,
      "padding": null,
      "right": null,
      "top": null,
      "visibility": null,
      "width": null
     }
    },
    "762a4d44e6684ed48a9ffe34dd417d36": {
     "model_module": "@jupyter-widgets/controls",
     "model_module_version": "1.5.0",
     "model_name": "DescriptionStyleModel",
     "state": {
      "_model_module": "@jupyter-widgets/controls",
      "_model_module_version": "1.5.0",
      "_model_name": "DescriptionStyleModel",
      "_view_count": null,
      "_view_module": "@jupyter-widgets/base",
      "_view_module_version": "1.2.0",
      "_view_name": "StyleView",
      "description_width": ""
     }
    },
    "7a1135125d294c86be17e24c587c33ac": {
     "model_module": "@jupyter-widgets/controls",
     "model_module_version": "1.5.0",
     "model_name": "DescriptionStyleModel",
     "state": {
      "_model_module": "@jupyter-widgets/controls",
      "_model_module_version": "1.5.0",
      "_model_name": "DescriptionStyleModel",
      "_view_count": null,
      "_view_module": "@jupyter-widgets/base",
      "_view_module_version": "1.2.0",
      "_view_name": "StyleView",
      "description_width": ""
     }
    },
    "7a5f7f206c304f63ba0b31587e10b1f8": {
     "model_module": "@jupyter-widgets/controls",
     "model_module_version": "1.5.0",
     "model_name": "FloatProgressModel",
     "state": {
      "_dom_classes": [],
      "_model_module": "@jupyter-widgets/controls",
      "_model_module_version": "1.5.0",
      "_model_name": "FloatProgressModel",
      "_view_count": null,
      "_view_module": "@jupyter-widgets/controls",
      "_view_module_version": "1.5.0",
      "_view_name": "ProgressView",
      "bar_style": "success",
      "description": "",
      "description_tooltip": null,
      "layout": "IPY_MODEL_668391f6093c4be881fefe3eeaee01da",
      "max": 440449768,
      "min": 0,
      "orientation": "horizontal",
      "style": "IPY_MODEL_8646b36196454762a30f32680a91533d",
      "value": 440449768
     }
    },
    "84f44247a9064b64ad03d02ac1bd370d": {
     "model_module": "@jupyter-widgets/controls",
     "model_module_version": "1.5.0",
     "model_name": "HTMLModel",
     "state": {
      "_dom_classes": [],
      "_model_module": "@jupyter-widgets/controls",
      "_model_module_version": "1.5.0",
      "_model_name": "HTMLModel",
      "_view_count": null,
      "_view_module": "@jupyter-widgets/controls",
      "_view_module_version": "1.5.0",
      "_view_name": "HTMLView",
      "description": "",
      "description_tooltip": null,
      "layout": "IPY_MODEL_00bcc8513bac49a28f2059e62ac3eb6b",
      "placeholder": "​",
      "style": "IPY_MODEL_c0e900ccf1a544f69e73933a951f5d45",
      "value": " 440M/440M [00:05&lt;00:00, 101MB/s]"
     }
    },
    "8646b36196454762a30f32680a91533d": {
     "model_module": "@jupyter-widgets/controls",
     "model_module_version": "1.5.0",
     "model_name": "ProgressStyleModel",
     "state": {
      "_model_module": "@jupyter-widgets/controls",
      "_model_module_version": "1.5.0",
      "_model_name": "ProgressStyleModel",
      "_view_count": null,
      "_view_module": "@jupyter-widgets/base",
      "_view_module_version": "1.2.0",
      "_view_name": "StyleView",
      "bar_color": null,
      "description_width": ""
     }
    },
    "8709e9c457094bf591d55491fbae6b79": {
     "model_module": "@jupyter-widgets/base",
     "model_module_version": "1.2.0",
     "model_name": "LayoutModel",
     "state": {
      "_model_module": "@jupyter-widgets/base",
      "_model_module_version": "1.2.0",
      "_model_name": "LayoutModel",
      "_view_count": null,
      "_view_module": "@jupyter-widgets/base",
      "_view_module_version": "1.2.0",
      "_view_name": "LayoutView",
      "align_content": null,
      "align_items": null,
      "align_self": null,
      "border": null,
      "bottom": null,
      "display": null,
      "flex": null,
      "flex_flow": null,
      "grid_area": null,
      "grid_auto_columns": null,
      "grid_auto_flow": null,
      "grid_auto_rows": null,
      "grid_column": null,
      "grid_gap": null,
      "grid_row": null,
      "grid_template_areas": null,
      "grid_template_columns": null,
      "grid_template_rows": null,
      "height": null,
      "justify_content": null,
      "justify_items": null,
      "left": null,
      "margin": null,
      "max_height": null,
      "max_width": null,
      "min_height": null,
      "min_width": null,
      "object_fit": null,
      "object_position": null,
      "order": null,
      "overflow": null,
      "overflow_x": null,
      "overflow_y": null,
      "padding": null,
      "right": null,
      "top": null,
      "visibility": null,
      "width": null
     }
    },
    "9176a0df7d9b47c488ffde1be7cb92e3": {
     "model_module": "@jupyter-widgets/controls",
     "model_module_version": "1.5.0",
     "model_name": "FloatProgressModel",
     "state": {
      "_dom_classes": [],
      "_model_module": "@jupyter-widgets/controls",
      "_model_module_version": "1.5.0",
      "_model_name": "FloatProgressModel",
      "_view_count": null,
      "_view_module": "@jupyter-widgets/controls",
      "_view_module_version": "1.5.0",
      "_view_name": "ProgressView",
      "bar_style": "success",
      "description": "",
      "description_tooltip": null,
      "layout": "IPY_MODEL_698a25efa67d4c0eafc01f6b227def03",
      "max": 231508,
      "min": 0,
      "orientation": "horizontal",
      "style": "IPY_MODEL_d0e25dff1af84997b68ab1ca10044a56",
      "value": 231508
     }
    },
    "91ddba0fcafb4779809165f1044deed0": {
     "model_module": "@jupyter-widgets/controls",
     "model_module_version": "1.5.0",
     "model_name": "HTMLModel",
     "state": {
      "_dom_classes": [],
      "_model_module": "@jupyter-widgets/controls",
      "_model_module_version": "1.5.0",
      "_model_name": "HTMLModel",
      "_view_count": null,
      "_view_module": "@jupyter-widgets/controls",
      "_view_module_version": "1.5.0",
      "_view_name": "HTMLView",
      "description": "",
      "description_tooltip": null,
      "layout": "IPY_MODEL_f2ceb94813ca4495ac3c18ab841faf0f",
      "placeholder": "​",
      "style": "IPY_MODEL_6b5e059ed1ac4d6597f74e3779c79e8d",
      "value": "config.json: 100%"
     }
    },
    "9f4c7e1f7be84fb2b2ff7d4d471c7cc8": {
     "model_module": "@jupyter-widgets/base",
     "model_module_version": "1.2.0",
     "model_name": "LayoutModel",
     "state": {
      "_model_module": "@jupyter-widgets/base",
      "_model_module_version": "1.2.0",
      "_model_name": "LayoutModel",
      "_view_count": null,
      "_view_module": "@jupyter-widgets/base",
      "_view_module_version": "1.2.0",
      "_view_name": "LayoutView",
      "align_content": null,
      "align_items": null,
      "align_self": null,
      "border": null,
      "bottom": null,
      "display": null,
      "flex": null,
      "flex_flow": null,
      "grid_area": null,
      "grid_auto_columns": null,
      "grid_auto_flow": null,
      "grid_auto_rows": null,
      "grid_column": null,
      "grid_gap": null,
      "grid_row": null,
      "grid_template_areas": null,
      "grid_template_columns": null,
      "grid_template_rows": null,
      "height": null,
      "justify_content": null,
      "justify_items": null,
      "left": null,
      "margin": null,
      "max_height": null,
      "max_width": null,
      "min_height": null,
      "min_width": null,
      "object_fit": null,
      "object_position": null,
      "order": null,
      "overflow": null,
      "overflow_x": null,
      "overflow_y": null,
      "padding": null,
      "right": null,
      "top": null,
      "visibility": null,
      "width": null
     }
    },
    "a47564a9460c424e9eee45d5a12b7aab": {
     "model_module": "@jupyter-widgets/base",
     "model_module_version": "1.2.0",
     "model_name": "LayoutModel",
     "state": {
      "_model_module": "@jupyter-widgets/base",
      "_model_module_version": "1.2.0",
      "_model_name": "LayoutModel",
      "_view_count": null,
      "_view_module": "@jupyter-widgets/base",
      "_view_module_version": "1.2.0",
      "_view_name": "LayoutView",
      "align_content": null,
      "align_items": null,
      "align_self": null,
      "border": null,
      "bottom": null,
      "display": null,
      "flex": null,
      "flex_flow": null,
      "grid_area": null,
      "grid_auto_columns": null,
      "grid_auto_flow": null,
      "grid_auto_rows": null,
      "grid_column": null,
      "grid_gap": null,
      "grid_row": null,
      "grid_template_areas": null,
      "grid_template_columns": null,
      "grid_template_rows": null,
      "height": null,
      "justify_content": null,
      "justify_items": null,
      "left": null,
      "margin": null,
      "max_height": null,
      "max_width": null,
      "min_height": null,
      "min_width": null,
      "object_fit": null,
      "object_position": null,
      "order": null,
      "overflow": null,
      "overflow_x": null,
      "overflow_y": null,
      "padding": null,
      "right": null,
      "top": null,
      "visibility": null,
      "width": null
     }
    },
    "a858e1a992b4449397d4b24ed27ea6ea": {
     "model_module": "@jupyter-widgets/controls",
     "model_module_version": "1.5.0",
     "model_name": "DescriptionStyleModel",
     "state": {
      "_model_module": "@jupyter-widgets/controls",
      "_model_module_version": "1.5.0",
      "_model_name": "DescriptionStyleModel",
      "_view_count": null,
      "_view_module": "@jupyter-widgets/base",
      "_view_module_version": "1.2.0",
      "_view_name": "StyleView",
      "description_width": ""
     }
    },
    "ad1e26ea229444f3bc2e6974a908628d": {
     "model_module": "@jupyter-widgets/controls",
     "model_module_version": "1.5.0",
     "model_name": "FloatProgressModel",
     "state": {
      "_dom_classes": [],
      "_model_module": "@jupyter-widgets/controls",
      "_model_module_version": "1.5.0",
      "_model_name": "FloatProgressModel",
      "_view_count": null,
      "_view_module": "@jupyter-widgets/controls",
      "_view_module_version": "1.5.0",
      "_view_name": "ProgressView",
      "bar_style": "success",
      "description": "",
      "description_tooltip": null,
      "layout": "IPY_MODEL_9f4c7e1f7be84fb2b2ff7d4d471c7cc8",
      "max": 48,
      "min": 0,
      "orientation": "horizontal",
      "style": "IPY_MODEL_e507fde45ec84f7eaa17dc0135ecbdee",
      "value": 48
     }
    },
    "ada019ab02484dad9ae6e4f77e802ecd": {
     "model_module": "@jupyter-widgets/controls",
     "model_module_version": "1.5.0",
     "model_name": "HTMLModel",
     "state": {
      "_dom_classes": [],
      "_model_module": "@jupyter-widgets/controls",
      "_model_module_version": "1.5.0",
      "_model_name": "HTMLModel",
      "_view_count": null,
      "_view_module": "@jupyter-widgets/controls",
      "_view_module_version": "1.5.0",
      "_view_name": "HTMLView",
      "description": "",
      "description_tooltip": null,
      "layout": "IPY_MODEL_150f00eb463642f98b5aa67da71ca6ce",
      "placeholder": "​",
      "style": "IPY_MODEL_a858e1a992b4449397d4b24ed27ea6ea",
      "value": "tokenizer_config.json: 100%"
     }
    },
    "afea6df425d4414296cd20639ba85186": {
     "model_module": "@jupyter-widgets/controls",
     "model_module_version": "1.5.0",
     "model_name": "DescriptionStyleModel",
     "state": {
      "_model_module": "@jupyter-widgets/controls",
      "_model_module_version": "1.5.0",
      "_model_name": "DescriptionStyleModel",
      "_view_count": null,
      "_view_module": "@jupyter-widgets/base",
      "_view_module_version": "1.2.0",
      "_view_name": "StyleView",
      "description_width": ""
     }
    },
    "b4a4a330fd3245f3b13bd82eb860e3af": {
     "model_module": "@jupyter-widgets/controls",
     "model_module_version": "1.5.0",
     "model_name": "HBoxModel",
     "state": {
      "_dom_classes": [],
      "_model_module": "@jupyter-widgets/controls",
      "_model_module_version": "1.5.0",
      "_model_name": "HBoxModel",
      "_view_count": null,
      "_view_module": "@jupyter-widgets/controls",
      "_view_module_version": "1.5.0",
      "_view_name": "HBoxView",
      "box_style": "",
      "children": [
       "IPY_MODEL_ada019ab02484dad9ae6e4f77e802ecd",
       "IPY_MODEL_ad1e26ea229444f3bc2e6974a908628d",
       "IPY_MODEL_531301075f6d4e52bfb3fe13bcf91756"
      ],
      "layout": "IPY_MODEL_14f2cb7024d045908e88bd8890c1af19"
     }
    },
    "baff90c58196447cbc869c4c367be97e": {
     "model_module": "@jupyter-widgets/controls",
     "model_module_version": "1.5.0",
     "model_name": "HTMLModel",
     "state": {
      "_dom_classes": [],
      "_model_module": "@jupyter-widgets/controls",
      "_model_module_version": "1.5.0",
      "_model_name": "HTMLModel",
      "_view_count": null,
      "_view_module": "@jupyter-widgets/controls",
      "_view_module_version": "1.5.0",
      "_view_name": "HTMLView",
      "description": "",
      "description_tooltip": null,
      "layout": "IPY_MODEL_e0f44a160e614f0b98ee662a1ca6e050",
      "placeholder": "​",
      "style": "IPY_MODEL_16fc724f8bd24190b2bda2d7e368f804",
      "value": "vocab.txt: 100%"
     }
    },
    "c08c8c1e50de4fc2b91af7ce41cf59c1": {
     "model_module": "@jupyter-widgets/base",
     "model_module_version": "1.2.0",
     "model_name": "LayoutModel",
     "state": {
      "_model_module": "@jupyter-widgets/base",
      "_model_module_version": "1.2.0",
      "_model_name": "LayoutModel",
      "_view_count": null,
      "_view_module": "@jupyter-widgets/base",
      "_view_module_version": "1.2.0",
      "_view_name": "LayoutView",
      "align_content": null,
      "align_items": null,
      "align_self": null,
      "border": null,
      "bottom": null,
      "display": null,
      "flex": null,
      "flex_flow": null,
      "grid_area": null,
      "grid_auto_columns": null,
      "grid_auto_flow": null,
      "grid_auto_rows": null,
      "grid_column": null,
      "grid_gap": null,
      "grid_row": null,
      "grid_template_areas": null,
      "grid_template_columns": null,
      "grid_template_rows": null,
      "height": null,
      "justify_content": null,
      "justify_items": null,
      "left": null,
      "margin": null,
      "max_height": null,
      "max_width": null,
      "min_height": null,
      "min_width": null,
      "object_fit": null,
      "object_position": null,
      "order": null,
      "overflow": null,
      "overflow_x": null,
      "overflow_y": null,
      "padding": null,
      "right": null,
      "top": null,
      "visibility": null,
      "width": null
     }
    },
    "c0e900ccf1a544f69e73933a951f5d45": {
     "model_module": "@jupyter-widgets/controls",
     "model_module_version": "1.5.0",
     "model_name": "DescriptionStyleModel",
     "state": {
      "_model_module": "@jupyter-widgets/controls",
      "_model_module_version": "1.5.0",
      "_model_name": "DescriptionStyleModel",
      "_view_count": null,
      "_view_module": "@jupyter-widgets/base",
      "_view_module_version": "1.2.0",
      "_view_name": "StyleView",
      "description_width": ""
     }
    },
    "c4cc552c84b64ac9b506b9b2ae6971c2": {
     "model_module": "@jupyter-widgets/controls",
     "model_module_version": "1.5.0",
     "model_name": "HBoxModel",
     "state": {
      "_dom_classes": [],
      "_model_module": "@jupyter-widgets/controls",
      "_model_module_version": "1.5.0",
      "_model_name": "HBoxModel",
      "_view_count": null,
      "_view_module": "@jupyter-widgets/controls",
      "_view_module_version": "1.5.0",
      "_view_name": "HBoxView",
      "box_style": "",
      "children": [
       "IPY_MODEL_6262218f169b4f8bbe764e37836b7e5d",
       "IPY_MODEL_637f95ee988b40fa8027e5f2066ea6cd",
       "IPY_MODEL_4dd344196d8c46ff8f791384c3e1cb80"
      ],
      "layout": "IPY_MODEL_30890db4172440a8b3e9bf05d43caa36"
     }
    },
    "ca31a09896b54e51a48dbfa385cd39cb": {
     "model_module": "@jupyter-widgets/controls",
     "model_module_version": "1.5.0",
     "model_name": "HBoxModel",
     "state": {
      "_dom_classes": [],
      "_model_module": "@jupyter-widgets/controls",
      "_model_module_version": "1.5.0",
      "_model_name": "HBoxModel",
      "_view_count": null,
      "_view_module": "@jupyter-widgets/controls",
      "_view_module_version": "1.5.0",
      "_view_name": "HBoxView",
      "box_style": "",
      "children": [
       "IPY_MODEL_baff90c58196447cbc869c4c367be97e",
       "IPY_MODEL_9176a0df7d9b47c488ffde1be7cb92e3",
       "IPY_MODEL_47edda0ad0b641698cfdd816dbd9fd5b"
      ],
      "layout": "IPY_MODEL_0f9cdae1c71348e5b416addc388e543b"
     }
    },
    "cbb8a6de714447d6b85edfd510ec999c": {
     "model_module": "@jupyter-widgets/controls",
     "model_module_version": "1.5.0",
     "model_name": "ProgressStyleModel",
     "state": {
      "_model_module": "@jupyter-widgets/controls",
      "_model_module_version": "1.5.0",
      "_model_name": "ProgressStyleModel",
      "_view_count": null,
      "_view_module": "@jupyter-widgets/base",
      "_view_module_version": "1.2.0",
      "_view_name": "StyleView",
      "bar_color": null,
      "description_width": ""
     }
    },
    "d0e25dff1af84997b68ab1ca10044a56": {
     "model_module": "@jupyter-widgets/controls",
     "model_module_version": "1.5.0",
     "model_name": "ProgressStyleModel",
     "state": {
      "_model_module": "@jupyter-widgets/controls",
      "_model_module_version": "1.5.0",
      "_model_name": "ProgressStyleModel",
      "_view_count": null,
      "_view_module": "@jupyter-widgets/base",
      "_view_module_version": "1.2.0",
      "_view_name": "StyleView",
      "bar_color": null,
      "description_width": ""
     }
    },
    "d382ab19fd314d3aaddacf29fd3b0b22": {
     "model_module": "@jupyter-widgets/controls",
     "model_module_version": "1.5.0",
     "model_name": "DescriptionStyleModel",
     "state": {
      "_model_module": "@jupyter-widgets/controls",
      "_model_module_version": "1.5.0",
      "_model_name": "DescriptionStyleModel",
      "_view_count": null,
      "_view_module": "@jupyter-widgets/base",
      "_view_module_version": "1.2.0",
      "_view_name": "StyleView",
      "description_width": ""
     }
    },
    "db7212c98f0846f7ad52633cb45fb4d6": {
     "model_module": "@jupyter-widgets/base",
     "model_module_version": "1.2.0",
     "model_name": "LayoutModel",
     "state": {
      "_model_module": "@jupyter-widgets/base",
      "_model_module_version": "1.2.0",
      "_model_name": "LayoutModel",
      "_view_count": null,
      "_view_module": "@jupyter-widgets/base",
      "_view_module_version": "1.2.0",
      "_view_name": "LayoutView",
      "align_content": null,
      "align_items": null,
      "align_self": null,
      "border": null,
      "bottom": null,
      "display": null,
      "flex": null,
      "flex_flow": null,
      "grid_area": null,
      "grid_auto_columns": null,
      "grid_auto_flow": null,
      "grid_auto_rows": null,
      "grid_column": null,
      "grid_gap": null,
      "grid_row": null,
      "grid_template_areas": null,
      "grid_template_columns": null,
      "grid_template_rows": null,
      "height": null,
      "justify_content": null,
      "justify_items": null,
      "left": null,
      "margin": null,
      "max_height": null,
      "max_width": null,
      "min_height": null,
      "min_width": null,
      "object_fit": null,
      "object_position": null,
      "order": null,
      "overflow": null,
      "overflow_x": null,
      "overflow_y": null,
      "padding": null,
      "right": null,
      "top": null,
      "visibility": null,
      "width": null
     }
    },
    "e0f44a160e614f0b98ee662a1ca6e050": {
     "model_module": "@jupyter-widgets/base",
     "model_module_version": "1.2.0",
     "model_name": "LayoutModel",
     "state": {
      "_model_module": "@jupyter-widgets/base",
      "_model_module_version": "1.2.0",
      "_model_name": "LayoutModel",
      "_view_count": null,
      "_view_module": "@jupyter-widgets/base",
      "_view_module_version": "1.2.0",
      "_view_name": "LayoutView",
      "align_content": null,
      "align_items": null,
      "align_self": null,
      "border": null,
      "bottom": null,
      "display": null,
      "flex": null,
      "flex_flow": null,
      "grid_area": null,
      "grid_auto_columns": null,
      "grid_auto_flow": null,
      "grid_auto_rows": null,
      "grid_column": null,
      "grid_gap": null,
      "grid_row": null,
      "grid_template_areas": null,
      "grid_template_columns": null,
      "grid_template_rows": null,
      "height": null,
      "justify_content": null,
      "justify_items": null,
      "left": null,
      "margin": null,
      "max_height": null,
      "max_width": null,
      "min_height": null,
      "min_width": null,
      "object_fit": null,
      "object_position": null,
      "order": null,
      "overflow": null,
      "overflow_x": null,
      "overflow_y": null,
      "padding": null,
      "right": null,
      "top": null,
      "visibility": null,
      "width": null
     }
    },
    "e507fde45ec84f7eaa17dc0135ecbdee": {
     "model_module": "@jupyter-widgets/controls",
     "model_module_version": "1.5.0",
     "model_name": "ProgressStyleModel",
     "state": {
      "_model_module": "@jupyter-widgets/controls",
      "_model_module_version": "1.5.0",
      "_model_name": "ProgressStyleModel",
      "_view_count": null,
      "_view_module": "@jupyter-widgets/base",
      "_view_module_version": "1.2.0",
      "_view_name": "StyleView",
      "bar_color": null,
      "description_width": ""
     }
    },
    "f2ceb94813ca4495ac3c18ab841faf0f": {
     "model_module": "@jupyter-widgets/base",
     "model_module_version": "1.2.0",
     "model_name": "LayoutModel",
     "state": {
      "_model_module": "@jupyter-widgets/base",
      "_model_module_version": "1.2.0",
      "_model_name": "LayoutModel",
      "_view_count": null,
      "_view_module": "@jupyter-widgets/base",
      "_view_module_version": "1.2.0",
      "_view_name": "LayoutView",
      "align_content": null,
      "align_items": null,
      "align_self": null,
      "border": null,
      "bottom": null,
      "display": null,
      "flex": null,
      "flex_flow": null,
      "grid_area": null,
      "grid_auto_columns": null,
      "grid_auto_flow": null,
      "grid_auto_rows": null,
      "grid_column": null,
      "grid_gap": null,
      "grid_row": null,
      "grid_template_areas": null,
      "grid_template_columns": null,
      "grid_template_rows": null,
      "height": null,
      "justify_content": null,
      "justify_items": null,
      "left": null,
      "margin": null,
      "max_height": null,
      "max_width": null,
      "min_height": null,
      "min_width": null,
      "object_fit": null,
      "object_position": null,
      "order": null,
      "overflow": null,
      "overflow_x": null,
      "overflow_y": null,
      "padding": null,
      "right": null,
      "top": null,
      "visibility": null,
      "width": null
     }
    },
    "f2d0e714bd8c40d2ad7040bf50368e0a": {
     "model_module": "@jupyter-widgets/controls",
     "model_module_version": "1.5.0",
     "model_name": "HTMLModel",
     "state": {
      "_dom_classes": [],
      "_model_module": "@jupyter-widgets/controls",
      "_model_module_version": "1.5.0",
      "_model_name": "HTMLModel",
      "_view_count": null,
      "_view_module": "@jupyter-widgets/controls",
      "_view_module_version": "1.5.0",
      "_view_name": "HTMLView",
      "description": "",
      "description_tooltip": null,
      "layout": "IPY_MODEL_1ca8563a0e4441a880b1156d981eeca2",
      "placeholder": "​",
      "style": "IPY_MODEL_68ed7b9da2a540a1be1a8e12144ad27b",
      "value": "model.safetensors: 100%"
     }
    },
    "f64c5dc6655c4c0f8a25f8440ad7724c": {
     "model_module": "@jupyter-widgets/controls",
     "model_module_version": "1.5.0",
     "model_name": "FloatProgressModel",
     "state": {
      "_dom_classes": [],
      "_model_module": "@jupyter-widgets/controls",
      "_model_module_version": "1.5.0",
      "_model_name": "FloatProgressModel",
      "_view_count": null,
      "_view_module": "@jupyter-widgets/controls",
      "_view_module_version": "1.5.0",
      "_view_name": "ProgressView",
      "bar_style": "success",
      "description": "",
      "description_tooltip": null,
      "layout": "IPY_MODEL_2689392552f74001b907f4b88444cae8",
      "max": 570,
      "min": 0,
      "orientation": "horizontal",
      "style": "IPY_MODEL_6b24c3d42dde49ba894e83180604be12",
      "value": 570
     }
    }
   }
  }
 },
 "nbformat": 4,
 "nbformat_minor": 5
}
