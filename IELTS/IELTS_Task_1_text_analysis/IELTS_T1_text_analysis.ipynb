{
  "cells": [
    {
      "cell_type": "markdown",
      "id": "8ca99307-2966-4b33-b6f5-85e3da84468d",
      "metadata": {
        "id": "8ca99307-2966-4b33-b6f5-85e3da84468d"
      },
      "source": [
        "## Project Main Details"
      ]
    },
    {
      "cell_type": "markdown",
      "id": "7176b3de-2b3a-45fc-894f-fdfafd2a7e90",
      "metadata": {
        "id": "7176b3de-2b3a-45fc-894f-fdfafd2a7e90"
      },
      "source": [
        "**Title**: Text analysis of IELTS Task 1 essays\\\n",
        "**Topic**: Natural Language Processing"
      ]
    },
    {
      "cell_type": "markdown",
      "id": "056927d6-8120-40a1-aa38-ee5c20cb8e6d",
      "metadata": {
        "id": "056927d6-8120-40a1-aa38-ee5c20cb8e6d"
      },
      "source": [
        "## Introduction"
      ]
    },
    {
      "cell_type": "markdown",
      "id": "5836ca80-fbd1-43dc-a20c-f84eb432382e",
      "metadata": {
        "id": "5836ca80-fbd1-43dc-a20c-f84eb432382e"
      },
      "source": [
        "One of the key variables of international students is the assessment of their level of English. One of the most widely known and accepted tests worldwide is the IELTS, which assesses four aspects: listening, speaking, reading, and writing. Beyond getting materials to practice for the test, evaluating the practices is a key issue in improving English skills and success on the test. For this reason, this project presents an analysis of the first writing task of IELTS essays. It is necessary to point out that the present project is based only on the text analysis of the essay. Further analysis of implementations of Machine Learning techniques is matter of future work."
      ]
    },
    {
      "cell_type": "markdown",
      "id": "24248474-4e9a-4e79-a48b-471a6ed4cf14",
      "metadata": {
        "id": "24248474-4e9a-4e79-a48b-471a6ed4cf14"
      },
      "source": [
        "## 1. Definition of the Dataset"
      ]
    },
    {
      "cell_type": "markdown",
      "id": "6a7d0729-7a58-43a7-8584-fbda345ea3b9",
      "metadata": {
        "id": "6a7d0729-7a58-43a7-8584-fbda345ea3b9"
      },
      "source": [
        "The present dataset comes from the Kaggle ['IELTS Writing Scored Essays Dataset'](https://www.kaggle.com/datasets/mazlumi/ielts-writing-scored-essays-dataset/data). It contains 1436 writing essays from the writing section of the exam. The dataset was selected for the following reasons:\n",
        "* It has the following tags: standardized testing, NLP, and languages. These align with one of the example project topics presented in class: \"Automated Essay Grading System\".\n",
        "* It has 10 over 10 in Kaggle usability score.\n",
        "* It has the full essay and results overall on IELTS score. This is crucial in the present supervised classification task.\n",
        "\n",
        "The first step to comprehend the test is to get some data about it. The first step, is to load it."
      ]
    },
    {
      "cell_type": "code",
      "execution_count": 1,
      "id": "Oy81hgEf5H4o",
      "metadata": {
        "colab": {
          "base_uri": "https://localhost:8080/"
        },
        "id": "Oy81hgEf5H4o",
        "outputId": "79828929-f880-47a6-dff6-af0794c56d61"
      },
      "outputs": [
        {
          "name": "stdout",
          "output_type": "stream",
          "text": [
            "Collecting en-core-web-lg==3.7.1\n",
            "  Downloading https://github.com/explosion/spacy-models/releases/download/en_core_web_lg-3.7.1/en_core_web_lg-3.7.1-py3-none-any.whl (587.7 MB)\n",
            "\u001b[2K     \u001b[90m━━━━━━━━━━━━━━━━━━━━━━━━━━━━━━━━━━━━━━━━\u001b[0m \u001b[32m587.7/587.7 MB\u001b[0m \u001b[31m2.2 MB/s\u001b[0m eta \u001b[36m0:00:00\u001b[0m\n",
            "\u001b[?25hRequirement already satisfied: spacy<3.8.0,>=3.7.2 in /usr/local/lib/python3.11/dist-packages (from en-core-web-lg==3.7.1) (3.7.5)\n",
            "Requirement already satisfied: spacy-legacy<3.1.0,>=3.0.11 in /usr/local/lib/python3.11/dist-packages (from spacy<3.8.0,>=3.7.2->en-core-web-lg==3.7.1) (3.0.12)\n",
            "Requirement already satisfied: spacy-loggers<2.0.0,>=1.0.0 in /usr/local/lib/python3.11/dist-packages (from spacy<3.8.0,>=3.7.2->en-core-web-lg==3.7.1) (1.0.5)\n",
            "Requirement already satisfied: murmurhash<1.1.0,>=0.28.0 in /usr/local/lib/python3.11/dist-packages (from spacy<3.8.0,>=3.7.2->en-core-web-lg==3.7.1) (1.0.12)\n",
            "Requirement already satisfied: cymem<2.1.0,>=2.0.2 in /usr/local/lib/python3.11/dist-packages (from spacy<3.8.0,>=3.7.2->en-core-web-lg==3.7.1) (2.0.11)\n",
            "Requirement already satisfied: preshed<3.1.0,>=3.0.2 in /usr/local/lib/python3.11/dist-packages (from spacy<3.8.0,>=3.7.2->en-core-web-lg==3.7.1) (3.0.9)\n",
            "Requirement already satisfied: thinc<8.3.0,>=8.2.2 in /usr/local/lib/python3.11/dist-packages (from spacy<3.8.0,>=3.7.2->en-core-web-lg==3.7.1) (8.2.5)\n",
            "Requirement already satisfied: wasabi<1.2.0,>=0.9.1 in /usr/local/lib/python3.11/dist-packages (from spacy<3.8.0,>=3.7.2->en-core-web-lg==3.7.1) (1.1.3)\n",
            "Requirement already satisfied: srsly<3.0.0,>=2.4.3 in /usr/local/lib/python3.11/dist-packages (from spacy<3.8.0,>=3.7.2->en-core-web-lg==3.7.1) (2.5.1)\n",
            "Requirement already satisfied: catalogue<2.1.0,>=2.0.6 in /usr/local/lib/python3.11/dist-packages (from spacy<3.8.0,>=3.7.2->en-core-web-lg==3.7.1) (2.0.10)\n",
            "Requirement already satisfied: weasel<0.5.0,>=0.1.0 in /usr/local/lib/python3.11/dist-packages (from spacy<3.8.0,>=3.7.2->en-core-web-lg==3.7.1) (0.4.1)\n",
            "Requirement already satisfied: typer<1.0.0,>=0.3.0 in /usr/local/lib/python3.11/dist-packages (from spacy<3.8.0,>=3.7.2->en-core-web-lg==3.7.1) (0.15.1)\n",
            "Requirement already satisfied: tqdm<5.0.0,>=4.38.0 in /usr/local/lib/python3.11/dist-packages (from spacy<3.8.0,>=3.7.2->en-core-web-lg==3.7.1) (4.67.1)\n",
            "Requirement already satisfied: requests<3.0.0,>=2.13.0 in /usr/local/lib/python3.11/dist-packages (from spacy<3.8.0,>=3.7.2->en-core-web-lg==3.7.1) (2.32.3)\n",
            "Requirement already satisfied: pydantic!=1.8,!=1.8.1,<3.0.0,>=1.7.4 in /usr/local/lib/python3.11/dist-packages (from spacy<3.8.0,>=3.7.2->en-core-web-lg==3.7.1) (2.10.6)\n",
            "Requirement already satisfied: jinja2 in /usr/local/lib/python3.11/dist-packages (from spacy<3.8.0,>=3.7.2->en-core-web-lg==3.7.1) (3.1.5)\n",
            "Requirement already satisfied: setuptools in /usr/local/lib/python3.11/dist-packages (from spacy<3.8.0,>=3.7.2->en-core-web-lg==3.7.1) (75.1.0)\n",
            "Requirement already satisfied: packaging>=20.0 in /usr/local/lib/python3.11/dist-packages (from spacy<3.8.0,>=3.7.2->en-core-web-lg==3.7.1) (24.2)\n",
            "Requirement already satisfied: langcodes<4.0.0,>=3.2.0 in /usr/local/lib/python3.11/dist-packages (from spacy<3.8.0,>=3.7.2->en-core-web-lg==3.7.1) (3.5.0)\n",
            "Requirement already satisfied: numpy>=1.19.0 in /usr/local/lib/python3.11/dist-packages (from spacy<3.8.0,>=3.7.2->en-core-web-lg==3.7.1) (1.26.4)\n",
            "Requirement already satisfied: language-data>=1.2 in /usr/local/lib/python3.11/dist-packages (from langcodes<4.0.0,>=3.2.0->spacy<3.8.0,>=3.7.2->en-core-web-lg==3.7.1) (1.3.0)\n",
            "Requirement already satisfied: annotated-types>=0.6.0 in /usr/local/lib/python3.11/dist-packages (from pydantic!=1.8,!=1.8.1,<3.0.0,>=1.7.4->spacy<3.8.0,>=3.7.2->en-core-web-lg==3.7.1) (0.7.0)\n",
            "Requirement already satisfied: pydantic-core==2.27.2 in /usr/local/lib/python3.11/dist-packages (from pydantic!=1.8,!=1.8.1,<3.0.0,>=1.7.4->spacy<3.8.0,>=3.7.2->en-core-web-lg==3.7.1) (2.27.2)\n",
            "Requirement already satisfied: typing-extensions>=4.12.2 in /usr/local/lib/python3.11/dist-packages (from pydantic!=1.8,!=1.8.1,<3.0.0,>=1.7.4->spacy<3.8.0,>=3.7.2->en-core-web-lg==3.7.1) (4.12.2)\n",
            "Requirement already satisfied: charset-normalizer<4,>=2 in /usr/local/lib/python3.11/dist-packages (from requests<3.0.0,>=2.13.0->spacy<3.8.0,>=3.7.2->en-core-web-lg==3.7.1) (3.4.1)\n",
            "Requirement already satisfied: idna<4,>=2.5 in /usr/local/lib/python3.11/dist-packages (from requests<3.0.0,>=2.13.0->spacy<3.8.0,>=3.7.2->en-core-web-lg==3.7.1) (3.10)\n",
            "Requirement already satisfied: urllib3<3,>=1.21.1 in /usr/local/lib/python3.11/dist-packages (from requests<3.0.0,>=2.13.0->spacy<3.8.0,>=3.7.2->en-core-web-lg==3.7.1) (2.3.0)\n",
            "Requirement already satisfied: certifi>=2017.4.17 in /usr/local/lib/python3.11/dist-packages (from requests<3.0.0,>=2.13.0->spacy<3.8.0,>=3.7.2->en-core-web-lg==3.7.1) (2025.1.31)\n",
            "Requirement already satisfied: blis<0.8.0,>=0.7.8 in /usr/local/lib/python3.11/dist-packages (from thinc<8.3.0,>=8.2.2->spacy<3.8.0,>=3.7.2->en-core-web-lg==3.7.1) (0.7.11)\n",
            "Requirement already satisfied: confection<1.0.0,>=0.0.1 in /usr/local/lib/python3.11/dist-packages (from thinc<8.3.0,>=8.2.2->spacy<3.8.0,>=3.7.2->en-core-web-lg==3.7.1) (0.1.5)\n",
            "Requirement already satisfied: click>=8.0.0 in /usr/local/lib/python3.11/dist-packages (from typer<1.0.0,>=0.3.0->spacy<3.8.0,>=3.7.2->en-core-web-lg==3.7.1) (8.1.8)\n",
            "Requirement already satisfied: shellingham>=1.3.0 in /usr/local/lib/python3.11/dist-packages (from typer<1.0.0,>=0.3.0->spacy<3.8.0,>=3.7.2->en-core-web-lg==3.7.1) (1.5.4)\n",
            "Requirement already satisfied: rich>=10.11.0 in /usr/local/lib/python3.11/dist-packages (from typer<1.0.0,>=0.3.0->spacy<3.8.0,>=3.7.2->en-core-web-lg==3.7.1) (13.9.4)\n",
            "Requirement already satisfied: cloudpathlib<1.0.0,>=0.7.0 in /usr/local/lib/python3.11/dist-packages (from weasel<0.5.0,>=0.1.0->spacy<3.8.0,>=3.7.2->en-core-web-lg==3.7.1) (0.20.0)\n",
            "Requirement already satisfied: smart-open<8.0.0,>=5.2.1 in /usr/local/lib/python3.11/dist-packages (from weasel<0.5.0,>=0.1.0->spacy<3.8.0,>=3.7.2->en-core-web-lg==3.7.1) (7.1.0)\n",
            "Requirement already satisfied: MarkupSafe>=2.0 in /usr/local/lib/python3.11/dist-packages (from jinja2->spacy<3.8.0,>=3.7.2->en-core-web-lg==3.7.1) (3.0.2)\n",
            "Requirement already satisfied: marisa-trie>=1.1.0 in /usr/local/lib/python3.11/dist-packages (from language-data>=1.2->langcodes<4.0.0,>=3.2.0->spacy<3.8.0,>=3.7.2->en-core-web-lg==3.7.1) (1.2.1)\n",
            "Requirement already satisfied: markdown-it-py>=2.2.0 in /usr/local/lib/python3.11/dist-packages (from rich>=10.11.0->typer<1.0.0,>=0.3.0->spacy<3.8.0,>=3.7.2->en-core-web-lg==3.7.1) (3.0.0)\n",
            "Requirement already satisfied: pygments<3.0.0,>=2.13.0 in /usr/local/lib/python3.11/dist-packages (from rich>=10.11.0->typer<1.0.0,>=0.3.0->spacy<3.8.0,>=3.7.2->en-core-web-lg==3.7.1) (2.18.0)\n",
            "Requirement already satisfied: wrapt in /usr/local/lib/python3.11/dist-packages (from smart-open<8.0.0,>=5.2.1->weasel<0.5.0,>=0.1.0->spacy<3.8.0,>=3.7.2->en-core-web-lg==3.7.1) (1.17.2)\n",
            "Requirement already satisfied: mdurl~=0.1 in /usr/local/lib/python3.11/dist-packages (from markdown-it-py>=2.2.0->rich>=10.11.0->typer<1.0.0,>=0.3.0->spacy<3.8.0,>=3.7.2->en-core-web-lg==3.7.1) (0.1.2)\n",
            "Installing collected packages: en-core-web-lg\n",
            "Successfully installed en-core-web-lg-3.7.1\n",
            "\u001b[38;5;2m✔ Download and installation successful\u001b[0m\n",
            "You can now load the package via spacy.load('en_core_web_lg')\n",
            "\u001b[38;5;3m⚠ Restart to reload dependencies\u001b[0m\n",
            "If you are in a Jupyter or Colab notebook, you may need to restart Python in\n",
            "order to load all the package's dependencies. You can do this by selecting the\n",
            "'Restart kernel' or 'Restart runtime' option.\n"
          ]
        }
      ],
      "source": [
        "!python -m spacy download en_core_web_lg"
      ]
    },
    {
      "cell_type": "code",
      "execution_count": null,
      "id": "1caec061-e9c2-4131-bdd0-92b11977eccd",
      "metadata": {
        "id": "1caec061-e9c2-4131-bdd0-92b11977eccd"
      },
      "outputs": [],
      "source": [
        "import pandas as pd\n",
        "\n",
        "# Loading the dataset\n",
        "df = pd.read_csv('ielts_writing_dataset.csv', header=0)"
      ]
    },
    {
      "cell_type": "markdown",
      "id": "88456877-d4f0-417d-adad-8e1b8a3a2d85",
      "metadata": {
        "id": "88456877-d4f0-417d-adad-8e1b8a3a2d85"
      },
      "source": [
        "The next cell presents a resume of the information about the dataset. For this project, the columns Essay and Overall are going to be used. The task type is going to be filtered to get only the first task."
      ]
    },
    {
      "cell_type": "code",
      "execution_count": null,
      "id": "59b5d75c-6302-4269-ae41-ea3d4873ed71",
      "metadata": {
        "colab": {
          "base_uri": "https://localhost:8080/"
        },
        "id": "59b5d75c-6302-4269-ae41-ea3d4873ed71",
        "outputId": "8c0bb894-aba4-4a00-c464-6b4fc2533f1e"
      },
      "outputs": [
        {
          "name": "stdout",
          "output_type": "stream",
          "text": [
            "<class 'pandas.core.frame.DataFrame'>\n",
            "RangeIndex: 1435 entries, 0 to 1434\n",
            "Data columns (total 9 columns):\n",
            " #   Column              Non-Null Count  Dtype  \n",
            "---  ------              --------------  -----  \n",
            " 0   Task_Type           1435 non-null   int64  \n",
            " 1   Question            1435 non-null   object \n",
            " 2   Essay               1435 non-null   object \n",
            " 3   Examiner_Commen     62 non-null     object \n",
            " 4   Task_Response       0 non-null      float64\n",
            " 5   Coherence_Cohesion  0 non-null      float64\n",
            " 6   Lexical_Resource    0 non-null      float64\n",
            " 7   Range_Accuracy      0 non-null      float64\n",
            " 8   Overall             1435 non-null   float64\n",
            "dtypes: float64(5), int64(1), object(3)\n",
            "memory usage: 101.0+ KB\n"
          ]
        }
      ],
      "source": [
        "df.info()"
      ]
    },
    {
      "cell_type": "code",
      "execution_count": 3,
      "id": "f155d60a-8907-4621-9ce8-843a1abe037e",
      "metadata": {
        "colab": {
          "base_uri": "https://localhost:8080/",
          "height": 424
        },
        "id": "f155d60a-8907-4621-9ce8-843a1abe037e",
        "outputId": "c12b3a80-2368-4790-ecdd-24534d1722b7"
      },
      "outputs": [
        {
          "data": {
            "application/vnd.google.colaboratory.intrinsic+json": {
              "summary": "{\n  \"name\": \"df_filtered\",\n  \"rows\": 642,\n  \"fields\": [\n    {\n      \"column\": \"Essay\",\n      \"properties\": {\n        \"dtype\": \"string\",\n        \"num_unique_values\": 564,\n        \"samples\": [\n          \"The bar charts enumerate the percentage of British people buying three different genres of music albums.\\nIn general, the figures of Pop Music are analogous to those of Rock Music with both having the greatest purchase from young adults. Classical Music albums are mostly bought by middle-aged people. However, all three genres have more purchase from the male population.\\nLooking first of all at Pop and Rock Music albums, nearly 30% men bought them while slightly less than 20% women purchased them. Comparing the age demographics, 25-34 group(more than 30%) contributed to most purchases, followed by approximately 30% of 16-24 and about 25% of 35-44 paid for Pop and Rock albums. Only around 10% of 45+ purchased these two albums.\\nOn the contrary, Classical Music is more popular among 45+ with about 20% of them purchasing the albums. Approximately 15% of 25-34 acquired classical music albums. And this genre was least purchased by 16-24 and 35-44 groups with values of about 1% and 3% respectively. Although the age demographics were different from that of the other two albums, men and women showed similar pattern with about 9% male and around 6% female purchasing albums in classical genre.\",\n          \"The first chart indicates the results of a survey of people in the UK who traveled abroad and the reasons why they traveled from 1994 and 1998. In addition, there is another chart which areas they visited. Overall, it can be seen the main reason the UK residents visited abroad is for holiday, and the total number of people who traveled steadily increased every year, except for 1995. In addition, they visited Western Europe extraordinarily much higher than north America, and other areas.\\nInitially, the total number of abroad visiter started at 22,072 in 1994. Somehow the total number decreased in 1995. It was specificalltry 21,610, but the number soared to 24,949 and reached a peak of 28,828 in 1996 and 1998 respectively. To break down the detail, the main purpose is for holidays. It is apparently much higher than other reasons and its percentage tend to be almost two-thirds every year. Aside from holidays, two reasons follow the second reason for business, the third reason for visits to friends and relatives. It is not so significant changes in percentage.\\nInterestingly, , they almost visited western Europe from 1994 to 1998. The proportion of visitors is much higher than in north America and other areas.It seems to be around 90 percent of visitors went to western Europe.\\nThe proportion of visiter can be seen slightly increased, however, there is no significant change.\",\n          \"The given map depicts the existing and proposed layout of a house\\u2019s ground floor, and some changes in design took place. Overall, there were a number of proposed notable changes to this area.\\nOn the whole, some new furniture was added, while some existing layouts were removed or renovated in the proposed floor plan.\\nThe most prominent change is the new, bigger stairs in the north of the ground floor replacing the existing hall, smaller stairs and the storage under the stairs. In addition, new furniture was added, and the empty field on the west side of the floor and the kitchen was filled with kitchen furniture.\\nThere were also some extensive renovations to the internal doors and walls. First, the existing internal doors placed face to face in the north of the ground floor are planned to be moved next to the entrance, replacing a part of the existing internal wall on the west side. Second, the eastern internal wall is proposed to be demolished, and there will be no longer a block between the new stairs and the living room.\"\n        ],\n        \"semantic_type\": \"\",\n        \"description\": \"\"\n      }\n    },\n    {\n      \"column\": \"Overall\",\n      \"properties\": {\n        \"dtype\": \"number\",\n        \"std\": 0.9814068069691398,\n        \"min\": 1.0,\n        \"max\": 8.5,\n        \"num_unique_values\": 13,\n        \"samples\": [\n          3.5,\n          4.0,\n          5.5\n        ],\n        \"semantic_type\": \"\",\n        \"description\": \"\"\n      }\n    }\n  ]\n}",
              "type": "dataframe",
              "variable_name": "df_filtered"
            },
            "text/html": [
              "\n",
              "  <div id=\"df-94391ad9-1198-4804-bfeb-60812268f267\" class=\"colab-df-container\">\n",
              "    <div>\n",
              "<style scoped>\n",
              "    .dataframe tbody tr th:only-of-type {\n",
              "        vertical-align: middle;\n",
              "    }\n",
              "\n",
              "    .dataframe tbody tr th {\n",
              "        vertical-align: top;\n",
              "    }\n",
              "\n",
              "    .dataframe thead th {\n",
              "        text-align: right;\n",
              "    }\n",
              "</style>\n",
              "<table border=\"1\" class=\"dataframe\">\n",
              "  <thead>\n",
              "    <tr style=\"text-align: right;\">\n",
              "      <th></th>\n",
              "      <th>Essay</th>\n",
              "      <th>Overall</th>\n",
              "    </tr>\n",
              "  </thead>\n",
              "  <tbody>\n",
              "    <tr>\n",
              "      <th>0</th>\n",
              "      <td>Between 1995 and 2010, a study was conducted r...</td>\n",
              "      <td>5.5</td>\n",
              "    </tr>\n",
              "    <tr>\n",
              "      <th>2</th>\n",
              "      <td>The left chart shows the population change hap...</td>\n",
              "      <td>5.0</td>\n",
              "    </tr>\n",
              "    <tr>\n",
              "      <th>4</th>\n",
              "      <td>Information about the thousands of visits from...</td>\n",
              "      <td>7.0</td>\n",
              "    </tr>\n",
              "    <tr>\n",
              "      <th>6</th>\n",
              "      <td>This graph depicts the changes in tourists vis...</td>\n",
              "      <td>6.5</td>\n",
              "    </tr>\n",
              "    <tr>\n",
              "      <th>8</th>\n",
              "      <td>The line graph illustrates the number of overs...</td>\n",
              "      <td>8.0</td>\n",
              "    </tr>\n",
              "    <tr>\n",
              "      <th>...</th>\n",
              "      <td>...</td>\n",
              "      <td>...</td>\n",
              "    </tr>\n",
              "    <tr>\n",
              "      <th>1274</th>\n",
              "      <td>The three pie graphs give information on the s...</td>\n",
              "      <td>5.5</td>\n",
              "    </tr>\n",
              "    <tr>\n",
              "      <th>1276</th>\n",
              "      <td>Following three pie chats depict the distribut...</td>\n",
              "      <td>6.5</td>\n",
              "    </tr>\n",
              "    <tr>\n",
              "      <th>1278</th>\n",
              "      <td>Following three pie chats depict the distribut...</td>\n",
              "      <td>6.5</td>\n",
              "    </tr>\n",
              "    <tr>\n",
              "      <th>1280</th>\n",
              "      <td>The line chart depicts by percentage the popul...</td>\n",
              "      <td>6.0</td>\n",
              "    </tr>\n",
              "    <tr>\n",
              "      <th>1282</th>\n",
              "      <td>The graph illustrates the population of indivi...</td>\n",
              "      <td>8.0</td>\n",
              "    </tr>\n",
              "  </tbody>\n",
              "</table>\n",
              "<p>642 rows × 2 columns</p>\n",
              "</div>\n",
              "    <div class=\"colab-df-buttons\">\n",
              "\n",
              "  <div class=\"colab-df-container\">\n",
              "    <button class=\"colab-df-convert\" onclick=\"convertToInteractive('df-94391ad9-1198-4804-bfeb-60812268f267')\"\n",
              "            title=\"Convert this dataframe to an interactive table.\"\n",
              "            style=\"display:none;\">\n",
              "\n",
              "  <svg xmlns=\"http://www.w3.org/2000/svg\" height=\"24px\" viewBox=\"0 -960 960 960\">\n",
              "    <path d=\"M120-120v-720h720v720H120Zm60-500h600v-160H180v160Zm220 220h160v-160H400v160Zm0 220h160v-160H400v160ZM180-400h160v-160H180v160Zm440 0h160v-160H620v160ZM180-180h160v-160H180v160Zm440 0h160v-160H620v160Z\"/>\n",
              "  </svg>\n",
              "    </button>\n",
              "\n",
              "  <style>\n",
              "    .colab-df-container {\n",
              "      display:flex;\n",
              "      gap: 12px;\n",
              "    }\n",
              "\n",
              "    .colab-df-convert {\n",
              "      background-color: #E8F0FE;\n",
              "      border: none;\n",
              "      border-radius: 50%;\n",
              "      cursor: pointer;\n",
              "      display: none;\n",
              "      fill: #1967D2;\n",
              "      height: 32px;\n",
              "      padding: 0 0 0 0;\n",
              "      width: 32px;\n",
              "    }\n",
              "\n",
              "    .colab-df-convert:hover {\n",
              "      background-color: #E2EBFA;\n",
              "      box-shadow: 0px 1px 2px rgba(60, 64, 67, 0.3), 0px 1px 3px 1px rgba(60, 64, 67, 0.15);\n",
              "      fill: #174EA6;\n",
              "    }\n",
              "\n",
              "    .colab-df-buttons div {\n",
              "      margin-bottom: 4px;\n",
              "    }\n",
              "\n",
              "    [theme=dark] .colab-df-convert {\n",
              "      background-color: #3B4455;\n",
              "      fill: #D2E3FC;\n",
              "    }\n",
              "\n",
              "    [theme=dark] .colab-df-convert:hover {\n",
              "      background-color: #434B5C;\n",
              "      box-shadow: 0px 1px 3px 1px rgba(0, 0, 0, 0.15);\n",
              "      filter: drop-shadow(0px 1px 2px rgba(0, 0, 0, 0.3));\n",
              "      fill: #FFFFFF;\n",
              "    }\n",
              "  </style>\n",
              "\n",
              "    <script>\n",
              "      const buttonEl =\n",
              "        document.querySelector('#df-94391ad9-1198-4804-bfeb-60812268f267 button.colab-df-convert');\n",
              "      buttonEl.style.display =\n",
              "        google.colab.kernel.accessAllowed ? 'block' : 'none';\n",
              "\n",
              "      async function convertToInteractive(key) {\n",
              "        const element = document.querySelector('#df-94391ad9-1198-4804-bfeb-60812268f267');\n",
              "        const dataTable =\n",
              "          await google.colab.kernel.invokeFunction('convertToInteractive',\n",
              "                                                    [key], {});\n",
              "        if (!dataTable) return;\n",
              "\n",
              "        const docLinkHtml = 'Like what you see? Visit the ' +\n",
              "          '<a target=\"_blank\" href=https://colab.research.google.com/notebooks/data_table.ipynb>data table notebook</a>'\n",
              "          + ' to learn more about interactive tables.';\n",
              "        element.innerHTML = '';\n",
              "        dataTable['output_type'] = 'display_data';\n",
              "        await google.colab.output.renderOutput(dataTable, element);\n",
              "        const docLink = document.createElement('div');\n",
              "        docLink.innerHTML = docLinkHtml;\n",
              "        element.appendChild(docLink);\n",
              "      }\n",
              "    </script>\n",
              "  </div>\n",
              "\n",
              "\n",
              "<div id=\"df-0352b3b8-ef1b-49ae-bb89-e79d8a97e63b\">\n",
              "  <button class=\"colab-df-quickchart\" onclick=\"quickchart('df-0352b3b8-ef1b-49ae-bb89-e79d8a97e63b')\"\n",
              "            title=\"Suggest charts\"\n",
              "            style=\"display:none;\">\n",
              "\n",
              "<svg xmlns=\"http://www.w3.org/2000/svg\" height=\"24px\"viewBox=\"0 0 24 24\"\n",
              "     width=\"24px\">\n",
              "    <g>\n",
              "        <path d=\"M19 3H5c-1.1 0-2 .9-2 2v14c0 1.1.9 2 2 2h14c1.1 0 2-.9 2-2V5c0-1.1-.9-2-2-2zM9 17H7v-7h2v7zm4 0h-2V7h2v10zm4 0h-2v-4h2v4z\"/>\n",
              "    </g>\n",
              "</svg>\n",
              "  </button>\n",
              "\n",
              "<style>\n",
              "  .colab-df-quickchart {\n",
              "      --bg-color: #E8F0FE;\n",
              "      --fill-color: #1967D2;\n",
              "      --hover-bg-color: #E2EBFA;\n",
              "      --hover-fill-color: #174EA6;\n",
              "      --disabled-fill-color: #AAA;\n",
              "      --disabled-bg-color: #DDD;\n",
              "  }\n",
              "\n",
              "  [theme=dark] .colab-df-quickchart {\n",
              "      --bg-color: #3B4455;\n",
              "      --fill-color: #D2E3FC;\n",
              "      --hover-bg-color: #434B5C;\n",
              "      --hover-fill-color: #FFFFFF;\n",
              "      --disabled-bg-color: #3B4455;\n",
              "      --disabled-fill-color: #666;\n",
              "  }\n",
              "\n",
              "  .colab-df-quickchart {\n",
              "    background-color: var(--bg-color);\n",
              "    border: none;\n",
              "    border-radius: 50%;\n",
              "    cursor: pointer;\n",
              "    display: none;\n",
              "    fill: var(--fill-color);\n",
              "    height: 32px;\n",
              "    padding: 0;\n",
              "    width: 32px;\n",
              "  }\n",
              "\n",
              "  .colab-df-quickchart:hover {\n",
              "    background-color: var(--hover-bg-color);\n",
              "    box-shadow: 0 1px 2px rgba(60, 64, 67, 0.3), 0 1px 3px 1px rgba(60, 64, 67, 0.15);\n",
              "    fill: var(--button-hover-fill-color);\n",
              "  }\n",
              "\n",
              "  .colab-df-quickchart-complete:disabled,\n",
              "  .colab-df-quickchart-complete:disabled:hover {\n",
              "    background-color: var(--disabled-bg-color);\n",
              "    fill: var(--disabled-fill-color);\n",
              "    box-shadow: none;\n",
              "  }\n",
              "\n",
              "  .colab-df-spinner {\n",
              "    border: 2px solid var(--fill-color);\n",
              "    border-color: transparent;\n",
              "    border-bottom-color: var(--fill-color);\n",
              "    animation:\n",
              "      spin 1s steps(1) infinite;\n",
              "  }\n",
              "\n",
              "  @keyframes spin {\n",
              "    0% {\n",
              "      border-color: transparent;\n",
              "      border-bottom-color: var(--fill-color);\n",
              "      border-left-color: var(--fill-color);\n",
              "    }\n",
              "    20% {\n",
              "      border-color: transparent;\n",
              "      border-left-color: var(--fill-color);\n",
              "      border-top-color: var(--fill-color);\n",
              "    }\n",
              "    30% {\n",
              "      border-color: transparent;\n",
              "      border-left-color: var(--fill-color);\n",
              "      border-top-color: var(--fill-color);\n",
              "      border-right-color: var(--fill-color);\n",
              "    }\n",
              "    40% {\n",
              "      border-color: transparent;\n",
              "      border-right-color: var(--fill-color);\n",
              "      border-top-color: var(--fill-color);\n",
              "    }\n",
              "    60% {\n",
              "      border-color: transparent;\n",
              "      border-right-color: var(--fill-color);\n",
              "    }\n",
              "    80% {\n",
              "      border-color: transparent;\n",
              "      border-right-color: var(--fill-color);\n",
              "      border-bottom-color: var(--fill-color);\n",
              "    }\n",
              "    90% {\n",
              "      border-color: transparent;\n",
              "      border-bottom-color: var(--fill-color);\n",
              "    }\n",
              "  }\n",
              "</style>\n",
              "\n",
              "  <script>\n",
              "    async function quickchart(key) {\n",
              "      const quickchartButtonEl =\n",
              "        document.querySelector('#' + key + ' button');\n",
              "      quickchartButtonEl.disabled = true;  // To prevent multiple clicks.\n",
              "      quickchartButtonEl.classList.add('colab-df-spinner');\n",
              "      try {\n",
              "        const charts = await google.colab.kernel.invokeFunction(\n",
              "            'suggestCharts', [key], {});\n",
              "      } catch (error) {\n",
              "        console.error('Error during call to suggestCharts:', error);\n",
              "      }\n",
              "      quickchartButtonEl.classList.remove('colab-df-spinner');\n",
              "      quickchartButtonEl.classList.add('colab-df-quickchart-complete');\n",
              "    }\n",
              "    (() => {\n",
              "      let quickchartButtonEl =\n",
              "        document.querySelector('#df-0352b3b8-ef1b-49ae-bb89-e79d8a97e63b button');\n",
              "      quickchartButtonEl.style.display =\n",
              "        google.colab.kernel.accessAllowed ? 'block' : 'none';\n",
              "    })();\n",
              "  </script>\n",
              "</div>\n",
              "\n",
              "  <div id=\"id_2b3335ce-b19b-4d7a-9cc0-b674e589011c\">\n",
              "    <style>\n",
              "      .colab-df-generate {\n",
              "        background-color: #E8F0FE;\n",
              "        border: none;\n",
              "        border-radius: 50%;\n",
              "        cursor: pointer;\n",
              "        display: none;\n",
              "        fill: #1967D2;\n",
              "        height: 32px;\n",
              "        padding: 0 0 0 0;\n",
              "        width: 32px;\n",
              "      }\n",
              "\n",
              "      .colab-df-generate:hover {\n",
              "        background-color: #E2EBFA;\n",
              "        box-shadow: 0px 1px 2px rgba(60, 64, 67, 0.3), 0px 1px 3px 1px rgba(60, 64, 67, 0.15);\n",
              "        fill: #174EA6;\n",
              "      }\n",
              "\n",
              "      [theme=dark] .colab-df-generate {\n",
              "        background-color: #3B4455;\n",
              "        fill: #D2E3FC;\n",
              "      }\n",
              "\n",
              "      [theme=dark] .colab-df-generate:hover {\n",
              "        background-color: #434B5C;\n",
              "        box-shadow: 0px 1px 3px 1px rgba(0, 0, 0, 0.15);\n",
              "        filter: drop-shadow(0px 1px 2px rgba(0, 0, 0, 0.3));\n",
              "        fill: #FFFFFF;\n",
              "      }\n",
              "    </style>\n",
              "    <button class=\"colab-df-generate\" onclick=\"generateWithVariable('df_filtered')\"\n",
              "            title=\"Generate code using this dataframe.\"\n",
              "            style=\"display:none;\">\n",
              "\n",
              "  <svg xmlns=\"http://www.w3.org/2000/svg\" height=\"24px\"viewBox=\"0 0 24 24\"\n",
              "       width=\"24px\">\n",
              "    <path d=\"M7,19H8.4L18.45,9,17,7.55,7,17.6ZM5,21V16.75L18.45,3.32a2,2,0,0,1,2.83,0l1.4,1.43a1.91,1.91,0,0,1,.58,1.4,1.91,1.91,0,0,1-.58,1.4L9.25,21ZM18.45,9,17,7.55Zm-12,3A5.31,5.31,0,0,0,4.9,8.1,5.31,5.31,0,0,0,1,6.5,5.31,5.31,0,0,0,4.9,4.9,5.31,5.31,0,0,0,6.5,1,5.31,5.31,0,0,0,8.1,4.9,5.31,5.31,0,0,0,12,6.5,5.46,5.46,0,0,0,6.5,12Z\"/>\n",
              "  </svg>\n",
              "    </button>\n",
              "    <script>\n",
              "      (() => {\n",
              "      const buttonEl =\n",
              "        document.querySelector('#id_2b3335ce-b19b-4d7a-9cc0-b674e589011c button.colab-df-generate');\n",
              "      buttonEl.style.display =\n",
              "        google.colab.kernel.accessAllowed ? 'block' : 'none';\n",
              "\n",
              "      buttonEl.onclick = () => {\n",
              "        google.colab.notebook.generateWithVariable('df_filtered');\n",
              "      }\n",
              "      })();\n",
              "    </script>\n",
              "  </div>\n",
              "\n",
              "    </div>\n",
              "  </div>\n"
            ],
            "text/plain": [
              "                                                  Essay  Overall\n",
              "0     Between 1995 and 2010, a study was conducted r...      5.5\n",
              "2     The left chart shows the population change hap...      5.0\n",
              "4     Information about the thousands of visits from...      7.0\n",
              "6     This graph depicts the changes in tourists vis...      6.5\n",
              "8     The line graph illustrates the number of overs...      8.0\n",
              "...                                                 ...      ...\n",
              "1274  The three pie graphs give information on the s...      5.5\n",
              "1276  Following three pie chats depict the distribut...      6.5\n",
              "1278  Following three pie chats depict the distribut...      6.5\n",
              "1280  The line chart depicts by percentage the popul...      6.0\n",
              "1282  The graph illustrates the population of indivi...      8.0\n",
              "\n",
              "[642 rows x 2 columns]"
            ]
          },
          "execution_count": 3,
          "metadata": {},
          "output_type": "execute_result"
        }
      ],
      "source": [
        "df_filtered = df[df['Task_Type'] == 1][['Essay','Overall']]\n",
        "df_filtered"
      ]
    },
    {
      "cell_type": "markdown",
      "id": "70284125-2007-447f-883f-5fd4b47d1745",
      "metadata": {
        "id": "70284125-2007-447f-883f-5fd4b47d1745"
      },
      "source": [
        "After getting the final dataset, some preprocessing tasks are executed. After this, the dataset is ready."
      ]
    },
    {
      "cell_type": "code",
      "execution_count": 4,
      "id": "3bf00788-8a2d-4f58-8577-101dcac60922",
      "metadata": {
        "id": "3bf00788-8a2d-4f58-8577-101dcac60922"
      },
      "outputs": [],
      "source": [
        "# Removing duplicates\n",
        "df_filtered_nd = df_filtered.drop_duplicates()\n",
        "\n",
        "# Handling missing values\n",
        "df_filtered_nm = df_filtered_nd.dropna()"
      ]
    },
    {
      "cell_type": "markdown",
      "id": "f9b1a1a4-35b4-45a6-923f-edb04667217b",
      "metadata": {
        "id": "f9b1a1a4-35b4-45a6-923f-edb04667217b"
      },
      "source": [
        "## 2. Visualization of the Dataset Features and Results"
      ]
    },
    {
      "cell_type": "markdown",
      "id": "4d7810f6-7456-4a25-b202-0386c60e1aec",
      "metadata": {
        "id": "4d7810f6-7456-4a25-b202-0386c60e1aec"
      },
      "source": [
        "The main objective of this project is to analyze the essays. For feature analysis, we temporarily preserve the results of the essays by performing one-hot encoding on them for analysis. \\\n",
        "Before converting the overall results, we are going to get some plots to understand better the data. First a plot of the overall is useful to see how many essays we have on each score. In this case, the counting is on a range of 10."
      ]
    },
    {
      "cell_type": "code",
      "execution_count": null,
      "id": "14de4168-0517-44ba-a5d5-5ff805cbfcfa",
      "metadata": {
        "id": "14de4168-0517-44ba-a5d5-5ff805cbfcfa"
      },
      "outputs": [],
      "source": [
        "# Function to create barplots\n",
        "def generate_barplot(labels, data, colors, title, xlabel, ylabel, size):\n",
        "    plt.figure(figsize=size)\n",
        "    plt.bar(labels, data, color=colors)\n",
        "    plt.title(title)\n",
        "    plt.xlabel(xlabel)\n",
        "    plt.ylabel(ylabel)\n",
        "    plt.show()"
      ]
    },
    {
      "cell_type": "code",
      "execution_count": null,
      "id": "ed360af8-adae-4db6-a844-34d321cffc91",
      "metadata": {
        "colab": {
          "base_uri": "https://localhost:8080/",
          "height": 564
        },
        "id": "ed360af8-adae-4db6-a844-34d321cffc91",
        "outputId": "4af03bcc-ca52-44ad-f823-f99cea4b768b"
      },
      "outputs": [
        {
          "data": {
            "image/png": "[encoded data removed]",
            "text/plain": [
              "<Figure size 1000x600 with 1 Axes>"
            ]
          },
          "metadata": {},
          "output_type": "display_data"
        }
      ],
      "source": [
        "import matplotlib.pyplot as plt\n",
        "\n",
        "# Create bins for the 'Overall' column.\n",
        "# Due to range and int behavior, it is necessary to add 2 to the max result\n",
        "bins = pd.cut(df_filtered_nm['Overall'], bins=range(0, int(df_filtered_nm['Overall'].max()) + 2))\n",
        "# Group by these bins and count. Added observed=True for compatibility purposes\n",
        "df_filtered_scr_grp = df_filtered_nm['Overall'].groupby(bins, observed=True).count()\n",
        "# Convert the result to a DataFrame and rename the column\n",
        "# reset_index method is called to convert the grouped index back to columns.\n",
        "df_filtered_scr_grp = df_filtered_scr_grp.rename(\"Count\").reset_index()\n",
        "# Fix text ranges to improve the plot\n",
        "df_filtered_scr_grp['Overall'] = df_filtered_scr_grp['Overall'].astype(str)\n",
        "df_filtered_scr_grp['Overall'] = 'Range ' + ' ' + df_filtered_scr_grp['Overall'].str[1:-1]\n",
        "\n",
        "# Generate the barplot\n",
        "generate_barplot(list(df_filtered_scr_grp['Overall']), list(df_filtered_scr_grp['Count']),\n",
        "               ['red', 'blue', 'green', 'yellow', 'purple', 'orange', 'pink', 'brown', 'gray', 'cyan'],\n",
        "               'Grades by overall score', 'Overall', 'Total count', (10,6))"
      ]
    },
    {
      "cell_type": "markdown",
      "id": "58067a5e-22fa-48e1-b6c2-bb30cbaf5077",
      "metadata": {
        "id": "58067a5e-22fa-48e1-b6c2-bb30cbaf5077"
      },
      "source": [
        "As mentioned before, the classification is going to be performed only on B and C bands. For the IELTS test, we have the following equivalence:\n",
        "* B = 4 to 6.5\n",
        "* C = 6.6 to 9\n",
        "\n",
        "For PGWP, the CLB level must be above 5, converted into IELTS writing score, 5.0. The data with scores below 5 is discarded. In addition, it is going to be converted to comply with the scales. For analysis purposes, band B will be class 0 and band C class 1."
      ]
    },
    {
      "cell_type": "code",
      "execution_count": 5,
      "id": "496e229f-61a4-4d50-b396-84ac1e914c1b",
      "metadata": {
        "colab": {
          "base_uri": "https://localhost:8080/"
        },
        "id": "496e229f-61a4-4d50-b396-84ac1e914c1b",
        "outputId": "413ae651-813d-4f71-eeb7-8158ef9a8c98"
      },
      "outputs": [
        {
          "name": "stderr",
          "output_type": "stream",
          "text": [
            "<ipython-input-5-b83f12978f2e>:6: SettingWithCopyWarning: \n",
            "A value is trying to be set on a copy of a slice from a DataFrame.\n",
            "Try using .loc[row_indexer,col_indexer] = value instead\n",
            "\n",
            "See the caveats in the documentation: https://pandas.pydata.org/pandas-docs/stable/user_guide/indexing.html#returning-a-view-versus-a-copy\n",
            "  df_filtered_fil['Overall_band'] = pd.cut(df_filtered_fil['Overall'], bins=[3.9, 6.5, 10], labels=[0, 1]).astype(int)\n"
          ]
        }
      ],
      "source": [
        "# Convert the column to work with float\n",
        "df_filtered_nm['Overall'] = df_filtered_nm['Overall'].astype(float)\n",
        "# Filtering the data\n",
        "df_filtered_fil = df_filtered_nm[df_filtered_nm['Overall'] >= 5.0]\n",
        "# Create bins for the 'Overall' column.\n",
        "df_filtered_fil['Overall_band'] = pd.cut(df_filtered_fil['Overall'], bins=[3.9, 6.5, 10], labels=[0, 1]).astype(int)"
      ]
    },
    {
      "cell_type": "markdown",
      "id": "35475fac-218b-4694-9dba-b14bfe16dbaa",
      "metadata": {
        "id": "35475fac-218b-4694-9dba-b14bfe16dbaa"
      },
      "source": [
        "Lets see a new plot of the Overall_band."
      ]
    },
    {
      "cell_type": "code",
      "execution_count": null,
      "id": "206fe019-e973-414f-8800-b72583b7220e",
      "metadata": {
        "id": "206fe019-e973-414f-8800-b72583b7220e"
      },
      "outputs": [],
      "source": [
        "def generate_piechart(labels, data, colors, title, size):\n",
        "    plt.figure(figsize=size)\n",
        "    plt.pie(data, labels=labels, autopct='%1.1f%%', startangle=90, colors=colors)\n",
        "    plt.title(title)\n",
        "    plt.show()"
      ]
    },
    {
      "cell_type": "code",
      "execution_count": null,
      "id": "aeeedb4d-1e02-42e0-a3ad-cfd9c441765f",
      "metadata": {
        "id": "aeeedb4d-1e02-42e0-a3ad-cfd9c441765f",
        "outputId": "8bcc2609-97c7-4814-f018-5db242249390"
      },
      "outputs": [
        {
          "data": {
            "image/png": "[encoded data removed]",
            "text/plain": [
              "<Figure size 600x400 with 1 Axes>"
            ]
          },
          "metadata": {},
          "output_type": "display_data"
        }
      ],
      "source": [
        "bands = df_filtered_fil['Overall_band'].unique()\n",
        "data = df_filtered_fil.groupby('Overall_band', observed=True).count()\n",
        "\n",
        "generate_piechart(list(bands), list(data['Overall']), ['green', 'red'], 'Grades by IELTS score', (6,4))"
      ]
    },
    {
      "cell_type": "markdown",
      "id": "da5362ca-c73f-404b-8a62-3485490167b1",
      "metadata": {
        "id": "da5362ca-c73f-404b-8a62-3485490167b1"
      },
      "source": [
        "There are more C band essays in the present dataset. It is considered normal due to the requirements to achieve this band.\n",
        "\n",
        "Let's analyze two essays using the wordcloud technique. First, a function to generate the cloud is created. Then, the first essay will be plotted."
      ]
    },
    {
      "cell_type": "code",
      "execution_count": null,
      "id": "64cbe44d-1004-4c80-a664-6736d4cc9806",
      "metadata": {
        "id": "64cbe44d-1004-4c80-a664-6736d4cc9806"
      },
      "outputs": [],
      "source": [
        "from wordcloud import WordCloud\n",
        "import matplotlib.pyplot as plt\n",
        "\n",
        "# Defining a function to generate Word Cloud\n",
        "def wordcloud_plot(figsize, bck_color, file_content):\n",
        "    # Create a WordCloud object\n",
        "    wordcloud = WordCloud(width=800, height=400, background_color=bck_color, collocations=False).generate(' '.join(file_content))\n",
        "\n",
        "    # Display the generated word cloud\n",
        "    plt.figure(figsize=figsize)\n",
        "    plt.imshow(wordcloud, interpolation='bilinear')\n",
        "    plt.axis('off')  # Remove axes\n",
        "    plt.show()"
      ]
    },
    {
      "cell_type": "code",
      "execution_count": null,
      "id": "d832dbce-c3db-4485-8ae1-89d40b7102d3",
      "metadata": {
        "id": "d832dbce-c3db-4485-8ae1-89d40b7102d3",
        "outputId": "515f8a2d-6d75-4594-b80a-d8f677b4a29a"
      },
      "outputs": [
        {
          "data": {
            "image/png": "[encoded data removed]",
            "text/plain": [
              "<Figure size 1000x500 with 1 Axes>"
            ]
          },
          "metadata": {},
          "output_type": "display_data"
        }
      ],
      "source": [
        "data = df_filtered_fil.loc[0, 'Essay']\n",
        "data = data.split('.')\n",
        "\n",
        "wordcloud_plot((10, 5), 'white', data)"
      ]
    },
    {
      "cell_type": "markdown",
      "id": "075e22d7-d1bf-4607-846d-27698b51d8b8",
      "metadata": {
        "id": "075e22d7-d1bf-4607-846d-27698b51d8b8"
      },
      "source": [
        "An interesting essay, possibly talking about people born in certain towns in Australia. Let's check another plot but with an essay in C band."
      ]
    },
    {
      "cell_type": "code",
      "execution_count": null,
      "id": "6cf00504-7025-4565-ac22-5f358db13a12",
      "metadata": {
        "id": "6cf00504-7025-4565-ac22-5f358db13a12",
        "outputId": "4404e0f1-a2c1-4ffc-ea4b-84835c22dc01"
      },
      "outputs": [
        {
          "data": {
            "image/png": "[encoded data removed]",
            "text/plain": [
              "<Figure size 1000x500 with 1 Axes>"
            ]
          },
          "metadata": {},
          "output_type": "display_data"
        }
      ],
      "source": [
        "data = df_filtered_fil[df_filtered_fil['Overall_band'] == 1]['Essay']\n",
        "data = data.iloc[0]\n",
        "data = data.split('.')\n",
        "\n",
        "wordcloud_plot((10, 5), 'white', data)"
      ]
    },
    {
      "cell_type": "markdown",
      "id": "99b76cb2-0cf1-4d36-8562-9f1f68fa69ac",
      "metadata": {
        "id": "99b76cb2-0cf1-4d36-8562-9f1f68fa69ac"
      },
      "source": [
        "There are clear differences between both plots that allow us to identify in which band the text is. The quality of the words used in each essay places them in their bands. In addition, in the essay in C band, the cloud shows that there are more vocabulary used."
      ]
    },
    {
      "cell_type": "markdown",
      "id": "929a4182-12fc-4acd-9c82-fb3b36f478ba",
      "metadata": {
        "id": "929a4182-12fc-4acd-9c82-fb3b36f478ba"
      },
      "source": [
        "## 3. Cleaning the Text Document"
      ]
    },
    {
      "cell_type": "markdown",
      "id": "b94d2e22-026c-4940-ac64-1a65d8bcb955",
      "metadata": {
        "id": "b94d2e22-026c-4940-ac64-1a65d8bcb955"
      },
      "source": [
        "Due to the nature of the present project, two fine-grain approaches will be defined to clean the essays. These will be defined as follows:"
      ]
    },
    {
      "cell_type": "markdown",
      "id": "b0238461-0f6e-4727-bc6a-a7fdab0b69b6",
      "metadata": {
        "id": "b0238461-0f6e-4727-bc6a-a7fdab0b69b6"
      },
      "source": [
        "### Pipeline 1 - Traditional fine grained"
      ]
    },
    {
      "cell_type": "markdown",
      "id": "4844eece-42d9-48d4-a58d-d49e0e302b59",
      "metadata": {
        "id": "4844eece-42d9-48d4-a58d-d49e0e302b59"
      },
      "source": [
        "For grammar analysis purposes, a fine-grain process must be defined. Here is the list of the processes performed in the first pipeline:\n",
        "- Lower casing\n",
        "- Removing punctuation\n",
        "- Handling whitespace\n",
        "- Removing stop words\n",
        "- Remove numbers\n",
        "- Tokenization\n",
        "- Lemmatization\n",
        "- Part-of-Speech Tagging (fine-grained)\n",
        "- Named Entity Recognition (NER)\n",
        "- Syntactic Parsing and depending\n",
        "\n",
        "This is a more 'traditional' fine grain in which details relevant to grammar are included. The first step is to remove details such as punctuation, whitespace, and stop words. For these steps, the pipeline is not considered so deep in grain. In the last four steps, Part-of-Speech fine-grained, Named Entity Recognition, Syntactic Parsing and depending are included to add more details. \\\n",
        "The following code implements the previously explained steps:"
      ]
    },
    {
      "cell_type": "code",
      "execution_count": 6,
      "id": "e6dac1b0-63e2-4966-8208-e87c54e1cf3a",
      "metadata": {
        "id": "e6dac1b0-63e2-4966-8208-e87c54e1cf3a",
        "scrolled": true
      },
      "outputs": [],
      "source": [
        "import spacy\n",
        "nlp = spacy.load('en_core_web_lg')"
      ]
    },
    {
      "cell_type": "code",
      "execution_count": 7,
      "id": "b97d2ad4-33f4-408e-962f-81d60ab5ee9a",
      "metadata": {
        "id": "b97d2ad4-33f4-408e-962f-81d60ab5ee9a"
      },
      "outputs": [],
      "source": [
        "# Defining the function for pipeline1\n",
        "def pipeline1(text):\n",
        "    # Lower casing\n",
        "    text_lower_case = text.lower()\n",
        "    # Loading to the model\n",
        "    doc = nlp(text_lower_case)\n",
        "    tokens_lemmatized = []\n",
        "    dependency = []\n",
        "    pos_fine_grain = []\n",
        "    for token in doc:\n",
        "        # Removing: punctuation, whitespace, stop words, numbers\n",
        "        if (not token.is_punct) and \\\n",
        "            (not token.is_space) and \\\n",
        "            (not token.is_stop) and \\\n",
        "            (not token.is_digit):\n",
        "            # Tokenization and lemmatization\n",
        "            tokens_lemmatized.append(token.lemma_)\n",
        "            # Syntactic Parsing and depending\n",
        "            dependency.append((token.text, token.dep_, token.head.text))\n",
        "            # Part-of-Speech Tagging (fine-grained)\n",
        "            pos_fine_grain.append((token.text, token.tag_))\n",
        "\n",
        "    tokens_lemmatized = ' '.join(tokens_lemmatized)\n",
        "\n",
        "    # Name entity recognition\n",
        "    doc2 = nlp(text)\n",
        "    entities = [(entity.text, entity.label_) for entity in doc2.ents]\n",
        "\n",
        "    return tokens_lemmatized, dependency, entities, pos_fine_grain"
      ]
    },
    {
      "cell_type": "code",
      "execution_count": 16,
      "id": "520d010c-2f25-49fc-a1c9-f3d51b891c89",
      "metadata": {
        "id": "520d010c-2f25-49fc-a1c9-f3d51b891c89"
      },
      "outputs": [],
      "source": [
        "# Processing the data\n",
        "full_data_pip1 = []\n",
        "for text in df_filtered_fil['Essay']:\n",
        "    pip1_tkn_lmm, pip1_dpn, pip1_ent, pip1_pos_fg = pipeline1(text)\n",
        "    full_data_pip1.append([pip1_tkn_lmm, pip1_dpn, pip1_ent, pip1_pos_fg])"
      ]
    },
    {
      "cell_type": "code",
      "execution_count": null,
      "id": "26a1d0e4-f265-49e6-9277-9a671bf7fcae",
      "metadata": {
        "colab": {
          "base_uri": "https://localhost:8080/"
        },
        "id": "26a1d0e4-f265-49e6-9277-9a671bf7fcae",
        "outputId": "7a8742d2-8f48-426d-e9b0-6ad54e99c664",
        "scrolled": true
      },
      "outputs": [
        {
          "data": {
            "text/plain": [
              "['study conduct represent percentage people bear australia versus people bear outside australia live urban rural town city represent major percentage habitat roughly percent follow rural area town come people bear australia hand people bear outside australia city show percentage 6o percent follow rural area town people bear australia city increase percent increase total representation major decrease town rural area conversely people bear outside australia city percentage study follow rural area town',\n",
              " [('study', 'nsubjpass', 'conducted'),\n",
              "  ('conducted', 'ROOT', 'conducted'),\n",
              "  ('representing', 'advcl', 'conducted'),\n",
              "  ('percentages', 'dobj', 'representing'),\n",
              "  ('people', 'pobj', 'of'),\n",
              "  ('born', 'acl', 'people'),\n",
              "  ('australia', 'pobj', 'in'),\n",
              "  ('versus', 'prep', 'percentages'),\n",
              "  ('people', 'pobj', 'versus'),\n",
              "  ('born', 'acl', 'people'),\n",
              "  ('outside', 'prep', 'born'),\n",
              "  ('australia', 'pobj', 'outside'),\n",
              "  ('living', 'acl', 'percentages'),\n",
              "  ('urban', 'amod', 'in'),\n",
              "  ('rural', 'conj', 'urban'),\n",
              "  ('town', 'conj', 'rural'),\n",
              "  ('cities', 'nsubj', 'represented'),\n",
              "  ('represented', 'ROOT', 'represented'),\n",
              "  ('major', 'amod', 'percentage'),\n",
              "  ('percentage', 'dobj', 'represented'),\n",
              "  ('habitat', 'pobj', 'of'),\n",
              "  ('roughly', 'advmod', '50'),\n",
              "  ('percent', 'pobj', 'by'),\n",
              "  ('followed', 'advcl', 'represented'),\n",
              "  ('rural', 'amod', 'areas'),\n",
              "  ('areas', 'pobj', 'by'),\n",
              "  ('towns', 'conj', 'areas'),\n",
              "  ('came', 'conj', 'represented'),\n",
              "  ('people', 'pobj', 'among'),\n",
              "  ('born', 'acl', 'people'),\n",
              "  ('australia', 'pobj', 'in'),\n",
              "  ('hand', 'pobj', 'on'),\n",
              "  ('people', 'nsubj', 'showed'),\n",
              "  ('born', 'acl', 'people'),\n",
              "  ('outside', 'prep', 'born'),\n",
              "  ('australia', 'pobj', 'outside'),\n",
              "  ('cities', 'appos', 'people'),\n",
              "  ('showed', 'ROOT', 'showed'),\n",
              "  ('percentages', 'dobj', 'showed'),\n",
              "  ('6o', 'nummod', 'percent'),\n",
              "  ('percent', 'pobj', 'of'),\n",
              "  ('followed', 'acl', 'percentages'),\n",
              "  ('rural', 'amod', 'areas'),\n",
              "  ('areas', 'pobj', 'by'),\n",
              "  ('towns', 'conj', 'areas'),\n",
              "  ('people', 'pobj', 'among'),\n",
              "  ('born', 'acl', 'people'),\n",
              "  ('australia', 'pobj', 'in'),\n",
              "  ('cities', 'nsubj', 'had'),\n",
              "  ('increase', 'dobj', 'had'),\n",
              "  ('percent', 'compound', 'increase'),\n",
              "  ('increase', 'dobj', 'had'),\n",
              "  ('total', 'amod', 'representation'),\n",
              "  ('representation', 'pobj', 'in'),\n",
              "  ('major', 'amod', 'decrease'),\n",
              "  ('decrease', 'conj', 'representation'),\n",
              "  ('towns', 'pobj', 'in'),\n",
              "  ('rural', 'amod', 'areas'),\n",
              "  ('areas', 'conj', 'towns'),\n",
              "  ('conversely', 'advmod', 'had'),\n",
              "  ('people', 'nsubj', 'had'),\n",
              "  ('born', 'acl', 'people'),\n",
              "  ('outside', 'prep', 'born'),\n",
              "  ('australia', 'pobj', 'outside'),\n",
              "  ('cities', 'conj', 'people'),\n",
              "  ('percentage', 'dobj', 'had'),\n",
              "  ('studies', 'pobj', 'among'),\n",
              "  ('followed', 'acl', 'percentage'),\n",
              "  ('rural', 'amod', 'areas'),\n",
              "  ('areas', 'pobj', 'by'),\n",
              "  ('towns', 'conj', 'areas')],\n",
              " [('Between 1995 and 2010', 'DATE'),\n",
              "  ('Australia', 'GPE'),\n",
              "  ('Australia', 'GPE'),\n",
              "  ('First', 'ORDINAL'),\n",
              "  ('1995', 'DATE'),\n",
              "  ('roughly 50 percent', 'PERCENT'),\n",
              "  ('Australia', 'GPE'),\n",
              "  ('Australia', 'GPE'),\n",
              "  ('6o percent', 'PERCENT'),\n",
              "  ('2010', 'DATE'),\n",
              "  ('Australia', 'GPE'),\n",
              "  ('more than 20 percent', 'PERCENT'),\n",
              "  ('Australia', 'GPE')],\n",
              " [('study', 'NN'),\n",
              "  ('conducted', 'VBN'),\n",
              "  ('representing', 'VBG'),\n",
              "  ('percentages', 'NNS'),\n",
              "  ('people', 'NNS'),\n",
              "  ('born', 'VBN'),\n",
              "  ('australia', 'NNP'),\n",
              "  ('versus', 'IN'),\n",
              "  ('people', 'NNS'),\n",
              "  ('born', 'VBN'),\n",
              "  ('outside', 'IN'),\n",
              "  ('australia', 'NNP'),\n",
              "  ('living', 'VBG'),\n",
              "  ('urban', 'JJ'),\n",
              "  ('rural', 'JJ'),\n",
              "  ('town', 'NN'),\n",
              "  ('cities', 'NNS'),\n",
              "  ('represented', 'VBD'),\n",
              "  ('major', 'JJ'),\n",
              "  ('percentage', 'NN'),\n",
              "  ('habitat', 'NN'),\n",
              "  ('roughly', 'RB'),\n",
              "  ('percent', 'NN'),\n",
              "  ('followed', 'VBN'),\n",
              "  ('rural', 'JJ'),\n",
              "  ('areas', 'NNS'),\n",
              "  ('towns', 'NNS'),\n",
              "  ('came', 'VBD'),\n",
              "  ('people', 'NNS'),\n",
              "  ('born', 'VBN'),\n",
              "  ('australia', 'NNP'),\n",
              "  ('hand', 'NN'),\n",
              "  ('people', 'NNS'),\n",
              "  ('born', 'VBN'),\n",
              "  ('outside', 'IN'),\n",
              "  ('australia', 'NNP'),\n",
              "  ('cities', 'NNS'),\n",
              "  ('showed', 'VBD'),\n",
              "  ('percentages', 'NNS'),\n",
              "  ('6o', 'CD'),\n",
              "  ('percent', 'NN'),\n",
              "  ('followed', 'VBN'),\n",
              "  ('rural', 'JJ'),\n",
              "  ('areas', 'NNS'),\n",
              "  ('towns', 'NNS'),\n",
              "  ('people', 'NNS'),\n",
              "  ('born', 'VBN'),\n",
              "  ('australia', 'NNP'),\n",
              "  ('cities', 'NNS'),\n",
              "  ('increase', 'NN'),\n",
              "  ('percent', 'NN'),\n",
              "  ('increase', 'NN'),\n",
              "  ('total', 'JJ'),\n",
              "  ('representation', 'NN'),\n",
              "  ('major', 'JJ'),\n",
              "  ('decrease', 'NN'),\n",
              "  ('towns', 'NNS'),\n",
              "  ('rural', 'JJ'),\n",
              "  ('areas', 'NNS'),\n",
              "  ('conversely', 'RB'),\n",
              "  ('people', 'NNS'),\n",
              "  ('born', 'VBN'),\n",
              "  ('outside', 'IN'),\n",
              "  ('australia', 'NNP'),\n",
              "  ('cities', 'NNS'),\n",
              "  ('percentage', 'NN'),\n",
              "  ('studies', 'NNS'),\n",
              "  ('followed', 'VBN'),\n",
              "  ('rural', 'JJ'),\n",
              "  ('areas', 'NNS'),\n",
              "  ('towns', 'NNS')]]"
            ]
          },
          "execution_count": 8,
          "metadata": {},
          "output_type": "execute_result"
        }
      ],
      "source": [
        "# Checking the saved information\n",
        "full_data_pip1[0]"
      ]
    },
    {
      "cell_type": "markdown",
      "id": "85a2d066-1f08-410a-a7da-460ca725a0ed",
      "metadata": {
        "id": "85a2d066-1f08-410a-a7da-460ca725a0ed"
      },
      "source": [
        "### Pipeline 2 - Deep fine grained"
      ]
    },
    {
      "cell_type": "markdown",
      "id": "4c2ef397-d6f5-4d1d-bbe5-7e70c8ffab8d",
      "metadata": {
        "id": "4c2ef397-d6f5-4d1d-bbe5-7e70c8ffab8d"
      },
      "source": [
        "The second pipeline will have three key differences from the first one. Three elements are not going to be removed:\n",
        "- Punctuation\n",
        "- Stop words\n",
        "- Numbers\n",
        "  \n",
        "This means that the pipeline will be 'deep' fine-grained. There are grammar rules that are considered for the IELTS evaluations for the previous three points. Punctuation adds clarity and improves the structure of the writing. Stop words provide connection between phrases and provide transitions. Numbers must be writing properly to get better scores.\\\n",
        "The pipeline code is implemented in the following cells:"
      ]
    },
    {
      "cell_type": "code",
      "execution_count": 8,
      "id": "df0a931e-6720-4562-91eb-354121672539",
      "metadata": {
        "id": "df0a931e-6720-4562-91eb-354121672539"
      },
      "outputs": [],
      "source": [
        "# Defining the function for pipeline2\n",
        "def pipeline2(text):\n",
        "    # Lower casing\n",
        "    text_lower_case = text.lower()\n",
        "    # Loading to the model\n",
        "    doc = nlp(text_lower_case)\n",
        "    tokens_lemmatized = []\n",
        "    dependency = []\n",
        "    pos_fine_grain = []\n",
        "    for token in doc:\n",
        "        # Removing: punctuation, whitespace, stop words, numbers\n",
        "        if (not token.is_space):\n",
        "            # Tokenization and lemmatization\n",
        "            tokens_lemmatized.append(token.lemma_)\n",
        "            # Syntactic Parsing and depending\n",
        "            dependency.append((token.text, token.dep_, token.head.text))\n",
        "            # Part-of-Speech Tagging (fine-grained)\n",
        "            pos_fine_grain.append((token.text, token.tag_))\n",
        "\n",
        "    tokens_lemmatized = ' '.join(tokens_lemmatized)\n",
        "\n",
        "    # Name entity recognition\n",
        "    doc2 = nlp(text)\n",
        "    entities = [(entity.text, entity.label_) for entity in doc2.ents]\n",
        "\n",
        "    return tokens_lemmatized, dependency, entities, pos_fine_grain"
      ]
    },
    {
      "cell_type": "code",
      "execution_count": 9,
      "id": "5e1f0a3c-c711-49ce-b836-0069c1da5431",
      "metadata": {
        "id": "5e1f0a3c-c711-49ce-b836-0069c1da5431"
      },
      "outputs": [],
      "source": [
        "# Processing the data\n",
        "full_data_pip2 = []\n",
        "for text in df_filtered_fil['Essay']:\n",
        "    pip2_tkn_lmm, pip2_dpn, pip2_ent, pip2_pos_fg = pipeline2(text)\n",
        "    full_data_pip2.append([pip2_tkn_lmm, pip2_dpn, pip2_ent, pip2_pos_fg])"
      ]
    },
    {
      "cell_type": "code",
      "execution_count": null,
      "id": "8a35caa8-b4d2-4197-82db-e3a62e846d40",
      "metadata": {
        "colab": {
          "base_uri": "https://localhost:8080/"
        },
        "id": "8a35caa8-b4d2-4197-82db-e3a62e846d40",
        "outputId": "baa7334b-82a0-40ba-bfea-ce86627cde76",
        "scrolled": true
      },
      "outputs": [
        {
          "data": {
            "text/plain": [
              "['between 1995 and 2010 , a study be conduct represent the percentage of people bear in australia , versus people bear outside australia , live in urban , rural , and town . first , in 1995 , city represent the major percentage of habitat by roughly 50 percent , follow by rural area and town come in last , among people bear in australia . on the other hand , people bear outside australia , city show the most percentage of 6o percent , follow by rural area and town . in 2010 , among people bear in australia , city have an increase more than 20 percent increase in the total representation and a major decrease in town and rural area . conversely , people bear outside australia , city have the most percentage among both study , follow by rural area and town .',\n",
              " [('between', 'prep', 'conducted'),\n",
              "  ('1995', 'pobj', 'between'),\n",
              "  ('and', 'cc', '1995'),\n",
              "  ('2010', 'conj', '1995'),\n",
              "  (',', 'punct', 'conducted'),\n",
              "  ('a', 'det', 'study'),\n",
              "  ('study', 'nsubjpass', 'conducted'),\n",
              "  ('was', 'auxpass', 'conducted'),\n",
              "  ('conducted', 'ROOT', 'conducted'),\n",
              "  ('representing', 'advcl', 'conducted'),\n",
              "  ('the', 'det', 'percentages'),\n",
              "  ('percentages', 'dobj', 'representing'),\n",
              "  ('of', 'prep', 'percentages'),\n",
              "  ('people', 'pobj', 'of'),\n",
              "  ('born', 'acl', 'people'),\n",
              "  ('in', 'prep', 'born'),\n",
              "  ('australia', 'pobj', 'in'),\n",
              "  (',', 'punct', 'percentages'),\n",
              "  ('versus', 'prep', 'percentages'),\n",
              "  ('people', 'pobj', 'versus'),\n",
              "  ('born', 'acl', 'people'),\n",
              "  ('outside', 'prep', 'born'),\n",
              "  ('australia', 'pobj', 'outside'),\n",
              "  (',', 'punct', 'percentages'),\n",
              "  ('living', 'acl', 'percentages'),\n",
              "  ('in', 'prep', 'living'),\n",
              "  ('urban', 'amod', 'in'),\n",
              "  (',', 'punct', 'urban'),\n",
              "  ('rural', 'conj', 'urban'),\n",
              "  (',', 'punct', 'rural'),\n",
              "  ('and', 'cc', 'rural'),\n",
              "  ('town', 'conj', 'rural'),\n",
              "  ('.', 'punct', 'conducted'),\n",
              "  ('first', 'advmod', 'represented'),\n",
              "  (',', 'punct', 'represented'),\n",
              "  ('in', 'prep', 'represented'),\n",
              "  ('1995', 'pobj', 'in'),\n",
              "  (',', 'punct', 'represented'),\n",
              "  ('cities', 'nsubj', 'represented'),\n",
              "  ('represented', 'ROOT', 'represented'),\n",
              "  ('the', 'det', 'percentage'),\n",
              "  ('major', 'amod', 'percentage'),\n",
              "  ('percentage', 'dobj', 'represented'),\n",
              "  ('of', 'prep', 'percentage'),\n",
              "  ('habitat', 'pobj', 'of'),\n",
              "  ('by', 'prep', 'represented'),\n",
              "  ('roughly', 'advmod', '50'),\n",
              "  ('50', 'nummod', 'percent'),\n",
              "  ('percent', 'pobj', 'by'),\n",
              "  (',', 'punct', 'represented'),\n",
              "  ('followed', 'advcl', 'represented'),\n",
              "  ('by', 'agent', 'followed'),\n",
              "  ('rural', 'amod', 'areas'),\n",
              "  ('areas', 'pobj', 'by'),\n",
              "  ('and', 'cc', 'areas'),\n",
              "  ('towns', 'conj', 'areas'),\n",
              "  ('came', 'conj', 'represented'),\n",
              "  ('in', 'prt', 'came'),\n",
              "  ('last', 'advmod', 'came'),\n",
              "  (',', 'punct', 'came'),\n",
              "  ('among', 'prep', 'came'),\n",
              "  ('people', 'pobj', 'among'),\n",
              "  ('born', 'acl', 'people'),\n",
              "  ('in', 'prep', 'born'),\n",
              "  ('australia', 'pobj', 'in'),\n",
              "  ('.', 'punct', 'represented'),\n",
              "  ('on', 'prep', 'showed'),\n",
              "  ('the', 'det', 'hand'),\n",
              "  ('other', 'amod', 'hand'),\n",
              "  ('hand', 'pobj', 'on'),\n",
              "  (',', 'punct', 'showed'),\n",
              "  ('people', 'nsubj', 'showed'),\n",
              "  ('born', 'acl', 'people'),\n",
              "  ('outside', 'prep', 'born'),\n",
              "  ('australia', 'pobj', 'outside'),\n",
              "  (',', 'punct', 'people'),\n",
              "  ('cities', 'appos', 'people'),\n",
              "  ('showed', 'ROOT', 'showed'),\n",
              "  ('the', 'det', 'percentages'),\n",
              "  ('most', 'amod', 'percentages'),\n",
              "  ('percentages', 'dobj', 'showed'),\n",
              "  ('of', 'prep', 'percentages'),\n",
              "  ('6o', 'nummod', 'percent'),\n",
              "  ('percent', 'pobj', 'of'),\n",
              "  (',', 'punct', 'percentages'),\n",
              "  ('followed', 'acl', 'percentages'),\n",
              "  ('by', 'agent', 'followed'),\n",
              "  ('rural', 'amod', 'areas'),\n",
              "  ('areas', 'pobj', 'by'),\n",
              "  ('and', 'cc', 'areas'),\n",
              "  ('towns', 'conj', 'areas'),\n",
              "  ('.', 'punct', 'showed'),\n",
              "  ('in', 'prep', 'had'),\n",
              "  ('2010', 'pobj', 'in'),\n",
              "  (',', 'punct', 'had'),\n",
              "  ('among', 'prep', 'had'),\n",
              "  ('people', 'pobj', 'among'),\n",
              "  ('born', 'acl', 'people'),\n",
              "  ('in', 'prep', 'born'),\n",
              "  ('australia', 'pobj', 'in'),\n",
              "  (',', 'punct', 'had'),\n",
              "  ('cities', 'nsubj', 'had'),\n",
              "  ('had', 'ROOT', 'had'),\n",
              "  ('an', 'det', 'increase'),\n",
              "  ('increase', 'dobj', 'had'),\n",
              "  ('more', 'amod', '20'),\n",
              "  ('than', 'quantmod', '20'),\n",
              "  ('20', 'nummod', 'percent'),\n",
              "  ('percent', 'compound', 'increase'),\n",
              "  ('increase', 'dobj', 'had'),\n",
              "  ('in', 'prep', 'increase'),\n",
              "  ('the', 'det', 'representation'),\n",
              "  ('total', 'amod', 'representation'),\n",
              "  ('representation', 'pobj', 'in'),\n",
              "  ('and', 'cc', 'representation'),\n",
              "  ('a', 'det', 'decrease'),\n",
              "  ('major', 'amod', 'decrease'),\n",
              "  ('decrease', 'conj', 'representation'),\n",
              "  ('in', 'prep', 'decrease'),\n",
              "  ('towns', 'pobj', 'in'),\n",
              "  ('and', 'cc', 'towns'),\n",
              "  ('rural', 'amod', 'areas'),\n",
              "  ('areas', 'conj', 'towns'),\n",
              "  ('.', 'punct', 'had'),\n",
              "  ('conversely', 'advmod', 'had'),\n",
              "  (',', 'punct', 'had'),\n",
              "  ('people', 'nsubj', 'had'),\n",
              "  ('born', 'acl', 'people'),\n",
              "  ('outside', 'prep', 'born'),\n",
              "  ('australia', 'pobj', 'outside'),\n",
              "  (',', 'punct', 'people'),\n",
              "  ('cities', 'conj', 'people'),\n",
              "  ('had', 'ROOT', 'had'),\n",
              "  ('the', 'det', 'percentage'),\n",
              "  ('most', 'amod', 'percentage'),\n",
              "  ('percentage', 'dobj', 'had'),\n",
              "  ('among', 'prep', 'percentage'),\n",
              "  ('both', 'det', 'studies'),\n",
              "  ('studies', 'pobj', 'among'),\n",
              "  (',', 'punct', 'percentage'),\n",
              "  ('followed', 'acl', 'percentage'),\n",
              "  ('by', 'agent', 'followed'),\n",
              "  ('rural', 'amod', 'areas'),\n",
              "  ('areas', 'pobj', 'by'),\n",
              "  ('and', 'cc', 'areas'),\n",
              "  ('towns', 'conj', 'areas'),\n",
              "  ('.', 'punct', 'had')],\n",
              " [('Between 1995 and 2010', 'DATE'),\n",
              "  ('Australia', 'GPE'),\n",
              "  ('Australia', 'GPE'),\n",
              "  ('First', 'ORDINAL'),\n",
              "  ('1995', 'DATE'),\n",
              "  ('roughly 50 percent', 'PERCENT'),\n",
              "  ('Australia', 'GPE'),\n",
              "  ('Australia', 'GPE'),\n",
              "  ('6o percent', 'PERCENT'),\n",
              "  ('2010', 'DATE'),\n",
              "  ('Australia', 'GPE'),\n",
              "  ('more than 20 percent', 'PERCENT'),\n",
              "  ('Australia', 'GPE')],\n",
              " [('between', 'IN'),\n",
              "  ('1995', 'CD'),\n",
              "  ('and', 'CC'),\n",
              "  ('2010', 'CD'),\n",
              "  (',', ','),\n",
              "  ('a', 'DT'),\n",
              "  ('study', 'NN'),\n",
              "  ('was', 'VBD'),\n",
              "  ('conducted', 'VBN'),\n",
              "  ('representing', 'VBG'),\n",
              "  ('the', 'DT'),\n",
              "  ('percentages', 'NNS'),\n",
              "  ('of', 'IN'),\n",
              "  ('people', 'NNS'),\n",
              "  ('born', 'VBN'),\n",
              "  ('in', 'IN'),\n",
              "  ('australia', 'NNP'),\n",
              "  (',', ','),\n",
              "  ('versus', 'IN'),\n",
              "  ('people', 'NNS'),\n",
              "  ('born', 'VBN'),\n",
              "  ('outside', 'IN'),\n",
              "  ('australia', 'NNP'),\n",
              "  (',', ','),\n",
              "  ('living', 'VBG'),\n",
              "  ('in', 'IN'),\n",
              "  ('urban', 'JJ'),\n",
              "  (',', ','),\n",
              "  ('rural', 'JJ'),\n",
              "  (',', ','),\n",
              "  ('and', 'CC'),\n",
              "  ('town', 'NN'),\n",
              "  ('.', '.'),\n",
              "  ('first', 'RB'),\n",
              "  (',', ','),\n",
              "  ('in', 'IN'),\n",
              "  ('1995', 'CD'),\n",
              "  (',', ','),\n",
              "  ('cities', 'NNS'),\n",
              "  ('represented', 'VBD'),\n",
              "  ('the', 'DT'),\n",
              "  ('major', 'JJ'),\n",
              "  ('percentage', 'NN'),\n",
              "  ('of', 'IN'),\n",
              "  ('habitat', 'NN'),\n",
              "  ('by', 'IN'),\n",
              "  ('roughly', 'RB'),\n",
              "  ('50', 'CD'),\n",
              "  ('percent', 'NN'),\n",
              "  (',', ','),\n",
              "  ('followed', 'VBN'),\n",
              "  ('by', 'IN'),\n",
              "  ('rural', 'JJ'),\n",
              "  ('areas', 'NNS'),\n",
              "  ('and', 'CC'),\n",
              "  ('towns', 'NNS'),\n",
              "  ('came', 'VBD'),\n",
              "  ('in', 'RP'),\n",
              "  ('last', 'JJ'),\n",
              "  (',', ','),\n",
              "  ('among', 'IN'),\n",
              "  ('people', 'NNS'),\n",
              "  ('born', 'VBN'),\n",
              "  ('in', 'IN'),\n",
              "  ('australia', 'NNP'),\n",
              "  ('.', '.'),\n",
              "  ('on', 'IN'),\n",
              "  ('the', 'DT'),\n",
              "  ('other', 'JJ'),\n",
              "  ('hand', 'NN'),\n",
              "  (',', ','),\n",
              "  ('people', 'NNS'),\n",
              "  ('born', 'VBN'),\n",
              "  ('outside', 'IN'),\n",
              "  ('australia', 'NNP'),\n",
              "  (',', ','),\n",
              "  ('cities', 'NNS'),\n",
              "  ('showed', 'VBD'),\n",
              "  ('the', 'DT'),\n",
              "  ('most', 'JJS'),\n",
              "  ('percentages', 'NNS'),\n",
              "  ('of', 'IN'),\n",
              "  ('6o', 'CD'),\n",
              "  ('percent', 'NN'),\n",
              "  (',', ','),\n",
              "  ('followed', 'VBN'),\n",
              "  ('by', 'IN'),\n",
              "  ('rural', 'JJ'),\n",
              "  ('areas', 'NNS'),\n",
              "  ('and', 'CC'),\n",
              "  ('towns', 'NNS'),\n",
              "  ('.', '.'),\n",
              "  ('in', 'IN'),\n",
              "  ('2010', 'CD'),\n",
              "  (',', ','),\n",
              "  ('among', 'IN'),\n",
              "  ('people', 'NNS'),\n",
              "  ('born', 'VBN'),\n",
              "  ('in', 'IN'),\n",
              "  ('australia', 'NNP'),\n",
              "  (',', ','),\n",
              "  ('cities', 'NNS'),\n",
              "  ('had', 'VBD'),\n",
              "  ('an', 'DT'),\n",
              "  ('increase', 'NN'),\n",
              "  ('more', 'JJR'),\n",
              "  ('than', 'IN'),\n",
              "  ('20', 'CD'),\n",
              "  ('percent', 'NN'),\n",
              "  ('increase', 'NN'),\n",
              "  ('in', 'IN'),\n",
              "  ('the', 'DT'),\n",
              "  ('total', 'JJ'),\n",
              "  ('representation', 'NN'),\n",
              "  ('and', 'CC'),\n",
              "  ('a', 'DT'),\n",
              "  ('major', 'JJ'),\n",
              "  ('decrease', 'NN'),\n",
              "  ('in', 'IN'),\n",
              "  ('towns', 'NNS'),\n",
              "  ('and', 'CC'),\n",
              "  ('rural', 'JJ'),\n",
              "  ('areas', 'NNS'),\n",
              "  ('.', '.'),\n",
              "  ('conversely', 'RB'),\n",
              "  (',', ','),\n",
              "  ('people', 'NNS'),\n",
              "  ('born', 'VBN'),\n",
              "  ('outside', 'IN'),\n",
              "  ('australia', 'NNP'),\n",
              "  (',', ','),\n",
              "  ('cities', 'NNS'),\n",
              "  ('had', 'VBD'),\n",
              "  ('the', 'DT'),\n",
              "  ('most', 'JJS'),\n",
              "  ('percentage', 'NN'),\n",
              "  ('among', 'IN'),\n",
              "  ('both', 'DT'),\n",
              "  ('studies', 'NNS'),\n",
              "  (',', ','),\n",
              "  ('followed', 'VBN'),\n",
              "  ('by', 'IN'),\n",
              "  ('rural', 'JJ'),\n",
              "  ('areas', 'NNS'),\n",
              "  ('and', 'CC'),\n",
              "  ('towns', 'NNS'),\n",
              "  ('.', '.')]]"
            ]
          },
          "execution_count": 11,
          "metadata": {},
          "output_type": "execute_result"
        }
      ],
      "source": [
        "# Checking the saved information\n",
        "full_data_pip2[0]"
      ]
    },
    {
      "cell_type": "markdown",
      "id": "fd3ca89d-cc4a-411f-aeec-d20c84f1a65f",
      "metadata": {
        "id": "fd3ca89d-cc4a-411f-aeec-d20c84f1a65f"
      },
      "source": [
        "The results of the pipeline process are widely different. The pipeline2 generated a more extensive list with detailed data from the given data."
      ]
    },
    {
      "cell_type": "markdown",
      "id": "181564c4-3ab0-43a0-be7c-90fe72f68d88",
      "metadata": {
        "id": "181564c4-3ab0-43a0-be7c-90fe72f68d88"
      },
      "source": [
        "## 4.Implementation of Word Embedding Methods"
      ]
    },
    {
      "cell_type": "markdown",
      "id": "550ca828-aa3c-47f1-9b2f-5828ab5a403e",
      "metadata": {
        "id": "550ca828-aa3c-47f1-9b2f-5828ab5a403e"
      },
      "source": [
        "Three-word embedding methods will be implemented. The methods are the following:\n",
        "- BERT: Due to its bidirectional nature, BERT captures the context more effectively. This can help us to understand deeply the sentence structure, meaning, and grammar use. For this case, and thank to th tearche's analysis, a contextual representation is used due to future classification purposes.\n",
        "- TF-IDF: This method highlights important words and their specific relevance in the document. This can help us to verify if the words are related and consistent with the topic of the task.\n",
        "- SpaCy: Generates numerical embeddings of the entire document. The main idea is to capture the semantic meaning of the text. The process works with the mean of the individual token vectors, providing a holistic representation of the text.\n",
        "\n",
        "The next sections implement the three methods as functions to use them later."
      ]
    },
    {
      "cell_type": "markdown",
      "id": "235a5c05-ed1f-4c72-90e3-0fcaff9d3614",
      "metadata": {
        "id": "235a5c05-ed1f-4c72-90e3-0fcaff9d3614"
      },
      "source": [
        "### 4.1  BERT"
      ]
    },
    {
      "cell_type": "code",
      "execution_count": 10,
      "id": "11b6cd56-7961-46c7-985d-e54854ba48dc",
      "metadata": {
        "id": "11b6cd56-7961-46c7-985d-e54854ba48dc"
      },
      "outputs": [],
      "source": [
        "from transformers import BertTokenizer, BertModel\n",
        "import torch\n",
        "\n",
        "def vectorize_bert(text):\n",
        "    # Load pre-trained model tokenizer (vocabulary)\n",
        "    tokenizer = BertTokenizer.from_pretrained('bert-base-uncased')\n",
        "    # Load pre-trained model\n",
        "    model = BertModel.from_pretrained('bert-base-uncased')\n",
        "\n",
        "    # Encode text and returning it as PyTorch tensor\n",
        "    input_ids = tokenizer.encode(text, add_special_tokens=True, return_tensors=\"pt\")\n",
        "\n",
        "    # Get the hidden states from the model\n",
        "    with torch.no_grad():\n",
        "        outputs = model(input_ids)\n",
        "\n",
        "    # Extract the [CLS] token embedding\n",
        "    cls_embedding = outputs.last_hidden_state[:, 0, :]\n",
        "\n",
        "    return cls_embedding"
      ]
    },
    {
      "cell_type": "markdown",
      "id": "2b529027-dad0-46a6-8c9a-da18dfa44983",
      "metadata": {
        "id": "2b529027-dad0-46a6-8c9a-da18dfa44983"
      },
      "source": [
        "### 4.2 TF-IDF"
      ]
    },
    {
      "cell_type": "code",
      "execution_count": 11,
      "id": "07b6936f-a48b-4a12-8ef6-40fb7ebed7cc",
      "metadata": {
        "id": "07b6936f-a48b-4a12-8ef6-40fb7ebed7cc"
      },
      "outputs": [],
      "source": [
        "from sklearn.feature_extraction.text import TfidfVectorizer\n",
        "\n",
        "def vectorize_tfidf(documents):\n",
        "    # Initialize TfidfVectorizer\n",
        "    vectorizer = TfidfVectorizer()\n",
        "\n",
        "    # Fit and transform the documents\n",
        "    X = vectorizer.fit_transform(documents)\n",
        "\n",
        "    # Convert to array and show the result\n",
        "    tfidf_vector = X.toarray()\n",
        "\n",
        "    return tfidf_vector"
      ]
    },
    {
      "cell_type": "markdown",
      "id": "877561dd-d776-445c-a7cb-ea99f133fbe9",
      "metadata": {
        "id": "877561dd-d776-445c-a7cb-ea99f133fbe9"
      },
      "source": [
        "### 4.3 SpaCy"
      ]
    },
    {
      "cell_type": "code",
      "execution_count": 12,
      "id": "74bc3c42-1f87-4c80-be23-c056b2a05938",
      "metadata": {
        "id": "74bc3c42-1f87-4c80-be23-c056b2a05938"
      },
      "outputs": [],
      "source": [
        "def vectorize_spacy(text):\n",
        "    doc = nlp(text)\n",
        "    # vectorizing with SpaCy\n",
        "    vector = doc.vector\n",
        "\n",
        "    return vector"
      ]
    },
    {
      "cell_type": "markdown",
      "id": "43a41a78-283f-4c71-afc8-7a8bae791f78",
      "metadata": {
        "id": "43a41a78-283f-4c71-afc8-7a8bae791f78"
      },
      "source": [
        "## 5. Comparison of the Results of Word Embedding Methods"
      ]
    },
    {
      "cell_type": "markdown",
      "id": "iGyPyid1plIQ",
      "metadata": {
        "id": "iGyPyid1plIQ"
      },
      "source": [
        "The comparison is perfomed using two metrics:\n",
        "- **Cosine similarity:** Measures the similarity between two vectors. The result comes between -1 and 1. When it is -1, the vectors are opposed; when it is 1, the vectors are identical.\n",
        "- **Cosine distance:** Measures the dissimilarity between two vectors. It can calculated from the previous one (1 - Cosine similarity). for the present project, it is calculated with the complete formula for precision purposes.\n",
        "\n",
        "The results of the previous methods will be plot to get a visual representation and better understanding of the numerical results."
      ]
    },
    {
      "cell_type": "code",
      "execution_count": 13,
      "id": "7594cea2-7c86-426b-95ea-0c0b5cf2022c",
      "metadata": {
        "id": "7594cea2-7c86-426b-95ea-0c0b5cf2022c"
      },
      "outputs": [],
      "source": [
        "import numpy as np\n",
        "from numpy.linalg import norm\n",
        "from sklearn.metrics.pairwise import cosine_similarity, cosine_distances\n",
        "\n",
        "# Function to calculate the similarity and dissimilarity based on cosine of results\n",
        "def cos_sim_dis(par1, par2):\n",
        "    # Formating texts\n",
        "    par_lst1 = [par1]\n",
        "    par_lst2 = [par2]\n",
        "\n",
        "    # Vectorization section\n",
        "    # BERT\n",
        "    vec_brt_p1 = np.array(vectorize_bert(par1))\n",
        "    vec_brt_p2 = np.array(vectorize_bert(par2))\n",
        "    # TF-IDF\n",
        "    vec_tfi_p1 = np.array(vectorize_tfidf(par_lst1))\n",
        "    vec_tfi_p2 = np.array(vectorize_tfidf(par_lst2))\n",
        "    # SpaCy\n",
        "    vec_spc_p1 = np.array(vectorize_spacy(par1))\n",
        "    vec_spc_p2 = np.array(vectorize_spacy(par2))\n",
        "\n",
        "    # Calculating similarities and dissimilarities\n",
        "    # BERT\n",
        "    cos_dst_brt = cosine_distances(vec_brt_p1, vec_brt_p2)\n",
        "    cos_sim_brt = cosine_similarity(vec_brt_p1, vec_brt_p2)\n",
        "    # TF-IDF\n",
        "    cos_dst_tfi = np.dot(vec_tfi_p1.transpose(),vec_tfi_p2)/(norm(vec_tfi_p1.transpose())*norm(vec_tfi_p2))\n",
        "    cos_sim_tfi = cosine_similarity(vec_tfi_p1.transpose(), vec_tfi_p2.transpose())\n",
        "    # SpaCy\n",
        "    cos_dst_spc = np.dot(vec_spc_p1,vec_spc_p2)/(norm(vec_spc_p1)*norm(vec_spc_p2))\n",
        "    cos_sim_spc = cosine_similarity(vec_spc_p1.reshape(-1, 1), vec_spc_p2.reshape(-1, 1))\n",
        "\n",
        "    return cos_sim_brt, cos_dst_brt, cos_sim_tfi, cos_dst_tfi, cos_sim_spc, cos_dst_spc"
      ]
    },
    {
      "cell_type": "code",
      "execution_count": 14,
      "id": "VNkegG7Aht1v",
      "metadata": {
        "id": "VNkegG7Aht1v"
      },
      "outputs": [],
      "source": [
        "from sklearn.decomposition import PCA\n",
        "import matplotlib.pyplot as plt\n",
        "\n",
        "# Function to plot the vectors\n",
        "def plot_vectors(par1, par2, method, title, x_label, y_label):\n",
        "    # BERT\n",
        "    if method == 'BERT':\n",
        "      vec_p1 = np.array(vectorize_bert(par1))\n",
        "      vec_p2 = np.array(vectorize_bert(par2))\n",
        "      # Arranging the pairs to plot\n",
        "      vec_p1_t = vec_p1.T\n",
        "      vec_p2_t = vec_p2.T\n",
        "      # Generating pairs as (x, y)\n",
        "      vec_p1 = np.array([[i+1, value[0]] for i, value in enumerate(vec_p1_t)])\n",
        "      vec_p2 = np.array([[i+1, value[0]] for i, value in enumerate(vec_p2_t)])\n",
        "      label_p1 = 'BERT_pipeline1'\n",
        "      label_p2 = 'BERT_pipeline2'\n",
        "\n",
        "    # TF-IDF\n",
        "    if method == 'TF-IDF':\n",
        "      vec_p1 = np.array(vectorize_tfidf([par1]))\n",
        "      vec_p2 = np.array(vectorize_tfidf([par2]))\n",
        "      # Arranging the pairs to plot\n",
        "      vec_p1_t = vec_p1.T\n",
        "      vec_p2_t = vec_p2.T\n",
        "      # Generating pairs as (x, y)\n",
        "      vec_p1 = np.array([[i+1, value[0]] for i, value in enumerate(vec_p1_t)])\n",
        "      vec_p2 = np.array([[i+1, value[0]] for i, value in enumerate(vec_p2_t)])\n",
        "      label_p1 = 'TF-IDF_pipeline1'\n",
        "      label_p2 = 'TF-IDF_pipeline2'\n",
        "\n",
        "    # SpaCy\n",
        "    if method == 'SpaCy':\n",
        "      vec_p1 = np.array(vectorize_spacy(par1))\n",
        "      vec_p2 = np.array(vectorize_spacy(par2))\n",
        "      # Arranging the pairs to plot\n",
        "      vec_p1 = np.array([[i+1, value] for i, value in enumerate(vec_p1)])\n",
        "      vec_p2 = np.array([[i+1, value] for i, value in enumerate(vec_p2)])\n",
        "      label_p1 = 'SpaCy_pipeline1'\n",
        "      label_p2 = 'SpaCy_pipeline2'\n",
        "\n",
        "    # Plot the reduced embeddings\n",
        "    plt.scatter(vec_p1[:, 0], vec_p1[:, 1], color='blue', label=label_p1)\n",
        "    plt.scatter(vec_p2[:, 0], vec_p2[:, 1], color='red', label=label_p2)\n",
        "    plt.title(title, fontweight ='bold', fontsize = 15)\n",
        "    plt.xlabel(x_label, fontweight ='bold', fontsize = 15)\n",
        "    plt.ylabel(y_label, fontweight ='bold', fontsize = 15)\n",
        "    plt.legend()\n",
        "    plt.show()"
      ]
    },
    {
      "cell_type": "markdown",
      "id": "X0qXZW0acqEc",
      "metadata": {
        "id": "X0qXZW0acqEc"
      },
      "source": [
        "### 5.1 Pipeline1 vs Pipeline2 - BERT method results comparison"
      ]
    },
    {
      "cell_type": "markdown",
      "id": "gLNa4vB5POR9",
      "metadata": {
        "id": "gLNa4vB5POR9"
      },
      "source": [
        "For BERT method, the pipelines present a moderate similarity between them. Conceptually, BERT captures the context of a text bidirectionally. In addition, the cotextual representation of the approach, weights more this feature of the algorithm. In this case, the deep grain value of pipeline2 does not add significant information to change the context of both pipelines. Thus, BERT consider that both has similar context. The disimilarity value (cosine distance) support the conclusion."
      ]
    },
    {
      "cell_type": "code",
      "execution_count": 17,
      "id": "c19955e8-568d-4ac0-ae1c-aa6947ec1927",
      "metadata": {
        "colab": {
          "base_uri": "https://localhost:8080/",
          "height": 388,
          "referenced_widgets": [
            "b4a4a330fd3245f3b13bd82eb860e3af",
            "ada019ab02484dad9ae6e4f77e802ecd",
            "ad1e26ea229444f3bc2e6974a908628d",
            "531301075f6d4e52bfb3fe13bcf91756",
            "14f2cb7024d045908e88bd8890c1af19",
            "150f00eb463642f98b5aa67da71ca6ce",
            "a858e1a992b4449397d4b24ed27ea6ea",
            "9f4c7e1f7be84fb2b2ff7d4d471c7cc8",
            "e507fde45ec84f7eaa17dc0135ecbdee",
            "a47564a9460c424e9eee45d5a12b7aab",
            "afea6df425d4414296cd20639ba85186",
            "ca31a09896b54e51a48dbfa385cd39cb",
            "baff90c58196447cbc869c4c367be97e",
            "9176a0df7d9b47c488ffde1be7cb92e3",
            "47edda0ad0b641698cfdd816dbd9fd5b",
            "0f9cdae1c71348e5b416addc388e543b",
            "e0f44a160e614f0b98ee662a1ca6e050",
            "16fc724f8bd24190b2bda2d7e368f804",
            "698a25efa67d4c0eafc01f6b227def03",
            "d0e25dff1af84997b68ab1ca10044a56",
            "6868a07ad3fb489fb868d95e219c3cb4",
            "d382ab19fd314d3aaddacf29fd3b0b22",
            "c4cc552c84b64ac9b506b9b2ae6971c2",
            "6262218f169b4f8bbe764e37836b7e5d",
            "637f95ee988b40fa8027e5f2066ea6cd",
            "4dd344196d8c46ff8f791384c3e1cb80",
            "30890db4172440a8b3e9bf05d43caa36",
            "626541e7ff834411884e7ffe1a8730f6",
            "7a1135125d294c86be17e24c587c33ac",
            "1dfab4f8104848629d9772fb7719f368",
            "cbb8a6de714447d6b85edfd510ec999c",
            "c08c8c1e50de4fc2b91af7ce41cf59c1",
            "6f1545abc91640a5ad71025e30916756",
            "4a794395cd524e4986361cb22048df67",
            "91ddba0fcafb4779809165f1044deed0",
            "f64c5dc6655c4c0f8a25f8440ad7724c",
            "1eeb5b47865b47cebbca237acb8feb4f",
            "712969d39f1e4757a4d10bc5b64eed17",
            "f2ceb94813ca4495ac3c18ab841faf0f",
            "6b5e059ed1ac4d6597f74e3779c79e8d",
            "2689392552f74001b907f4b88444cae8",
            "6b24c3d42dde49ba894e83180604be12",
            "db7212c98f0846f7ad52633cb45fb4d6",
            "762a4d44e6684ed48a9ffe34dd417d36",
            "2edb8da07f4342a79c0eb8ce876e367f",
            "f2d0e714bd8c40d2ad7040bf50368e0a",
            "7a5f7f206c304f63ba0b31587e10b1f8",
            "84f44247a9064b64ad03d02ac1bd370d",
            "8709e9c457094bf591d55491fbae6b79",
            "1ca8563a0e4441a880b1156d981eeca2",
            "68ed7b9da2a540a1be1a8e12144ad27b",
            "668391f6093c4be881fefe3eeaee01da",
            "8646b36196454762a30f32680a91533d",
            "00bcc8513bac49a28f2059e62ac3eb6b",
            "c0e900ccf1a544f69e73933a951f5d45"
          ]
        },
        "id": "c19955e8-568d-4ac0-ae1c-aa6947ec1927",
        "outputId": "53deef38-f14c-43b1-e229-8329f41c0637"
      },
      "outputs": [
        {
          "name": "stderr",
          "output_type": "stream",
          "text": [
            "/usr/local/lib/python3.11/dist-packages/huggingface_hub/utils/_auth.py:94: UserWarning: \n",
            "The secret `HF_TOKEN` does not exist in your Colab secrets.\n",
            "To authenticate with the Hugging Face Hub, create a token in your settings tab (https://huggingface.co/settings/tokens), set it as secret in your Google Colab and restart your session.\n",
            "You will be able to reuse this secret in all of your notebooks.\n",
            "Please note that authentication is recommended but still optional to access public models or datasets.\n",
            "  warnings.warn(\n"
          ]
        },
        {
          "data": {
            "application/vnd.jupyter.widget-view+json": {
              "model_id": "b4a4a330fd3245f3b13bd82eb860e3af",
              "version_major": 2,
              "version_minor": 0
            },
            "text/plain": [
              "tokenizer_config.json:   0%|          | 0.00/48.0 [00:00<?, ?B/s]"
            ]
          },
          "metadata": {},
          "output_type": "display_data"
        },
        {
          "data": {
            "application/vnd.jupyter.widget-view+json": {
              "model_id": "ca31a09896b54e51a48dbfa385cd39cb",
              "version_major": 2,
              "version_minor": 0
            },
            "text/plain": [
              "vocab.txt:   0%|          | 0.00/232k [00:00<?, ?B/s]"
            ]
          },
          "metadata": {},
          "output_type": "display_data"
        },
        {
          "data": {
            "application/vnd.jupyter.widget-view+json": {
              "model_id": "c4cc552c84b64ac9b506b9b2ae6971c2",
              "version_major": 2,
              "version_minor": 0
            },
            "text/plain": [
              "tokenizer.json:   0%|          | 0.00/466k [00:00<?, ?B/s]"
            ]
          },
          "metadata": {},
          "output_type": "display_data"
        },
        {
          "data": {
            "application/vnd.jupyter.widget-view+json": {
              "model_id": "4a794395cd524e4986361cb22048df67",
              "version_major": 2,
              "version_minor": 0
            },
            "text/plain": [
              "config.json:   0%|          | 0.00/570 [00:00<?, ?B/s]"
            ]
          },
          "metadata": {},
          "output_type": "display_data"
        },
        {
          "data": {
            "application/vnd.jupyter.widget-view+json": {
              "model_id": "2edb8da07f4342a79c0eb8ce876e367f",
              "version_major": 2,
              "version_minor": 0
            },
            "text/plain": [
              "model.safetensors:   0%|          | 0.00/440M [00:00<?, ?B/s]"
            ]
          },
          "metadata": {},
          "output_type": "display_data"
        },
        {
          "name": "stdout",
          "output_type": "stream",
          "text": [
            "Bert pipeline1 vs pipeline2\n",
            "Cosine similarity for Vectorization with BERT:\n",
            "[[0.6761397]]\n",
            "Cosine distance for Vectorization with BERT:\n",
            "[[0.3238603]]\n"
          ]
        }
      ],
      "source": [
        "brt_cos_sim, brt_cos_dis, _, _, _, _ = cos_sim_dis(full_data_pip1[0][0], full_data_pip2[0][0])\n",
        "print(\"Bert pipeline1 vs pipeline2\")\n",
        "print(\"Cosine similarity for Vectorization with BERT:\")\n",
        "print(brt_cos_sim)\n",
        "print(\"Cosine distance for Vectorization with BERT:\")\n",
        "print(brt_cos_dis)"
      ]
    },
    {
      "cell_type": "markdown",
      "id": "Bcez2K8Br-e6",
      "metadata": {
        "id": "Bcez2K8Br-e6"
      },
      "source": [
        "The plot visually shows the consistent context in both pipelines. The main idea is there and is similar in both pipelines, but, the finest-grain addition in pipeline2 adds the difference between both vectors."
      ]
    },
    {
      "cell_type": "code",
      "execution_count": 18,
      "id": "o6u7Olx9lASO",
      "metadata": {
        "colab": {
          "base_uri": "https://localhost:8080/",
          "height": 481
        },
        "id": "o6u7Olx9lASO",
        "outputId": "52de8733-a216-4ec7-c5e6-f21b98fff3d6"
      },
      "outputs": [
        {
          "data": {
            "image/png": "[encoded data removed]",
            "text/plain": [
              "<Figure size 640x480 with 1 Axes>"
            ]
          },
          "metadata": {},
          "output_type": "display_data"
        }
      ],
      "source": [
        "plot_vectors(full_data_pip1[0][0], full_data_pip2[0][0], 'BERT', 'Bert pipeline1 vs pipeline2 vector comparison', 'data_x', 'data_y')"
      ]
    },
    {
      "cell_type": "markdown",
      "id": "r43e_mMBdQqu",
      "metadata": {
        "id": "r43e_mMBdQqu"
      },
      "source": [
        "### 5.2 Pipeline1 vs Pipeline2 - TF-IDF method results comparison"
      ]
    },
    {
      "cell_type": "markdown",
      "id": "VV3QtHvCsvkC",
      "metadata": {
        "id": "VV3QtHvCsvkC"
      },
      "source": [
        "For TF-IDF method, the proccess presents particular results. The vectors are almost equal according with similarity. The result is consistent with the dissimilarity values. TF-IDF reflect how important a word is to a document in a corpus. As conclusion, the fine-grained additions in pipeline2 does not affect the calculations in TF-IDF. The added value it is not numerically important for this method. \\\n",
        "TF-IDF results does not make so much difference in finest-grained methods. The probable reason is due to the nature of the method. To get better results is necessary to modify the pipelines in pro of the nature of the method."
      ]
    },
    {
      "cell_type": "code",
      "execution_count": 19,
      "id": "CqbvqvH_dmOG",
      "metadata": {
        "colab": {
          "base_uri": "https://localhost:8080/"
        },
        "id": "CqbvqvH_dmOG",
        "outputId": "135cad40-acf2-4b31-8629-2ca440467d33"
      },
      "outputs": [
        {
          "name": "stdout",
          "output_type": "stream",
          "text": [
            "TF-IDF pipeline1 vs pipeline2\n",
            "Cosine similarity for Vectorization with TF-IDF:\n",
            "[[1. 1. 1. ... 1. 1. 1.]\n",
            " [1. 1. 1. ... 1. 1. 1.]\n",
            " [1. 1. 1. ... 1. 1. 1.]\n",
            " ...\n",
            " [1. 1. 1. ... 1. 1. 1.]\n",
            " [1. 1. 1. ... 1. 1. 1.]\n",
            " [1. 1. 1. ... 1. 1. 1.]]\n",
            "Cosine distance for Vectorization with TF-IDF:\n",
            "[[0.00556559 0.0027828  0.00556559 ... 0.01391398 0.0027828  0.0027828 ]\n",
            " [0.02226237 0.01113118 0.02226237 ... 0.05565592 0.01113118 0.01113118]\n",
            " [0.03339355 0.01669678 0.03339355 ... 0.08348388 0.01669678 0.01669678]\n",
            " ...\n",
            " [0.02782796 0.01391398 0.02782796 ... 0.0695699  0.01391398 0.01391398]\n",
            " [0.00556559 0.0027828  0.00556559 ... 0.01391398 0.0027828  0.0027828 ]\n",
            " [0.00556559 0.0027828  0.00556559 ... 0.01391398 0.0027828  0.0027828 ]]\n"
          ]
        }
      ],
      "source": [
        "_, _, tfi_cos_sim, tfi_cos_dis, _, _ = cos_sim_dis(full_data_pip1[0][0], full_data_pip2[0][0])\n",
        "\n",
        "print(\"TF-IDF pipeline1 vs pipeline2\")\n",
        "print(\"Cosine similarity for Vectorization with TF-IDF:\")\n",
        "print(tfi_cos_sim)\n",
        "print(\"Cosine distance for Vectorization with TF-IDF:\")\n",
        "print(tfi_cos_dis)"
      ]
    },
    {
      "cell_type": "markdown",
      "id": "r-pK0_O6uR9E",
      "metadata": {
        "id": "r-pK0_O6uR9E"
      },
      "source": [
        "The plot evidence the results of the previous calculations. Considering thet the values are below 0.5 in y-axis and most of the values fall below 0.2, the plot confirms the similarity and dissimilarity values."
      ]
    },
    {
      "cell_type": "code",
      "execution_count": 20,
      "id": "NrhqMEQGm6iE",
      "metadata": {
        "colab": {
          "base_uri": "https://localhost:8080/",
          "height": 481
        },
        "id": "NrhqMEQGm6iE",
        "outputId": "0c69238f-4cc8-429c-b5d0-ec6650cd34a8"
      },
      "outputs": [
        {
          "data": {
            "image/png": "[encoded data removed]",
            "text/plain": [
              "<Figure size 640x480 with 1 Axes>"
            ]
          },
          "metadata": {},
          "output_type": "display_data"
        }
      ],
      "source": [
        "plot_vectors(full_data_pip1[0][0], full_data_pip2[0][0], 'TF-IDF', 'TF-IDF pipeline1 vs pipeline2 vector comparison', 'data_x', 'data_y')"
      ]
    },
    {
      "cell_type": "markdown",
      "id": "dqYuV07fdV53",
      "metadata": {
        "id": "dqYuV07fdV53"
      },
      "source": [
        "### 5.3 Pipeline1 vs Pipeline2 - SpaCy method results comparison"
      ]
    },
    {
      "cell_type": "markdown",
      "id": "z2_98_JZvysX",
      "metadata": {
        "id": "z2_98_JZvysX"
      },
      "source": [
        "For SpaCy method, the results are mixed between exact similarity and dissimilarity. This vector represents the semantic meaning of the text. This meaning is holistic, calculated by the average of the vectors. As conclusion, the pipeline2 with the fine grained approch added the dissimilarity over the extra considerations such as punctuation and stop words. However, on it base process, the numerical results are still the same. In addition, the dissimilarity calculation is a better measure to consider in this step due to its precision. \\\n",
        "SpaCy gives valuable dissimilarity results. The finest-grain process does not add relevant data to the vector. Overall, for this process, the pipeline2 is not quite different of pipeline1."
      ]
    },
    {
      "cell_type": "code",
      "execution_count": 21,
      "id": "u9QBifzadstA",
      "metadata": {
        "colab": {
          "base_uri": "https://localhost:8080/"
        },
        "id": "u9QBifzadstA",
        "outputId": "b694e87e-4c5b-45b6-9014-773b47bdbe11"
      },
      "outputs": [
        {
          "name": "stdout",
          "output_type": "stream",
          "text": [
            "SpaCy pipeline1 vs pipeline2\n",
            "Cosine similarity for Vectorization with SpaCy:\n",
            "[[ 1.  1.  1. ...  1.  1. -1.]\n",
            " [-1. -1. -1. ... -1. -1.  1.]\n",
            " [ 1.  1.  1. ...  1.  1. -1.]\n",
            " ...\n",
            " [ 1.  1.  1. ...  1.  1. -1.]\n",
            " [ 1.  1.  1. ...  1.  1. -1.]\n",
            " [-1. -1. -1. ... -1. -1.  1.]]\n",
            "Cosine distance for Vectorization with SpaCy:\n",
            "0.8465597\n"
          ]
        }
      ],
      "source": [
        "_, _, _, _, spc_cos_sim, spc_cos_dis = cos_sim_dis(full_data_pip1[0][0], full_data_pip2[0][0])\n",
        "\n",
        "print(\"SpaCy pipeline1 vs pipeline2\")\n",
        "print(\"Cosine similarity for Vectorization with SpaCy:\")\n",
        "print(spc_cos_sim)\n",
        "print(\"Cosine distance for Vectorization with SpaCy:\")\n",
        "print(spc_cos_dis)"
      ]
    },
    {
      "cell_type": "markdown",
      "id": "A2UTMg1azRoq",
      "metadata": {
        "id": "A2UTMg1azRoq"
      },
      "source": [
        "The plot shows the overlap, proximity, and opposite direction of the points between the data two vectors. The dissimilarity value is consistent with the plot."
      ]
    },
    {
      "cell_type": "code",
      "execution_count": 22,
      "id": "ar3zfLjxouqa",
      "metadata": {
        "colab": {
          "base_uri": "https://localhost:8080/",
          "height": 481
        },
        "id": "ar3zfLjxouqa",
        "outputId": "b81df35c-4836-4505-86c9-db91b485ada7"
      },
      "outputs": [
        {
          "data": {
            "image/png": "[encoded data removed]",
            "text/plain": [
              "<Figure size 640x480 with 1 Axes>"
            ]
          },
          "metadata": {},
          "output_type": "display_data"
        }
      ],
      "source": [
        "plot_vectors(full_data_pip1[0][0], full_data_pip2[0][0], 'SpaCy', 'SpaCy pipeline1 vs pipeline2 vector comparison', 'data_x', 'data_y')"
      ]
    },
    {
      "cell_type": "markdown",
      "id": "vpbEQPpk-BaC",
      "metadata": {
        "id": "vpbEQPpk-BaC"
      },
      "source": [
        "## Conclusions"
      ]
    },
    {
      "cell_type": "markdown",
      "id": "Yfk7mIdG-H-c",
      "metadata": {
        "id": "Yfk7mIdG-H-c"
      },
      "source": [
        "The present projects defined two pipelines. Both are fine-grained, but the second includes punctuation, stop words, and numbers. Overall, the three-word embedding techniques used evidenced that the three pairs of vectors generated for the pipelines are moderately similar. Adding the three mentioned text elements to a pipeline does not add a high numerical difference between the resulting vectors. \\\n",
        "It is crucial to point that both pipelines were applied to the same paragraph. BERT, being a more contextual focused algorithm, presented less similar values. The elements included add enough context to differentiate them. TF-IDF works with relevance of words in context. The elements added are not that important so the results are almost equal. SpaCy has a more semantic approach. The added elements do not add more meaning to the sentence, thus have high similarity."
      ]
    }
  ],
  "metadata": {
    "colab": {
      "provenance": []
    },
    "kernelspec": {
      "display_name": "Python 3 (ipykernel)",
      "language": "python",
      "name": "python3"
    },
    "language_info": {
      "codemirror_mode": {
        "name": "ipython",
        "version": 3
      },
      "file_extension": ".py",
      "mimetype": "text/x-python",
      "name": "python",
      "nbconvert_exporter": "python",
      "pygments_lexer": "ipython3",
      "version": "3.12.8"
    },
    "widgets": {
      "application/vnd.jupyter.widget-state+json": {
        "00bcc8513bac49a28f2059e62ac3eb6b": {
          "model_module": "@jupyter-widgets/base",
          "model_module_version": "1.2.0",
          "model_name": "LayoutModel",
          "state": {
            "_model_module": "@jupyter-widgets/base",
            "_model_module_version": "1.2.0",
            "_model_name": "LayoutModel",
            "_view_count": null,
            "_view_module": "@jupyter-widgets/base",
            "_view_module_version": "1.2.0",
            "_view_name": "LayoutView",
            "align_content": null,
            "align_items": null,
            "align_self": null,
            "border": null,
            "bottom": null,
            "display": null,
            "flex": null,
            "flex_flow": null,
            "grid_area": null,
            "grid_auto_columns": null,
            "grid_auto_flow": null,
            "grid_auto_rows": null,
            "grid_column": null,
            "grid_gap": null,
            "grid_row": null,
            "grid_template_areas": null,
            "grid_template_columns": null,
            "grid_template_rows": null,
            "height": null,
            "justify_content": null,
            "justify_items": null,
            "left": null,
            "margin": null,
            "max_height": null,
            "max_width": null,
            "min_height": null,
            "min_width": null,
            "object_fit": null,
            "object_position": null,
            "order": null,
            "overflow": null,
            "overflow_x": null,
            "overflow_y": null,
            "padding": null,
            "right": null,
            "top": null,
            "visibility": null,
            "width": null
          }
        },
        "0f9cdae1c71348e5b416addc388e543b": {
          "model_module": "@jupyter-widgets/base",
          "model_module_version": "1.2.0",
          "model_name": "LayoutModel",
          "state": {
            "_model_module": "@jupyter-widgets/base",
            "_model_module_version": "1.2.0",
            "_model_name": "LayoutModel",
            "_view_count": null,
            "_view_module": "@jupyter-widgets/base",
            "_view_module_version": "1.2.0",
            "_view_name": "LayoutView",
            "align_content": null,
            "align_items": null,
            "align_self": null,
            "border": null,
            "bottom": null,
            "display": null,
            "flex": null,
            "flex_flow": null,
            "grid_area": null,
            "grid_auto_columns": null,
            "grid_auto_flow": null,
            "grid_auto_rows": null,
            "grid_column": null,
            "grid_gap": null,
            "grid_row": null,
            "grid_template_areas": null,
            "grid_template_columns": null,
            "grid_template_rows": null,
            "height": null,
            "justify_content": null,
            "justify_items": null,
            "left": null,
            "margin": null,
            "max_height": null,
            "max_width": null,
            "min_height": null,
            "min_width": null,
            "object_fit": null,
            "object_position": null,
            "order": null,
            "overflow": null,
            "overflow_x": null,
            "overflow_y": null,
            "padding": null,
            "right": null,
            "top": null,
            "visibility": null,
            "width": null
          }
        },
        "14f2cb7024d045908e88bd8890c1af19": {
          "model_module": "@jupyter-widgets/base",
          "model_module_version": "1.2.0",
          "model_name": "LayoutModel",
          "state": {
            "_model_module": "@jupyter-widgets/base",
            "_model_module_version": "1.2.0",
            "_model_name": "LayoutModel",
            "_view_count": null,
            "_view_module": "@jupyter-widgets/base",
            "_view_module_version": "1.2.0",
            "_view_name": "LayoutView",
            "align_content": null,
            "align_items": null,
            "align_self": null,
            "border": null,
            "bottom": null,
            "display": null,
            "flex": null,
            "flex_flow": null,
            "grid_area": null,
            "grid_auto_columns": null,
            "grid_auto_flow": null,
            "grid_auto_rows": null,
            "grid_column": null,
            "grid_gap": null,
            "grid_row": null,
            "grid_template_areas": null,
            "grid_template_columns": null,
            "grid_template_rows": null,
            "height": null,
            "justify_content": null,
            "justify_items": null,
            "left": null,
            "margin": null,
            "max_height": null,
            "max_width": null,
            "min_height": null,
            "min_width": null,
            "object_fit": null,
            "object_position": null,
            "order": null,
            "overflow": null,
            "overflow_x": null,
            "overflow_y": null,
            "padding": null,
            "right": null,
            "top": null,
            "visibility": null,
            "width": null
          }
        },
        "150f00eb463642f98b5aa67da71ca6ce": {
          "model_module": "@jupyter-widgets/base",
          "model_module_version": "1.2.0",
          "model_name": "LayoutModel",
          "state": {
            "_model_module": "@jupyter-widgets/base",
            "_model_module_version": "1.2.0",
            "_model_name": "LayoutModel",
            "_view_count": null,
            "_view_module": "@jupyter-widgets/base",
            "_view_module_version": "1.2.0",
            "_view_name": "LayoutView",
            "align_content": null,
            "align_items": null,
            "align_self": null,
            "border": null,
            "bottom": null,
            "display": null,
            "flex": null,
            "flex_flow": null,
            "grid_area": null,
            "grid_auto_columns": null,
            "grid_auto_flow": null,
            "grid_auto_rows": null,
            "grid_column": null,
            "grid_gap": null,
            "grid_row": null,
            "grid_template_areas": null,
            "grid_template_columns": null,
            "grid_template_rows": null,
            "height": null,
            "justify_content": null,
            "justify_items": null,
            "left": null,
            "margin": null,
            "max_height": null,
            "max_width": null,
            "min_height": null,
            "min_width": null,
            "object_fit": null,
            "object_position": null,
            "order": null,
            "overflow": null,
            "overflow_x": null,
            "overflow_y": null,
            "padding": null,
            "right": null,
            "top": null,
            "visibility": null,
            "width": null
          }
        },
        "16fc724f8bd24190b2bda2d7e368f804": {
          "model_module": "@jupyter-widgets/controls",
          "model_module_version": "1.5.0",
          "model_name": "DescriptionStyleModel",
          "state": {
            "_model_module": "@jupyter-widgets/controls",
            "_model_module_version": "1.5.0",
            "_model_name": "DescriptionStyleModel",
            "_view_count": null,
            "_view_module": "@jupyter-widgets/base",
            "_view_module_version": "1.2.0",
            "_view_name": "StyleView",
            "description_width": ""
          }
        },
        "1ca8563a0e4441a880b1156d981eeca2": {
          "model_module": "@jupyter-widgets/base",
          "model_module_version": "1.2.0",
          "model_name": "LayoutModel",
          "state": {
            "_model_module": "@jupyter-widgets/base",
            "_model_module_version": "1.2.0",
            "_model_name": "LayoutModel",
            "_view_count": null,
            "_view_module": "@jupyter-widgets/base",
            "_view_module_version": "1.2.0",
            "_view_name": "LayoutView",
            "align_content": null,
            "align_items": null,
            "align_self": null,
            "border": null,
            "bottom": null,
            "display": null,
            "flex": null,
            "flex_flow": null,
            "grid_area": null,
            "grid_auto_columns": null,
            "grid_auto_flow": null,
            "grid_auto_rows": null,
            "grid_column": null,
            "grid_gap": null,
            "grid_row": null,
            "grid_template_areas": null,
            "grid_template_columns": null,
            "grid_template_rows": null,
            "height": null,
            "justify_content": null,
            "justify_items": null,
            "left": null,
            "margin": null,
            "max_height": null,
            "max_width": null,
            "min_height": null,
            "min_width": null,
            "object_fit": null,
            "object_position": null,
            "order": null,
            "overflow": null,
            "overflow_x": null,
            "overflow_y": null,
            "padding": null,
            "right": null,
            "top": null,
            "visibility": null,
            "width": null
          }
        },
        "1dfab4f8104848629d9772fb7719f368": {
          "model_module": "@jupyter-widgets/base",
          "model_module_version": "1.2.0",
          "model_name": "LayoutModel",
          "state": {
            "_model_module": "@jupyter-widgets/base",
            "_model_module_version": "1.2.0",
            "_model_name": "LayoutModel",
            "_view_count": null,
            "_view_module": "@jupyter-widgets/base",
            "_view_module_version": "1.2.0",
            "_view_name": "LayoutView",
            "align_content": null,
            "align_items": null,
            "align_self": null,
            "border": null,
            "bottom": null,
            "display": null,
            "flex": null,
            "flex_flow": null,
            "grid_area": null,
            "grid_auto_columns": null,
            "grid_auto_flow": null,
            "grid_auto_rows": null,
            "grid_column": null,
            "grid_gap": null,
            "grid_row": null,
            "grid_template_areas": null,
            "grid_template_columns": null,
            "grid_template_rows": null,
            "height": null,
            "justify_content": null,
            "justify_items": null,
            "left": null,
            "margin": null,
            "max_height": null,
            "max_width": null,
            "min_height": null,
            "min_width": null,
            "object_fit": null,
            "object_position": null,
            "order": null,
            "overflow": null,
            "overflow_x": null,
            "overflow_y": null,
            "padding": null,
            "right": null,
            "top": null,
            "visibility": null,
            "width": null
          }
        },
        "1eeb5b47865b47cebbca237acb8feb4f": {
          "model_module": "@jupyter-widgets/controls",
          "model_module_version": "1.5.0",
          "model_name": "HTMLModel",
          "state": {
            "_dom_classes": [],
            "_model_module": "@jupyter-widgets/controls",
            "_model_module_version": "1.5.0",
            "_model_name": "HTMLModel",
            "_view_count": null,
            "_view_module": "@jupyter-widgets/controls",
            "_view_module_version": "1.5.0",
            "_view_name": "HTMLView",
            "description": "",
            "description_tooltip": null,
            "layout": "IPY_MODEL_db7212c98f0846f7ad52633cb45fb4d6",
            "placeholder": "​",
            "style": "IPY_MODEL_762a4d44e6684ed48a9ffe34dd417d36",
            "value": " 570/570 [00:00&lt;00:00, 67.3kB/s]"
          }
        },
        "2689392552f74001b907f4b88444cae8": {
          "model_module": "@jupyter-widgets/base",
          "model_module_version": "1.2.0",
          "model_name": "LayoutModel",
          "state": {
            "_model_module": "@jupyter-widgets/base",
            "_model_module_version": "1.2.0",
            "_model_name": "LayoutModel",
            "_view_count": null,
            "_view_module": "@jupyter-widgets/base",
            "_view_module_version": "1.2.0",
            "_view_name": "LayoutView",
            "align_content": null,
            "align_items": null,
            "align_self": null,
            "border": null,
            "bottom": null,
            "display": null,
            "flex": null,
            "flex_flow": null,
            "grid_area": null,
            "grid_auto_columns": null,
            "grid_auto_flow": null,
            "grid_auto_rows": null,
            "grid_column": null,
            "grid_gap": null,
            "grid_row": null,
            "grid_template_areas": null,
            "grid_template_columns": null,
            "grid_template_rows": null,
            "height": null,
            "justify_content": null,
            "justify_items": null,
            "left": null,
            "margin": null,
            "max_height": null,
            "max_width": null,
            "min_height": null,
            "min_width": null,
            "object_fit": null,
            "object_position": null,
            "order": null,
            "overflow": null,
            "overflow_x": null,
            "overflow_y": null,
            "padding": null,
            "right": null,
            "top": null,
            "visibility": null,
            "width": null
          }
        },
        "2edb8da07f4342a79c0eb8ce876e367f": {
          "model_module": "@jupyter-widgets/controls",
          "model_module_version": "1.5.0",
          "model_name": "HBoxModel",
          "state": {
            "_dom_classes": [],
            "_model_module": "@jupyter-widgets/controls",
            "_model_module_version": "1.5.0",
            "_model_name": "HBoxModel",
            "_view_count": null,
            "_view_module": "@jupyter-widgets/controls",
            "_view_module_version": "1.5.0",
            "_view_name": "HBoxView",
            "box_style": "",
            "children": [
              "IPY_MODEL_f2d0e714bd8c40d2ad7040bf50368e0a",
              "IPY_MODEL_7a5f7f206c304f63ba0b31587e10b1f8",
              "IPY_MODEL_84f44247a9064b64ad03d02ac1bd370d"
            ],
            "layout": "IPY_MODEL_8709e9c457094bf591d55491fbae6b79"
          }
        },
        "30890db4172440a8b3e9bf05d43caa36": {
          "model_module": "@jupyter-widgets/base",
          "model_module_version": "1.2.0",
          "model_name": "LayoutModel",
          "state": {
            "_model_module": "@jupyter-widgets/base",
            "_model_module_version": "1.2.0",
            "_model_name": "LayoutModel",
            "_view_count": null,
            "_view_module": "@jupyter-widgets/base",
            "_view_module_version": "1.2.0",
            "_view_name": "LayoutView",
            "align_content": null,
            "align_items": null,
            "align_self": null,
            "border": null,
            "bottom": null,
            "display": null,
            "flex": null,
            "flex_flow": null,
            "grid_area": null,
            "grid_auto_columns": null,
            "grid_auto_flow": null,
            "grid_auto_rows": null,
            "grid_column": null,
            "grid_gap": null,
            "grid_row": null,
            "grid_template_areas": null,
            "grid_template_columns": null,
            "grid_template_rows": null,
            "height": null,
            "justify_content": null,
            "justify_items": null,
            "left": null,
            "margin": null,
            "max_height": null,
            "max_width": null,
            "min_height": null,
            "min_width": null,
            "object_fit": null,
            "object_position": null,
            "order": null,
            "overflow": null,
            "overflow_x": null,
            "overflow_y": null,
            "padding": null,
            "right": null,
            "top": null,
            "visibility": null,
            "width": null
          }
        },
        "47edda0ad0b641698cfdd816dbd9fd5b": {
          "model_module": "@jupyter-widgets/controls",
          "model_module_version": "1.5.0",
          "model_name": "HTMLModel",
          "state": {
            "_dom_classes": [],
            "_model_module": "@jupyter-widgets/controls",
            "_model_module_version": "1.5.0",
            "_model_name": "HTMLModel",
            "_view_count": null,
            "_view_module": "@jupyter-widgets/controls",
            "_view_module_version": "1.5.0",
            "_view_name": "HTMLView",
            "description": "",
            "description_tooltip": null,
            "layout": "IPY_MODEL_6868a07ad3fb489fb868d95e219c3cb4",
            "placeholder": "​",
            "style": "IPY_MODEL_d382ab19fd314d3aaddacf29fd3b0b22",
            "value": " 232k/232k [00:00&lt;00:00, 2.37MB/s]"
          }
        },
        "4a794395cd524e4986361cb22048df67": {
          "model_module": "@jupyter-widgets/controls",
          "model_module_version": "1.5.0",
          "model_name": "HBoxModel",
          "state": {
            "_dom_classes": [],
            "_model_module": "@jupyter-widgets/controls",
            "_model_module_version": "1.5.0",
            "_model_name": "HBoxModel",
            "_view_count": null,
            "_view_module": "@jupyter-widgets/controls",
            "_view_module_version": "1.5.0",
            "_view_name": "HBoxView",
            "box_style": "",
            "children": [
              "IPY_MODEL_91ddba0fcafb4779809165f1044deed0",
              "IPY_MODEL_f64c5dc6655c4c0f8a25f8440ad7724c",
              "IPY_MODEL_1eeb5b47865b47cebbca237acb8feb4f"
            ],
            "layout": "IPY_MODEL_712969d39f1e4757a4d10bc5b64eed17"
          }
        },
        "4dd344196d8c46ff8f791384c3e1cb80": {
          "model_module": "@jupyter-widgets/controls",
          "model_module_version": "1.5.0",
          "model_name": "HTMLModel",
          "state": {
            "_dom_classes": [],
            "_model_module": "@jupyter-widgets/controls",
            "_model_module_version": "1.5.0",
            "_model_name": "HTMLModel",
            "_view_count": null,
            "_view_module": "@jupyter-widgets/controls",
            "_view_module_version": "1.5.0",
            "_view_name": "HTMLView",
            "description": "",
            "description_tooltip": null,
            "layout": "IPY_MODEL_c08c8c1e50de4fc2b91af7ce41cf59c1",
            "placeholder": "​",
            "style": "IPY_MODEL_6f1545abc91640a5ad71025e30916756",
            "value": " 466k/466k [00:00&lt;00:00, 9.63MB/s]"
          }
        },
        "531301075f6d4e52bfb3fe13bcf91756": {
          "model_module": "@jupyter-widgets/controls",
          "model_module_version": "1.5.0",
          "model_name": "HTMLModel",
          "state": {
            "_dom_classes": [],
            "_model_module": "@jupyter-widgets/controls",
            "_model_module_version": "1.5.0",
            "_model_name": "HTMLModel",
            "_view_count": null,
            "_view_module": "@jupyter-widgets/controls",
            "_view_module_version": "1.5.0",
            "_view_name": "HTMLView",
            "description": "",
            "description_tooltip": null,
            "layout": "IPY_MODEL_a47564a9460c424e9eee45d5a12b7aab",
            "placeholder": "​",
            "style": "IPY_MODEL_afea6df425d4414296cd20639ba85186",
            "value": " 48.0/48.0 [00:00&lt;00:00, 3.41kB/s]"
          }
        },
        "6262218f169b4f8bbe764e37836b7e5d": {
          "model_module": "@jupyter-widgets/controls",
          "model_module_version": "1.5.0",
          "model_name": "HTMLModel",
          "state": {
            "_dom_classes": [],
            "_model_module": "@jupyter-widgets/controls",
            "_model_module_version": "1.5.0",
            "_model_name": "HTMLModel",
            "_view_count": null,
            "_view_module": "@jupyter-widgets/controls",
            "_view_module_version": "1.5.0",
            "_view_name": "HTMLView",
            "description": "",
            "description_tooltip": null,
            "layout": "IPY_MODEL_626541e7ff834411884e7ffe1a8730f6",
            "placeholder": "​",
            "style": "IPY_MODEL_7a1135125d294c86be17e24c587c33ac",
            "value": "tokenizer.json: 100%"
          }
        },
        "626541e7ff834411884e7ffe1a8730f6": {
          "model_module": "@jupyter-widgets/base",
          "model_module_version": "1.2.0",
          "model_name": "LayoutModel",
          "state": {
            "_model_module": "@jupyter-widgets/base",
            "_model_module_version": "1.2.0",
            "_model_name": "LayoutModel",
            "_view_count": null,
            "_view_module": "@jupyter-widgets/base",
            "_view_module_version": "1.2.0",
            "_view_name": "LayoutView",
            "align_content": null,
            "align_items": null,
            "align_self": null,
            "border": null,
            "bottom": null,
            "display": null,
            "flex": null,
            "flex_flow": null,
            "grid_area": null,
            "grid_auto_columns": null,
            "grid_auto_flow": null,
            "grid_auto_rows": null,
            "grid_column": null,
            "grid_gap": null,
            "grid_row": null,
            "grid_template_areas": null,
            "grid_template_columns": null,
            "grid_template_rows": null,
            "height": null,
            "justify_content": null,
            "justify_items": null,
            "left": null,
            "margin": null,
            "max_height": null,
            "max_width": null,
            "min_height": null,
            "min_width": null,
            "object_fit": null,
            "object_position": null,
            "order": null,
            "overflow": null,
            "overflow_x": null,
            "overflow_y": null,
            "padding": null,
            "right": null,
            "top": null,
            "visibility": null,
            "width": null
          }
        },
        "637f95ee988b40fa8027e5f2066ea6cd": {
          "model_module": "@jupyter-widgets/controls",
          "model_module_version": "1.5.0",
          "model_name": "FloatProgressModel",
          "state": {
            "_dom_classes": [],
            "_model_module": "@jupyter-widgets/controls",
            "_model_module_version": "1.5.0",
            "_model_name": "FloatProgressModel",
            "_view_count": null,
            "_view_module": "@jupyter-widgets/controls",
            "_view_module_version": "1.5.0",
            "_view_name": "ProgressView",
            "bar_style": "success",
            "description": "",
            "description_tooltip": null,
            "layout": "IPY_MODEL_1dfab4f8104848629d9772fb7719f368",
            "max": 466062,
            "min": 0,
            "orientation": "horizontal",
            "style": "IPY_MODEL_cbb8a6de714447d6b85edfd510ec999c",
            "value": 466062
          }
        },
        "668391f6093c4be881fefe3eeaee01da": {
          "model_module": "@jupyter-widgets/base",
          "model_module_version": "1.2.0",
          "model_name": "LayoutModel",
          "state": {
            "_model_module": "@jupyter-widgets/base",
            "_model_module_version": "1.2.0",
            "_model_name": "LayoutModel",
            "_view_count": null,
            "_view_module": "@jupyter-widgets/base",
            "_view_module_version": "1.2.0",
            "_view_name": "LayoutView",
            "align_content": null,
            "align_items": null,
            "align_self": null,
            "border": null,
            "bottom": null,
            "display": null,
            "flex": null,
            "flex_flow": null,
            "grid_area": null,
            "grid_auto_columns": null,
            "grid_auto_flow": null,
            "grid_auto_rows": null,
            "grid_column": null,
            "grid_gap": null,
            "grid_row": null,
            "grid_template_areas": null,
            "grid_template_columns": null,
            "grid_template_rows": null,
            "height": null,
            "justify_content": null,
            "justify_items": null,
            "left": null,
            "margin": null,
            "max_height": null,
            "max_width": null,
            "min_height": null,
            "min_width": null,
            "object_fit": null,
            "object_position": null,
            "order": null,
            "overflow": null,
            "overflow_x": null,
            "overflow_y": null,
            "padding": null,
            "right": null,
            "top": null,
            "visibility": null,
            "width": null
          }
        },
        "6868a07ad3fb489fb868d95e219c3cb4": {
          "model_module": "@jupyter-widgets/base",
          "model_module_version": "1.2.0",
          "model_name": "LayoutModel",
          "state": {
            "_model_module": "@jupyter-widgets/base",
            "_model_module_version": "1.2.0",
            "_model_name": "LayoutModel",
            "_view_count": null,
            "_view_module": "@jupyter-widgets/base",
            "_view_module_version": "1.2.0",
            "_view_name": "LayoutView",
            "align_content": null,
            "align_items": null,
            "align_self": null,
            "border": null,
            "bottom": null,
            "display": null,
            "flex": null,
            "flex_flow": null,
            "grid_area": null,
            "grid_auto_columns": null,
            "grid_auto_flow": null,
            "grid_auto_rows": null,
            "grid_column": null,
            "grid_gap": null,
            "grid_row": null,
            "grid_template_areas": null,
            "grid_template_columns": null,
            "grid_template_rows": null,
            "height": null,
            "justify_content": null,
            "justify_items": null,
            "left": null,
            "margin": null,
            "max_height": null,
            "max_width": null,
            "min_height": null,
            "min_width": null,
            "object_fit": null,
            "object_position": null,
            "order": null,
            "overflow": null,
            "overflow_x": null,
            "overflow_y": null,
            "padding": null,
            "right": null,
            "top": null,
            "visibility": null,
            "width": null
          }
        },
        "68ed7b9da2a540a1be1a8e12144ad27b": {
          "model_module": "@jupyter-widgets/controls",
          "model_module_version": "1.5.0",
          "model_name": "DescriptionStyleModel",
          "state": {
            "_model_module": "@jupyter-widgets/controls",
            "_model_module_version": "1.5.0",
            "_model_name": "DescriptionStyleModel",
            "_view_count": null,
            "_view_module": "@jupyter-widgets/base",
            "_view_module_version": "1.2.0",
            "_view_name": "StyleView",
            "description_width": ""
          }
        },
        "698a25efa67d4c0eafc01f6b227def03": {
          "model_module": "@jupyter-widgets/base",
          "model_module_version": "1.2.0",
          "model_name": "LayoutModel",
          "state": {
            "_model_module": "@jupyter-widgets/base",
            "_model_module_version": "1.2.0",
            "_model_name": "LayoutModel",
            "_view_count": null,
            "_view_module": "@jupyter-widgets/base",
            "_view_module_version": "1.2.0",
            "_view_name": "LayoutView",
            "align_content": null,
            "align_items": null,
            "align_self": null,
            "border": null,
            "bottom": null,
            "display": null,
            "flex": null,
            "flex_flow": null,
            "grid_area": null,
            "grid_auto_columns": null,
            "grid_auto_flow": null,
            "grid_auto_rows": null,
            "grid_column": null,
            "grid_gap": null,
            "grid_row": null,
            "grid_template_areas": null,
            "grid_template_columns": null,
            "grid_template_rows": null,
            "height": null,
            "justify_content": null,
            "justify_items": null,
            "left": null,
            "margin": null,
            "max_height": null,
            "max_width": null,
            "min_height": null,
            "min_width": null,
            "object_fit": null,
            "object_position": null,
            "order": null,
            "overflow": null,
            "overflow_x": null,
            "overflow_y": null,
            "padding": null,
            "right": null,
            "top": null,
            "visibility": null,
            "width": null
          }
        },
        "6b24c3d42dde49ba894e83180604be12": {
          "model_module": "@jupyter-widgets/controls",
          "model_module_version": "1.5.0",
          "model_name": "ProgressStyleModel",
          "state": {
            "_model_module": "@jupyter-widgets/controls",
            "_model_module_version": "1.5.0",
            "_model_name": "ProgressStyleModel",
            "_view_count": null,
            "_view_module": "@jupyter-widgets/base",
            "_view_module_version": "1.2.0",
            "_view_name": "StyleView",
            "bar_color": null,
            "description_width": ""
          }
        },
        "6b5e059ed1ac4d6597f74e3779c79e8d": {
          "model_module": "@jupyter-widgets/controls",
          "model_module_version": "1.5.0",
          "model_name": "DescriptionStyleModel",
          "state": {
            "_model_module": "@jupyter-widgets/controls",
            "_model_module_version": "1.5.0",
            "_model_name": "DescriptionStyleModel",
            "_view_count": null,
            "_view_module": "@jupyter-widgets/base",
            "_view_module_version": "1.2.0",
            "_view_name": "StyleView",
            "description_width": ""
          }
        },
        "6f1545abc91640a5ad71025e30916756": {
          "model_module": "@jupyter-widgets/controls",
          "model_module_version": "1.5.0",
          "model_name": "DescriptionStyleModel",
          "state": {
            "_model_module": "@jupyter-widgets/controls",
            "_model_module_version": "1.5.0",
            "_model_name": "DescriptionStyleModel",
            "_view_count": null,
            "_view_module": "@jupyter-widgets/base",
            "_view_module_version": "1.2.0",
            "_view_name": "StyleView",
            "description_width": ""
          }
        },
        "712969d39f1e4757a4d10bc5b64eed17": {
          "model_module": "@jupyter-widgets/base",
          "model_module_version": "1.2.0",
          "model_name": "LayoutModel",
          "state": {
            "_model_module": "@jupyter-widgets/base",
            "_model_module_version": "1.2.0",
            "_model_name": "LayoutModel",
            "_view_count": null,
            "_view_module": "@jupyter-widgets/base",
            "_view_module_version": "1.2.0",
            "_view_name": "LayoutView",
            "align_content": null,
            "align_items": null,
            "align_self": null,
            "border": null,
            "bottom": null,
            "display": null,
            "flex": null,
            "flex_flow": null,
            "grid_area": null,
            "grid_auto_columns": null,
            "grid_auto_flow": null,
            "grid_auto_rows": null,
            "grid_column": null,
            "grid_gap": null,
            "grid_row": null,
            "grid_template_areas": null,
            "grid_template_columns": null,
            "grid_template_rows": null,
            "height": null,
            "justify_content": null,
            "justify_items": null,
            "left": null,
            "margin": null,
            "max_height": null,
            "max_width": null,
            "min_height": null,
            "min_width": null,
            "object_fit": null,
            "object_position": null,
            "order": null,
            "overflow": null,
            "overflow_x": null,
            "overflow_y": null,
            "padding": null,
            "right": null,
            "top": null,
            "visibility": null,
            "width": null
          }
        },
        "762a4d44e6684ed48a9ffe34dd417d36": {
          "model_module": "@jupyter-widgets/controls",
          "model_module_version": "1.5.0",
          "model_name": "DescriptionStyleModel",
          "state": {
            "_model_module": "@jupyter-widgets/controls",
            "_model_module_version": "1.5.0",
            "_model_name": "DescriptionStyleModel",
            "_view_count": null,
            "_view_module": "@jupyter-widgets/base",
            "_view_module_version": "1.2.0",
            "_view_name": "StyleView",
            "description_width": ""
          }
        },
        "7a1135125d294c86be17e24c587c33ac": {
          "model_module": "@jupyter-widgets/controls",
          "model_module_version": "1.5.0",
          "model_name": "DescriptionStyleModel",
          "state": {
            "_model_module": "@jupyter-widgets/controls",
            "_model_module_version": "1.5.0",
            "_model_name": "DescriptionStyleModel",
            "_view_count": null,
            "_view_module": "@jupyter-widgets/base",
            "_view_module_version": "1.2.0",
            "_view_name": "StyleView",
            "description_width": ""
          }
        },
        "7a5f7f206c304f63ba0b31587e10b1f8": {
          "model_module": "@jupyter-widgets/controls",
          "model_module_version": "1.5.0",
          "model_name": "FloatProgressModel",
          "state": {
            "_dom_classes": [],
            "_model_module": "@jupyter-widgets/controls",
            "_model_module_version": "1.5.0",
            "_model_name": "FloatProgressModel",
            "_view_count": null,
            "_view_module": "@jupyter-widgets/controls",
            "_view_module_version": "1.5.0",
            "_view_name": "ProgressView",
            "bar_style": "success",
            "description": "",
            "description_tooltip": null,
            "layout": "IPY_MODEL_668391f6093c4be881fefe3eeaee01da",
            "max": 440449768,
            "min": 0,
            "orientation": "horizontal",
            "style": "IPY_MODEL_8646b36196454762a30f32680a91533d",
            "value": 440449768
          }
        },
        "84f44247a9064b64ad03d02ac1bd370d": {
          "model_module": "@jupyter-widgets/controls",
          "model_module_version": "1.5.0",
          "model_name": "HTMLModel",
          "state": {
            "_dom_classes": [],
            "_model_module": "@jupyter-widgets/controls",
            "_model_module_version": "1.5.0",
            "_model_name": "HTMLModel",
            "_view_count": null,
            "_view_module": "@jupyter-widgets/controls",
            "_view_module_version": "1.5.0",
            "_view_name": "HTMLView",
            "description": "",
            "description_tooltip": null,
            "layout": "IPY_MODEL_00bcc8513bac49a28f2059e62ac3eb6b",
            "placeholder": "​",
            "style": "IPY_MODEL_c0e900ccf1a544f69e73933a951f5d45",
            "value": " 440M/440M [00:05&lt;00:00, 101MB/s]"
          }
        },
        "8646b36196454762a30f32680a91533d": {
          "model_module": "@jupyter-widgets/controls",
          "model_module_version": "1.5.0",
          "model_name": "ProgressStyleModel",
          "state": {
            "_model_module": "@jupyter-widgets/controls",
            "_model_module_version": "1.5.0",
            "_model_name": "ProgressStyleModel",
            "_view_count": null,
            "_view_module": "@jupyter-widgets/base",
            "_view_module_version": "1.2.0",
            "_view_name": "StyleView",
            "bar_color": null,
            "description_width": ""
          }
        },
        "8709e9c457094bf591d55491fbae6b79": {
          "model_module": "@jupyter-widgets/base",
          "model_module_version": "1.2.0",
          "model_name": "LayoutModel",
          "state": {
            "_model_module": "@jupyter-widgets/base",
            "_model_module_version": "1.2.0",
            "_model_name": "LayoutModel",
            "_view_count": null,
            "_view_module": "@jupyter-widgets/base",
            "_view_module_version": "1.2.0",
            "_view_name": "LayoutView",
            "align_content": null,
            "align_items": null,
            "align_self": null,
            "border": null,
            "bottom": null,
            "display": null,
            "flex": null,
            "flex_flow": null,
            "grid_area": null,
            "grid_auto_columns": null,
            "grid_auto_flow": null,
            "grid_auto_rows": null,
            "grid_column": null,
            "grid_gap": null,
            "grid_row": null,
            "grid_template_areas": null,
            "grid_template_columns": null,
            "grid_template_rows": null,
            "height": null,
            "justify_content": null,
            "justify_items": null,
            "left": null,
            "margin": null,
            "max_height": null,
            "max_width": null,
            "min_height": null,
            "min_width": null,
            "object_fit": null,
            "object_position": null,
            "order": null,
            "overflow": null,
            "overflow_x": null,
            "overflow_y": null,
            "padding": null,
            "right": null,
            "top": null,
            "visibility": null,
            "width": null
          }
        },
        "9176a0df7d9b47c488ffde1be7cb92e3": {
          "model_module": "@jupyter-widgets/controls",
          "model_module_version": "1.5.0",
          "model_name": "FloatProgressModel",
          "state": {
            "_dom_classes": [],
            "_model_module": "@jupyter-widgets/controls",
            "_model_module_version": "1.5.0",
            "_model_name": "FloatProgressModel",
            "_view_count": null,
            "_view_module": "@jupyter-widgets/controls",
            "_view_module_version": "1.5.0",
            "_view_name": "ProgressView",
            "bar_style": "success",
            "description": "",
            "description_tooltip": null,
            "layout": "IPY_MODEL_698a25efa67d4c0eafc01f6b227def03",
            "max": 231508,
            "min": 0,
            "orientation": "horizontal",
            "style": "IPY_MODEL_d0e25dff1af84997b68ab1ca10044a56",
            "value": 231508
          }
        },
        "91ddba0fcafb4779809165f1044deed0": {
          "model_module": "@jupyter-widgets/controls",
          "model_module_version": "1.5.0",
          "model_name": "HTMLModel",
          "state": {
            "_dom_classes": [],
            "_model_module": "@jupyter-widgets/controls",
            "_model_module_version": "1.5.0",
            "_model_name": "HTMLModel",
            "_view_count": null,
            "_view_module": "@jupyter-widgets/controls",
            "_view_module_version": "1.5.0",
            "_view_name": "HTMLView",
            "description": "",
            "description_tooltip": null,
            "layout": "IPY_MODEL_f2ceb94813ca4495ac3c18ab841faf0f",
            "placeholder": "​",
            "style": "IPY_MODEL_6b5e059ed1ac4d6597f74e3779c79e8d",
            "value": "config.json: 100%"
          }
        },
        "9f4c7e1f7be84fb2b2ff7d4d471c7cc8": {
          "model_module": "@jupyter-widgets/base",
          "model_module_version": "1.2.0",
          "model_name": "LayoutModel",
          "state": {
            "_model_module": "@jupyter-widgets/base",
            "_model_module_version": "1.2.0",
            "_model_name": "LayoutModel",
            "_view_count": null,
            "_view_module": "@jupyter-widgets/base",
            "_view_module_version": "1.2.0",
            "_view_name": "LayoutView",
            "align_content": null,
            "align_items": null,
            "align_self": null,
            "border": null,
            "bottom": null,
            "display": null,
            "flex": null,
            "flex_flow": null,
            "grid_area": null,
            "grid_auto_columns": null,
            "grid_auto_flow": null,
            "grid_auto_rows": null,
            "grid_column": null,
            "grid_gap": null,
            "grid_row": null,
            "grid_template_areas": null,
            "grid_template_columns": null,
            "grid_template_rows": null,
            "height": null,
            "justify_content": null,
            "justify_items": null,
            "left": null,
            "margin": null,
            "max_height": null,
            "max_width": null,
            "min_height": null,
            "min_width": null,
            "object_fit": null,
            "object_position": null,
            "order": null,
            "overflow": null,
            "overflow_x": null,
            "overflow_y": null,
            "padding": null,
            "right": null,
            "top": null,
            "visibility": null,
            "width": null
          }
        },
        "a47564a9460c424e9eee45d5a12b7aab": {
          "model_module": "@jupyter-widgets/base",
          "model_module_version": "1.2.0",
          "model_name": "LayoutModel",
          "state": {
            "_model_module": "@jupyter-widgets/base",
            "_model_module_version": "1.2.0",
            "_model_name": "LayoutModel",
            "_view_count": null,
            "_view_module": "@jupyter-widgets/base",
            "_view_module_version": "1.2.0",
            "_view_name": "LayoutView",
            "align_content": null,
            "align_items": null,
            "align_self": null,
            "border": null,
            "bottom": null,
            "display": null,
            "flex": null,
            "flex_flow": null,
            "grid_area": null,
            "grid_auto_columns": null,
            "grid_auto_flow": null,
            "grid_auto_rows": null,
            "grid_column": null,
            "grid_gap": null,
            "grid_row": null,
            "grid_template_areas": null,
            "grid_template_columns": null,
            "grid_template_rows": null,
            "height": null,
            "justify_content": null,
            "justify_items": null,
            "left": null,
            "margin": null,
            "max_height": null,
            "max_width": null,
            "min_height": null,
            "min_width": null,
            "object_fit": null,
            "object_position": null,
            "order": null,
            "overflow": null,
            "overflow_x": null,
            "overflow_y": null,
            "padding": null,
            "right": null,
            "top": null,
            "visibility": null,
            "width": null
          }
        },
        "a858e1a992b4449397d4b24ed27ea6ea": {
          "model_module": "@jupyter-widgets/controls",
          "model_module_version": "1.5.0",
          "model_name": "DescriptionStyleModel",
          "state": {
            "_model_module": "@jupyter-widgets/controls",
            "_model_module_version": "1.5.0",
            "_model_name": "DescriptionStyleModel",
            "_view_count": null,
            "_view_module": "@jupyter-widgets/base",
            "_view_module_version": "1.2.0",
            "_view_name": "StyleView",
            "description_width": ""
          }
        },
        "ad1e26ea229444f3bc2e6974a908628d": {
          "model_module": "@jupyter-widgets/controls",
          "model_module_version": "1.5.0",
          "model_name": "FloatProgressModel",
          "state": {
            "_dom_classes": [],
            "_model_module": "@jupyter-widgets/controls",
            "_model_module_version": "1.5.0",
            "_model_name": "FloatProgressModel",
            "_view_count": null,
            "_view_module": "@jupyter-widgets/controls",
            "_view_module_version": "1.5.0",
            "_view_name": "ProgressView",
            "bar_style": "success",
            "description": "",
            "description_tooltip": null,
            "layout": "IPY_MODEL_9f4c7e1f7be84fb2b2ff7d4d471c7cc8",
            "max": 48,
            "min": 0,
            "orientation": "horizontal",
            "style": "IPY_MODEL_e507fde45ec84f7eaa17dc0135ecbdee",
            "value": 48
          }
        },
        "ada019ab02484dad9ae6e4f77e802ecd": {
          "model_module": "@jupyter-widgets/controls",
          "model_module_version": "1.5.0",
          "model_name": "HTMLModel",
          "state": {
            "_dom_classes": [],
            "_model_module": "@jupyter-widgets/controls",
            "_model_module_version": "1.5.0",
            "_model_name": "HTMLModel",
            "_view_count": null,
            "_view_module": "@jupyter-widgets/controls",
            "_view_module_version": "1.5.0",
            "_view_name": "HTMLView",
            "description": "",
            "description_tooltip": null,
            "layout": "IPY_MODEL_150f00eb463642f98b5aa67da71ca6ce",
            "placeholder": "​",
            "style": "IPY_MODEL_a858e1a992b4449397d4b24ed27ea6ea",
            "value": "tokenizer_config.json: 100%"
          }
        },
        "afea6df425d4414296cd20639ba85186": {
          "model_module": "@jupyter-widgets/controls",
          "model_module_version": "1.5.0",
          "model_name": "DescriptionStyleModel",
          "state": {
            "_model_module": "@jupyter-widgets/controls",
            "_model_module_version": "1.5.0",
            "_model_name": "DescriptionStyleModel",
            "_view_count": null,
            "_view_module": "@jupyter-widgets/base",
            "_view_module_version": "1.2.0",
            "_view_name": "StyleView",
            "description_width": ""
          }
        },
        "b4a4a330fd3245f3b13bd82eb860e3af": {
          "model_module": "@jupyter-widgets/controls",
          "model_module_version": "1.5.0",
          "model_name": "HBoxModel",
          "state": {
            "_dom_classes": [],
            "_model_module": "@jupyter-widgets/controls",
            "_model_module_version": "1.5.0",
            "_model_name": "HBoxModel",
            "_view_count": null,
            "_view_module": "@jupyter-widgets/controls",
            "_view_module_version": "1.5.0",
            "_view_name": "HBoxView",
            "box_style": "",
            "children": [
              "IPY_MODEL_ada019ab02484dad9ae6e4f77e802ecd",
              "IPY_MODEL_ad1e26ea229444f3bc2e6974a908628d",
              "IPY_MODEL_531301075f6d4e52bfb3fe13bcf91756"
            ],
            "layout": "IPY_MODEL_14f2cb7024d045908e88bd8890c1af19"
          }
        },
        "baff90c58196447cbc869c4c367be97e": {
          "model_module": "@jupyter-widgets/controls",
          "model_module_version": "1.5.0",
          "model_name": "HTMLModel",
          "state": {
            "_dom_classes": [],
            "_model_module": "@jupyter-widgets/controls",
            "_model_module_version": "1.5.0",
            "_model_name": "HTMLModel",
            "_view_count": null,
            "_view_module": "@jupyter-widgets/controls",
            "_view_module_version": "1.5.0",
            "_view_name": "HTMLView",
            "description": "",
            "description_tooltip": null,
            "layout": "IPY_MODEL_e0f44a160e614f0b98ee662a1ca6e050",
            "placeholder": "​",
            "style": "IPY_MODEL_16fc724f8bd24190b2bda2d7e368f804",
            "value": "vocab.txt: 100%"
          }
        },
        "c08c8c1e50de4fc2b91af7ce41cf59c1": {
          "model_module": "@jupyter-widgets/base",
          "model_module_version": "1.2.0",
          "model_name": "LayoutModel",
          "state": {
            "_model_module": "@jupyter-widgets/base",
            "_model_module_version": "1.2.0",
            "_model_name": "LayoutModel",
            "_view_count": null,
            "_view_module": "@jupyter-widgets/base",
            "_view_module_version": "1.2.0",
            "_view_name": "LayoutView",
            "align_content": null,
            "align_items": null,
            "align_self": null,
            "border": null,
            "bottom": null,
            "display": null,
            "flex": null,
            "flex_flow": null,
            "grid_area": null,
            "grid_auto_columns": null,
            "grid_auto_flow": null,
            "grid_auto_rows": null,
            "grid_column": null,
            "grid_gap": null,
            "grid_row": null,
            "grid_template_areas": null,
            "grid_template_columns": null,
            "grid_template_rows": null,
            "height": null,
            "justify_content": null,
            "justify_items": null,
            "left": null,
            "margin": null,
            "max_height": null,
            "max_width": null,
            "min_height": null,
            "min_width": null,
            "object_fit": null,
            "object_position": null,
            "order": null,
            "overflow": null,
            "overflow_x": null,
            "overflow_y": null,
            "padding": null,
            "right": null,
            "top": null,
            "visibility": null,
            "width": null
          }
        },
        "c0e900ccf1a544f69e73933a951f5d45": {
          "model_module": "@jupyter-widgets/controls",
          "model_module_version": "1.5.0",
          "model_name": "DescriptionStyleModel",
          "state": {
            "_model_module": "@jupyter-widgets/controls",
            "_model_module_version": "1.5.0",
            "_model_name": "DescriptionStyleModel",
            "_view_count": null,
            "_view_module": "@jupyter-widgets/base",
            "_view_module_version": "1.2.0",
            "_view_name": "StyleView",
            "description_width": ""
          }
        },
        "c4cc552c84b64ac9b506b9b2ae6971c2": {
          "model_module": "@jupyter-widgets/controls",
          "model_module_version": "1.5.0",
          "model_name": "HBoxModel",
          "state": {
            "_dom_classes": [],
            "_model_module": "@jupyter-widgets/controls",
            "_model_module_version": "1.5.0",
            "_model_name": "HBoxModel",
            "_view_count": null,
            "_view_module": "@jupyter-widgets/controls",
            "_view_module_version": "1.5.0",
            "_view_name": "HBoxView",
            "box_style": "",
            "children": [
              "IPY_MODEL_6262218f169b4f8bbe764e37836b7e5d",
              "IPY_MODEL_637f95ee988b40fa8027e5f2066ea6cd",
              "IPY_MODEL_4dd344196d8c46ff8f791384c3e1cb80"
            ],
            "layout": "IPY_MODEL_30890db4172440a8b3e9bf05d43caa36"
          }
        },
        "ca31a09896b54e51a48dbfa385cd39cb": {
          "model_module": "@jupyter-widgets/controls",
          "model_module_version": "1.5.0",
          "model_name": "HBoxModel",
          "state": {
            "_dom_classes": [],
            "_model_module": "@jupyter-widgets/controls",
            "_model_module_version": "1.5.0",
            "_model_name": "HBoxModel",
            "_view_count": null,
            "_view_module": "@jupyter-widgets/controls",
            "_view_module_version": "1.5.0",
            "_view_name": "HBoxView",
            "box_style": "",
            "children": [
              "IPY_MODEL_baff90c58196447cbc869c4c367be97e",
              "IPY_MODEL_9176a0df7d9b47c488ffde1be7cb92e3",
              "IPY_MODEL_47edda0ad0b641698cfdd816dbd9fd5b"
            ],
            "layout": "IPY_MODEL_0f9cdae1c71348e5b416addc388e543b"
          }
        },
        "cbb8a6de714447d6b85edfd510ec999c": {
          "model_module": "@jupyter-widgets/controls",
          "model_module_version": "1.5.0",
          "model_name": "ProgressStyleModel",
          "state": {
            "_model_module": "@jupyter-widgets/controls",
            "_model_module_version": "1.5.0",
            "_model_name": "ProgressStyleModel",
            "_view_count": null,
            "_view_module": "@jupyter-widgets/base",
            "_view_module_version": "1.2.0",
            "_view_name": "StyleView",
            "bar_color": null,
            "description_width": ""
          }
        },
        "d0e25dff1af84997b68ab1ca10044a56": {
          "model_module": "@jupyter-widgets/controls",
          "model_module_version": "1.5.0",
          "model_name": "ProgressStyleModel",
          "state": {
            "_model_module": "@jupyter-widgets/controls",
            "_model_module_version": "1.5.0",
            "_model_name": "ProgressStyleModel",
            "_view_count": null,
            "_view_module": "@jupyter-widgets/base",
            "_view_module_version": "1.2.0",
            "_view_name": "StyleView",
            "bar_color": null,
            "description_width": ""
          }
        },
        "d382ab19fd314d3aaddacf29fd3b0b22": {
          "model_module": "@jupyter-widgets/controls",
          "model_module_version": "1.5.0",
          "model_name": "DescriptionStyleModel",
          "state": {
            "_model_module": "@jupyter-widgets/controls",
            "_model_module_version": "1.5.0",
            "_model_name": "DescriptionStyleModel",
            "_view_count": null,
            "_view_module": "@jupyter-widgets/base",
            "_view_module_version": "1.2.0",
            "_view_name": "StyleView",
            "description_width": ""
          }
        },
        "db7212c98f0846f7ad52633cb45fb4d6": {
          "model_module": "@jupyter-widgets/base",
          "model_module_version": "1.2.0",
          "model_name": "LayoutModel",
          "state": {
            "_model_module": "@jupyter-widgets/base",
            "_model_module_version": "1.2.0",
            "_model_name": "LayoutModel",
            "_view_count": null,
            "_view_module": "@jupyter-widgets/base",
            "_view_module_version": "1.2.0",
            "_view_name": "LayoutView",
            "align_content": null,
            "align_items": null,
            "align_self": null,
            "border": null,
            "bottom": null,
            "display": null,
            "flex": null,
            "flex_flow": null,
            "grid_area": null,
            "grid_auto_columns": null,
            "grid_auto_flow": null,
            "grid_auto_rows": null,
            "grid_column": null,
            "grid_gap": null,
            "grid_row": null,
            "grid_template_areas": null,
            "grid_template_columns": null,
            "grid_template_rows": null,
            "height": null,
            "justify_content": null,
            "justify_items": null,
            "left": null,
            "margin": null,
            "max_height": null,
            "max_width": null,
            "min_height": null,
            "min_width": null,
            "object_fit": null,
            "object_position": null,
            "order": null,
            "overflow": null,
            "overflow_x": null,
            "overflow_y": null,
            "padding": null,
            "right": null,
            "top": null,
            "visibility": null,
            "width": null
          }
        },
        "e0f44a160e614f0b98ee662a1ca6e050": {
          "model_module": "@jupyter-widgets/base",
          "model_module_version": "1.2.0",
          "model_name": "LayoutModel",
          "state": {
            "_model_module": "@jupyter-widgets/base",
            "_model_module_version": "1.2.0",
            "_model_name": "LayoutModel",
            "_view_count": null,
            "_view_module": "@jupyter-widgets/base",
            "_view_module_version": "1.2.0",
            "_view_name": "LayoutView",
            "align_content": null,
            "align_items": null,
            "align_self": null,
            "border": null,
            "bottom": null,
            "display": null,
            "flex": null,
            "flex_flow": null,
            "grid_area": null,
            "grid_auto_columns": null,
            "grid_auto_flow": null,
            "grid_auto_rows": null,
            "grid_column": null,
            "grid_gap": null,
            "grid_row": null,
            "grid_template_areas": null,
            "grid_template_columns": null,
            "grid_template_rows": null,
            "height": null,
            "justify_content": null,
            "justify_items": null,
            "left": null,
            "margin": null,
            "max_height": null,
            "max_width": null,
            "min_height": null,
            "min_width": null,
            "object_fit": null,
            "object_position": null,
            "order": null,
            "overflow": null,
            "overflow_x": null,
            "overflow_y": null,
            "padding": null,
            "right": null,
            "top": null,
            "visibility": null,
            "width": null
          }
        },
        "e507fde45ec84f7eaa17dc0135ecbdee": {
          "model_module": "@jupyter-widgets/controls",
          "model_module_version": "1.5.0",
          "model_name": "ProgressStyleModel",
          "state": {
            "_model_module": "@jupyter-widgets/controls",
            "_model_module_version": "1.5.0",
            "_model_name": "ProgressStyleModel",
            "_view_count": null,
            "_view_module": "@jupyter-widgets/base",
            "_view_module_version": "1.2.0",
            "_view_name": "StyleView",
            "bar_color": null,
            "description_width": ""
          }
        },
        "f2ceb94813ca4495ac3c18ab841faf0f": {
          "model_module": "@jupyter-widgets/base",
          "model_module_version": "1.2.0",
          "model_name": "LayoutModel",
          "state": {
            "_model_module": "@jupyter-widgets/base",
            "_model_module_version": "1.2.0",
            "_model_name": "LayoutModel",
            "_view_count": null,
            "_view_module": "@jupyter-widgets/base",
            "_view_module_version": "1.2.0",
            "_view_name": "LayoutView",
            "align_content": null,
            "align_items": null,
            "align_self": null,
            "border": null,
            "bottom": null,
            "display": null,
            "flex": null,
            "flex_flow": null,
            "grid_area": null,
            "grid_auto_columns": null,
            "grid_auto_flow": null,
            "grid_auto_rows": null,
            "grid_column": null,
            "grid_gap": null,
            "grid_row": null,
            "grid_template_areas": null,
            "grid_template_columns": null,
            "grid_template_rows": null,
            "height": null,
            "justify_content": null,
            "justify_items": null,
            "left": null,
            "margin": null,
            "max_height": null,
            "max_width": null,
            "min_height": null,
            "min_width": null,
            "object_fit": null,
            "object_position": null,
            "order": null,
            "overflow": null,
            "overflow_x": null,
            "overflow_y": null,
            "padding": null,
            "right": null,
            "top": null,
            "visibility": null,
            "width": null
          }
        },
        "f2d0e714bd8c40d2ad7040bf50368e0a": {
          "model_module": "@jupyter-widgets/controls",
          "model_module_version": "1.5.0",
          "model_name": "HTMLModel",
          "state": {
            "_dom_classes": [],
            "_model_module": "@jupyter-widgets/controls",
            "_model_module_version": "1.5.0",
            "_model_name": "HTMLModel",
            "_view_count": null,
            "_view_module": "@jupyter-widgets/controls",
            "_view_module_version": "1.5.0",
            "_view_name": "HTMLView",
            "description": "",
            "description_tooltip": null,
            "layout": "IPY_MODEL_1ca8563a0e4441a880b1156d981eeca2",
            "placeholder": "​",
            "style": "IPY_MODEL_68ed7b9da2a540a1be1a8e12144ad27b",
            "value": "model.safetensors: 100%"
          }
        },
        "f64c5dc6655c4c0f8a25f8440ad7724c": {
          "model_module": "@jupyter-widgets/controls",
          "model_module_version": "1.5.0",
          "model_name": "FloatProgressModel",
          "state": {
            "_dom_classes": [],
            "_model_module": "@jupyter-widgets/controls",
            "_model_module_version": "1.5.0",
            "_model_name": "FloatProgressModel",
            "_view_count": null,
            "_view_module": "@jupyter-widgets/controls",
            "_view_module_version": "1.5.0",
            "_view_name": "ProgressView",
            "bar_style": "success",
            "description": "",
            "description_tooltip": null,
            "layout": "IPY_MODEL_2689392552f74001b907f4b88444cae8",
            "max": 570,
            "min": 0,
            "orientation": "horizontal",
            "style": "IPY_MODEL_6b24c3d42dde49ba894e83180604be12",
            "value": 570
          }
        }
      }
    }
  },
  "nbformat": 4,
  "nbformat_minor": 5
}
